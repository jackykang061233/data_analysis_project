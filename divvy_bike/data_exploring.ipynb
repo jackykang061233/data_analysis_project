{
 "cells": [
  {
   "cell_type": "code",
   "execution_count": 87,
   "metadata": {},
   "outputs": [],
   "source": [
    "import pandas as pd\n",
    "\n",
    "from datetime import datetime\n",
    "from geopy import distance"
   ]
  },
  {
   "cell_type": "markdown",
   "metadata": {},
   "source": [
    "# Load data\n",
    "In this step I load the first csv from 202207 and try to understand the format of the data."
   ]
  },
  {
   "cell_type": "markdown",
   "metadata": {},
   "source": []
  },
  {
   "cell_type": "code",
   "execution_count": 2,
   "metadata": {},
   "outputs": [
    {
     "data": {
      "text/html": [
       "<div>\n",
       "<style scoped>\n",
       "    .dataframe tbody tr th:only-of-type {\n",
       "        vertical-align: middle;\n",
       "    }\n",
       "\n",
       "    .dataframe tbody tr th {\n",
       "        vertical-align: top;\n",
       "    }\n",
       "\n",
       "    .dataframe thead th {\n",
       "        text-align: right;\n",
       "    }\n",
       "</style>\n",
       "<table border=\"1\" class=\"dataframe\">\n",
       "  <thead>\n",
       "    <tr style=\"text-align: right;\">\n",
       "      <th></th>\n",
       "      <th>ride_id</th>\n",
       "      <th>rideable_type</th>\n",
       "      <th>started_at</th>\n",
       "      <th>ended_at</th>\n",
       "      <th>start_station_name</th>\n",
       "      <th>start_station_id</th>\n",
       "      <th>end_station_name</th>\n",
       "      <th>end_station_id</th>\n",
       "      <th>start_lat</th>\n",
       "      <th>start_lng</th>\n",
       "      <th>end_lat</th>\n",
       "      <th>end_lng</th>\n",
       "      <th>member_casual</th>\n",
       "    </tr>\n",
       "  </thead>\n",
       "  <tbody>\n",
       "    <tr>\n",
       "      <th>0</th>\n",
       "      <td>954144C2F67B1932</td>\n",
       "      <td>classic_bike</td>\n",
       "      <td>2022-07-05 08:12:47</td>\n",
       "      <td>2022-07-05 08:24:32</td>\n",
       "      <td>Ashland Ave &amp; Blackhawk St</td>\n",
       "      <td>13224</td>\n",
       "      <td>Kingsbury St &amp; Kinzie St</td>\n",
       "      <td>KA1503000043</td>\n",
       "      <td>41.907066</td>\n",
       "      <td>-87.667252</td>\n",
       "      <td>41.889177</td>\n",
       "      <td>-87.638506</td>\n",
       "      <td>member</td>\n",
       "    </tr>\n",
       "    <tr>\n",
       "      <th>1</th>\n",
       "      <td>292E027607D218B6</td>\n",
       "      <td>classic_bike</td>\n",
       "      <td>2022-07-26 12:53:38</td>\n",
       "      <td>2022-07-26 12:55:31</td>\n",
       "      <td>Buckingham Fountain (Temp)</td>\n",
       "      <td>15541</td>\n",
       "      <td>Michigan Ave &amp; 8th St</td>\n",
       "      <td>623</td>\n",
       "      <td>41.869621</td>\n",
       "      <td>-87.623981</td>\n",
       "      <td>41.872773</td>\n",
       "      <td>-87.623981</td>\n",
       "      <td>casual</td>\n",
       "    </tr>\n",
       "    <tr>\n",
       "      <th>2</th>\n",
       "      <td>57765852588AD6E0</td>\n",
       "      <td>classic_bike</td>\n",
       "      <td>2022-07-03 13:58:49</td>\n",
       "      <td>2022-07-03 14:06:32</td>\n",
       "      <td>Buckingham Fountain (Temp)</td>\n",
       "      <td>15541</td>\n",
       "      <td>Michigan Ave &amp; 8th St</td>\n",
       "      <td>623</td>\n",
       "      <td>41.869621</td>\n",
       "      <td>-87.623981</td>\n",
       "      <td>41.872773</td>\n",
       "      <td>-87.623981</td>\n",
       "      <td>casual</td>\n",
       "    </tr>\n",
       "    <tr>\n",
       "      <th>3</th>\n",
       "      <td>B5B6BE44314590E6</td>\n",
       "      <td>classic_bike</td>\n",
       "      <td>2022-07-31 17:44:21</td>\n",
       "      <td>2022-07-31 18:42:50</td>\n",
       "      <td>Buckingham Fountain (Temp)</td>\n",
       "      <td>15541</td>\n",
       "      <td>Woodlawn Ave &amp; 55th St</td>\n",
       "      <td>TA1307000164</td>\n",
       "      <td>41.869621</td>\n",
       "      <td>-87.623981</td>\n",
       "      <td>41.795264</td>\n",
       "      <td>-87.596471</td>\n",
       "      <td>casual</td>\n",
       "    </tr>\n",
       "    <tr>\n",
       "      <th>4</th>\n",
       "      <td>A4C331F2A00E79E0</td>\n",
       "      <td>classic_bike</td>\n",
       "      <td>2022-07-13 19:49:06</td>\n",
       "      <td>2022-07-13 20:15:24</td>\n",
       "      <td>Wabash Ave &amp; Grand Ave</td>\n",
       "      <td>TA1307000117</td>\n",
       "      <td>Sheffield Ave &amp; Wellington Ave</td>\n",
       "      <td>TA1307000052</td>\n",
       "      <td>41.891466</td>\n",
       "      <td>-87.626761</td>\n",
       "      <td>41.936253</td>\n",
       "      <td>-87.652662</td>\n",
       "      <td>member</td>\n",
       "    </tr>\n",
       "    <tr>\n",
       "      <th>5</th>\n",
       "      <td>579D73BE2ED880B3</td>\n",
       "      <td>electric_bike</td>\n",
       "      <td>2022-07-01 17:04:35</td>\n",
       "      <td>2022-07-01 17:13:18</td>\n",
       "      <td>Desplaines St &amp; Randolph St</td>\n",
       "      <td>15535</td>\n",
       "      <td>Clinton St &amp; Roosevelt Rd</td>\n",
       "      <td>WL-008</td>\n",
       "      <td>41.884614</td>\n",
       "      <td>-87.644564</td>\n",
       "      <td>41.867118</td>\n",
       "      <td>-87.641088</td>\n",
       "      <td>member</td>\n",
       "    </tr>\n",
       "    <tr>\n",
       "      <th>6</th>\n",
       "      <td>EFE518CCEE333669</td>\n",
       "      <td>classic_bike</td>\n",
       "      <td>2022-07-18 18:11:01</td>\n",
       "      <td>2022-07-18 18:22:30</td>\n",
       "      <td>Marquette Ave &amp; 89th St</td>\n",
       "      <td>20239</td>\n",
       "      <td>East End Ave &amp; 87th St</td>\n",
       "      <td>20231</td>\n",
       "      <td>41.733669</td>\n",
       "      <td>-87.558342</td>\n",
       "      <td>41.736815</td>\n",
       "      <td>-87.582801</td>\n",
       "      <td>member</td>\n",
       "    </tr>\n",
       "    <tr>\n",
       "      <th>7</th>\n",
       "      <td>315FEBB7B3F6D2EA</td>\n",
       "      <td>classic_bike</td>\n",
       "      <td>2022-07-28 20:38:18</td>\n",
       "      <td>2022-07-28 21:09:11</td>\n",
       "      <td>Wabash Ave &amp; Grand Ave</td>\n",
       "      <td>TA1307000117</td>\n",
       "      <td>Dearborn Pkwy &amp; Delaware Pl</td>\n",
       "      <td>TA1307000128</td>\n",
       "      <td>41.891466</td>\n",
       "      <td>-87.626761</td>\n",
       "      <td>41.898969</td>\n",
       "      <td>-87.629912</td>\n",
       "      <td>casual</td>\n",
       "    </tr>\n",
       "    <tr>\n",
       "      <th>8</th>\n",
       "      <td>EE3C4A1E66766B56</td>\n",
       "      <td>classic_bike</td>\n",
       "      <td>2022-07-10 22:55:59</td>\n",
       "      <td>2022-07-10 23:01:32</td>\n",
       "      <td>Wabash Ave &amp; Grand Ave</td>\n",
       "      <td>TA1307000117</td>\n",
       "      <td>Dearborn Pkwy &amp; Delaware Pl</td>\n",
       "      <td>TA1307000128</td>\n",
       "      <td>41.891466</td>\n",
       "      <td>-87.626761</td>\n",
       "      <td>41.898969</td>\n",
       "      <td>-87.629912</td>\n",
       "      <td>member</td>\n",
       "    </tr>\n",
       "    <tr>\n",
       "      <th>9</th>\n",
       "      <td>1EE6C93A547A187C</td>\n",
       "      <td>electric_bike</td>\n",
       "      <td>2022-07-10 09:35:58</td>\n",
       "      <td>2022-07-10 09:47:25</td>\n",
       "      <td>Ashland Ave &amp; Blackhawk St</td>\n",
       "      <td>13224</td>\n",
       "      <td>Orleans St &amp; Merchandise Mart Plaza</td>\n",
       "      <td>TA1305000022</td>\n",
       "      <td>41.907093</td>\n",
       "      <td>-87.667247</td>\n",
       "      <td>41.888243</td>\n",
       "      <td>-87.636390</td>\n",
       "      <td>member</td>\n",
       "    </tr>\n",
       "  </tbody>\n",
       "</table>\n",
       "</div>"
      ],
      "text/plain": [
       "            ride_id  rideable_type           started_at             ended_at  \\\n",
       "0  954144C2F67B1932   classic_bike  2022-07-05 08:12:47  2022-07-05 08:24:32   \n",
       "1  292E027607D218B6   classic_bike  2022-07-26 12:53:38  2022-07-26 12:55:31   \n",
       "2  57765852588AD6E0   classic_bike  2022-07-03 13:58:49  2022-07-03 14:06:32   \n",
       "3  B5B6BE44314590E6   classic_bike  2022-07-31 17:44:21  2022-07-31 18:42:50   \n",
       "4  A4C331F2A00E79E0   classic_bike  2022-07-13 19:49:06  2022-07-13 20:15:24   \n",
       "5  579D73BE2ED880B3  electric_bike  2022-07-01 17:04:35  2022-07-01 17:13:18   \n",
       "6  EFE518CCEE333669   classic_bike  2022-07-18 18:11:01  2022-07-18 18:22:30   \n",
       "7  315FEBB7B3F6D2EA   classic_bike  2022-07-28 20:38:18  2022-07-28 21:09:11   \n",
       "8  EE3C4A1E66766B56   classic_bike  2022-07-10 22:55:59  2022-07-10 23:01:32   \n",
       "9  1EE6C93A547A187C  electric_bike  2022-07-10 09:35:58  2022-07-10 09:47:25   \n",
       "\n",
       "            start_station_name start_station_id  \\\n",
       "0   Ashland Ave & Blackhawk St            13224   \n",
       "1   Buckingham Fountain (Temp)            15541   \n",
       "2   Buckingham Fountain (Temp)            15541   \n",
       "3   Buckingham Fountain (Temp)            15541   \n",
       "4       Wabash Ave & Grand Ave     TA1307000117   \n",
       "5  Desplaines St & Randolph St            15535   \n",
       "6      Marquette Ave & 89th St            20239   \n",
       "7       Wabash Ave & Grand Ave     TA1307000117   \n",
       "8       Wabash Ave & Grand Ave     TA1307000117   \n",
       "9   Ashland Ave & Blackhawk St            13224   \n",
       "\n",
       "                      end_station_name end_station_id  start_lat  start_lng  \\\n",
       "0             Kingsbury St & Kinzie St   KA1503000043  41.907066 -87.667252   \n",
       "1                Michigan Ave & 8th St            623  41.869621 -87.623981   \n",
       "2                Michigan Ave & 8th St            623  41.869621 -87.623981   \n",
       "3               Woodlawn Ave & 55th St   TA1307000164  41.869621 -87.623981   \n",
       "4       Sheffield Ave & Wellington Ave   TA1307000052  41.891466 -87.626761   \n",
       "5            Clinton St & Roosevelt Rd         WL-008  41.884614 -87.644564   \n",
       "6               East End Ave & 87th St          20231  41.733669 -87.558342   \n",
       "7          Dearborn Pkwy & Delaware Pl   TA1307000128  41.891466 -87.626761   \n",
       "8          Dearborn Pkwy & Delaware Pl   TA1307000128  41.891466 -87.626761   \n",
       "9  Orleans St & Merchandise Mart Plaza   TA1305000022  41.907093 -87.667247   \n",
       "\n",
       "     end_lat    end_lng member_casual  \n",
       "0  41.889177 -87.638506        member  \n",
       "1  41.872773 -87.623981        casual  \n",
       "2  41.872773 -87.623981        casual  \n",
       "3  41.795264 -87.596471        casual  \n",
       "4  41.936253 -87.652662        member  \n",
       "5  41.867118 -87.641088        member  \n",
       "6  41.736815 -87.582801        member  \n",
       "7  41.898969 -87.629912        casual  \n",
       "8  41.898969 -87.629912        member  \n",
       "9  41.888243 -87.636390        member  "
      ]
     },
     "execution_count": 2,
     "metadata": {},
     "output_type": "execute_result"
    }
   ],
   "source": [
    "df = pd.read_csv(\"/Users/kangchieh/Project/divvy_bike/data/divvy_202207-202306/csv/202207-divvy-tripdata.csv\")\n",
    "df.head(10)"
   ]
  },
  {
   "cell_type": "markdown",
   "metadata": {},
   "source": [
    "# Missing values"
   ]
  },
  {
   "cell_type": "code",
   "execution_count": 3,
   "metadata": {},
   "outputs": [
    {
     "name": "stdout",
     "output_type": "stream",
     "text": [
      "<class 'pandas.core.frame.DataFrame'>\n",
      "RangeIndex: 823488 entries, 0 to 823487\n",
      "Data columns (total 13 columns):\n",
      " #   Column              Non-Null Count   Dtype  \n",
      "---  ------              --------------   -----  \n",
      " 0   ride_id             823488 non-null  object \n",
      " 1   rideable_type       823488 non-null  object \n",
      " 2   started_at          823488 non-null  object \n",
      " 3   ended_at            823488 non-null  object \n",
      " 4   start_station_name  711457 non-null  object \n",
      " 5   start_station_id    711457 non-null  object \n",
      " 6   end_station_name    702537 non-null  object \n",
      " 7   end_station_id      702537 non-null  object \n",
      " 8   start_lat           823488 non-null  float64\n",
      " 9   start_lng           823488 non-null  float64\n",
      " 10  end_lat             822541 non-null  float64\n",
      " 11  end_lng             822541 non-null  float64\n",
      " 12  member_casual       823488 non-null  object \n",
      "dtypes: float64(4), object(9)\n",
      "memory usage: 81.7+ MB\n"
     ]
    }
   ],
   "source": [
    "df.info() # see how many nulls do we have in each columns"
   ]
  },
  {
   "cell_type": "markdown",
   "metadata": {},
   "source": [
    "## Conclusion\n",
    "As we can see there are missing values in the columns: start_station_name, start_station_id, end_station_name, end_station_id, end_lat, end_lng"
   ]
  },
  {
   "cell_type": "markdown",
   "metadata": {},
   "source": [
    "# Data validity"
   ]
  },
  {
   "cell_type": "markdown",
   "metadata": {},
   "source": [
    "## Check if the length of ride id is equal to 16"
   ]
  },
  {
   "cell_type": "code",
   "execution_count": 74,
   "metadata": {},
   "outputs": [
    {
     "name": "stdout",
     "output_type": "stream",
     "text": [
      "There are 0 id does not have length of 16\n"
     ]
    }
   ],
   "source": [
    "def len_rideid(id):\n",
    "    return len(id)==16\n",
    "\n",
    "print(f\"There are {(-df['ride_id'].apply(len_rideid)).sum()} id does not have length of 16\")"
   ]
  },
  {
   "cell_type": "markdown",
   "metadata": {},
   "source": [
    "## Check the categories of bikes "
   ]
  },
  {
   "cell_type": "code",
   "execution_count": 5,
   "metadata": {},
   "outputs": [
    {
     "name": "stdout",
     "output_type": "stream",
     "text": [
      "Types of bikes: ['classic_bike' 'electric_bike' 'docked_bike']\n"
     ]
    }
   ],
   "source": [
    "print(f\"Types of bikes: {df['rideable_type'].unique()}\")"
   ]
  },
  {
   "cell_type": "markdown",
   "metadata": {},
   "source": [
    "## Check if started_at, ended_at are in time format\t"
   ]
  },
  {
   "cell_type": "code",
   "execution_count": 6,
   "metadata": {},
   "outputs": [
    {
     "name": "stdout",
     "output_type": "stream",
     "text": [
      "There are 0 values in started_at that are not in time format\n"
     ]
    }
   ],
   "source": [
    "df[\"started_at\"] = pd.to_datetime(df[\"started_at\"], errors='coerce')\n",
    "print(f\"There are {(-df['started_at'].dt.time.notna()).sum()} values in started_at that are not in time format\")"
   ]
  },
  {
   "cell_type": "code",
   "execution_count": 7,
   "metadata": {},
   "outputs": [
    {
     "name": "stdout",
     "output_type": "stream",
     "text": [
      "There are 0 values in ended_at that are not in time format\n"
     ]
    }
   ],
   "source": [
    "df[\"ended_at\"] = pd.to_datetime(df[\"ended_at\"], errors='coerce')\n",
    "print(f\"There are {(-df['ended_at'].dt.time.notna()).sum()} values in ended_at that are not in time format\")"
   ]
  },
  {
   "cell_type": "markdown",
   "metadata": {},
   "source": [
    "## Check latitude and longitude"
   ]
  },
  {
   "cell_type": "code",
   "execution_count": 8,
   "metadata": {},
   "outputs": [
    {
     "name": "stdout",
     "output_type": "stream",
     "text": [
      "There are 0 values in start_lat that do not match the format\n",
      "There are 0 values in start_lng that do not match the format\n",
      "There are 947 values in end_lat that do not match the format\n",
      "There are 947 values in end_lng that do not match the format\n"
     ]
    }
   ],
   "source": [
    "print(f\"There are {(-df['start_lat'].between(-90, 90)).sum()} values in start_lat that do not match the format\")\n",
    "print(f\"There are {(-df['start_lng'].between(-180, 180)).sum()} values in start_lng that do not match the format\")\n",
    "print(f\"There are {(-df['end_lat'].between(-90, 90)).sum()} values in end_lat that do not match the format\")\n",
    "print(f\"There are {(-df['end_lng'].between(-180, 180)).sum()} values in end_lng that do not match the format\")"
   ]
  },
  {
   "cell_type": "code",
   "execution_count": 86,
   "metadata": {},
   "outputs": [
    {
     "name": "stdout",
     "output_type": "stream",
     "text": [
      "There are 0 not null end_lat values\n",
      "There are 0 not null end_lng valuest\n"
     ]
    }
   ],
   "source": [
    "# the values that do not match the format are nan values\n",
    "print(f\"There are {df['end_lat'][-df['end_lat'].between(-180, 180)].notnull().sum()} not null end_lat values\")\n",
    "print(f\"There are {df['end_lng'][-df['end_lng'].between(-180, 180)].notnull().sum()} not null end_lng valuest\")\n"
   ]
  },
  {
   "cell_type": "markdown",
   "metadata": {},
   "source": [
    "## Check the categories of member_casual"
   ]
  },
  {
   "cell_type": "code",
   "execution_count": 10,
   "metadata": {},
   "outputs": [
    {
     "name": "stdout",
     "output_type": "stream",
     "text": [
      "Categories of member_casual: ['member' 'casual']\n"
     ]
    }
   ],
   "source": [
    "print(f\"Categories of member_casual: {df['member_casual'].unique()}\")"
   ]
  },
  {
   "cell_type": "markdown",
   "metadata": {},
   "source": [
    "## Check if there is two stations with same id but different name (misspell...)"
   ]
  },
  {
   "cell_type": "code",
   "execution_count": 73,
   "metadata": {},
   "outputs": [
    {
     "name": "stderr",
     "output_type": "stream",
     "text": [
      "/var/folders/95/lczm9_vd3899jm27hx7pnk580000gn/T/ipykernel_4775/3991798671.py:14: FutureWarning: Indexing with multiple keys (implicitly converted to a tuple of keys) will be deprecated, use a list instead.\n",
      "  stations_df_lat_lng = stations_df.groupby(['name', 'id'])['lat', 'lng'].agg(lambda x: pd.Series.mode(x)[0])\n"
     ]
    }
   ],
   "source": [
    "# create a dataframe with a lists of stations\n",
    "start = df.loc[:,[\"start_station_name\",\t\"start_station_id\", \"start_lat\", \"start_lng\"]]\n",
    "end = df.loc[:,[\"end_station_name\", \"end_station_id\", \"end_lat\", \"end_lng\"]]\n",
    "stations_df = pd.concat([start.rename(columns={'start_station_name':'name', 'start_station_id': 'id', 'start_lat': 'lat', 'start_lng': 'lng'}), end.rename(columns={'end_station_name':'name', 'end_station_id': 'id', 'end_lat': 'lat', 'end_lng': 'lng'})])\n",
    "\n",
    "# find if a id matches two different station names\n",
    "result = stations_df.groupby('id')['name'].nunique() > 1\n",
    "rows_with_different_names = stations_df[stations_df['id'].isin(result[result].index)]\n",
    "\n",
    "# keep only one instance\n",
    "stations_df_drop = rows_with_different_names[['name', 'id']].drop_duplicates()\n",
    "\n",
    "# get the latitude and longitude for stations by taking the mode\n",
    "stations_df_lat_lng = stations_df.groupby(['name', 'id'])['lat', 'lng'].agg(lambda x: pd.Series.mode(x)[0])\n",
    "\n",
    "# get a list of ids\n",
    "id_list = stations_df['id'].unique()"
   ]
  },
  {
   "cell_type": "code",
   "execution_count": 88,
   "metadata": {},
   "outputs": [],
   "source": [
    "# decide if two station names with same id are indeed the same by calculating their distance\n",
    "modify = {\"change_name\": {}, \"change_id\": {}} # change_name: distance is less than 50 meters, so we only need to change name, change_id: distance is greater than 50 meters\n",
    "for id, name in stations_df_drop.groupby('id', as_index=False)['name']:\n",
    "    distances = distance.distance(stations_df_lat_lng.loc[(name.values[0], id)].values, stations_df_lat_lng.loc[(name.values[1], id)].values).km\n",
    "    if distances <= 0.05:\n",
    "        modify[\"change_name\"][id] = name.values[0]\n",
    "    else:\n",
    "        modify[\"change_id\"][name.values[0]] = \"A\" + id + \"-1\" # create new id "
   ]
  },
  {
   "cell_type": "code",
   "execution_count": 89,
   "metadata": {},
   "outputs": [
    {
     "data": {
      "text/plain": [
       "{'change_name': {'13053': 'Green St & Randolph St',\n",
       "  'TA1306000015': 'Morgan St & Lake St'},\n",
       " 'change_id': {'Bissell St & Armitage Ave': 'A13059-1',\n",
       "  'Ridge Blvd & Howard St': 'A514-1',\n",
       "  'Paulina St & Howard St': 'A515-1',\n",
       "  'Clark St & Jarvis Ave': 'A517-1',\n",
       "  'Public Rack - Keystone Ave & North Ave': 'A518-1',\n",
       "  'Wolcott Ave & Fargo Ave': 'A519-1',\n",
       "  'Greenview Ave & Jarvis Ave': 'A520-1',\n",
       "  'Eastlake Ter & Rogers Ave': 'A523-1',\n",
       "  'Glenwood Ave & Touhy Ave': 'A525-1',\n",
       "  'Western Ave & Howard St': 'A527-1',\n",
       "  'Pulaski Rd & Lake St': 'A528-1',\n",
       "  'Pulaski Rd & Congress Pkwy': 'A535-1',\n",
       "  'Kostner Ave & Lake St': 'A536-1',\n",
       "  'Laramie Ave & Madison St': 'A540-1',\n",
       "  'Public Rack - Cicero Ave & Roscoe St': 'A543-1',\n",
       "  'Kostner Ave & Adams St': 'A545-1',\n",
       "  'Public Rack - Cicero Ave & Wellington Ave': 'A546-1',\n",
       "  'Marshfield Ave & 44th St': 'A549-1',\n",
       "  'Elizabeth St & 47th St': 'A553-1',\n",
       "  'Damen Ave & 51st St': 'A554-1',\n",
       "  'Throop St & 52nd St': 'A556-1',\n",
       "  'Racine Ave & Garfield Blvd': 'A559-1',\n",
       "  'Marshfield Ave & 59th St': 'A560-1',\n",
       "  'Public Rack - Melvina Ave & Belmont Ave': 'A561-1',\n",
       "  'Racine Ave & 61st St': 'A562-1',\n",
       "  'Racine Ave & 65th St': 'A564-1',\n",
       "  'May St & 69th St': 'A567-1',\n",
       "  'Woodlawn Ave & 75th St': 'A569-1',\n",
       "  'Evans Ave & 75th St': 'A570-1',\n",
       "  'Public Rack - Austin Blvd & North Ave': 'A571-1',\n",
       "  'Hiawatha Park': 'A572-1',\n",
       "  'State St & 79th St': 'A573-1',\n",
       "  'Vernon Ave & 79th St': 'A574-1',\n",
       "  'Cottage Grove Ave & 78th St': 'A575-1',\n",
       "  'Greenwood Ave & 79th St': 'A576-1',\n",
       "  'Stony Island Ave & South Chicago Ave': 'A577-1',\n",
       "  'Phillips Ave & 79th St': 'A579-1',\n",
       "  'Ellis Ave & 83rd St': 'A584-1',\n",
       "  'South Chicago Ave & 83rd St': 'A588-1',\n",
       "  'Kilbourn Ave & Irving Park Rd': 'A590-1',\n",
       "  'Wabash Ave & 87th St': 'A595-1',\n",
       "  'Benson Ave & Church St': 'A596-1',\n",
       "  'Valli Produce - Evanston Plaza': 'A599-1',\n",
       "  'Ewing Ave & 112th St': 'A600-1',\n",
       "  'Sheridan Rd & Noyes St (NU)': 'A604-1',\n",
       "  'Dearborn St & Van Buren St': 'A624-1',\n",
       "  'Latrobe Ave & Chicago Ave': 'A642-1',\n",
       "  'Smith Park': 'A643-1',\n",
       "  'Western Ave & Fillmore St': 'A644-1',\n",
       "  'State St & 54th St': 'A646-1',\n",
       "  'Stewart Ave & 63rd St': 'A649-1',\n",
       "  'Eggleston Ave & 69th St': 'A650-1',\n",
       "  'Michigan Ave & 71st St': 'A651-1',\n",
       "  'Loomis Blvd & 83rd St': 'A653-1',\n",
       "  'Hoyne Ave & Balmoral Ave': 'A655-1',\n",
       "  'Wood St & Augusta Blvd': 'A657-1',\n",
       "  'Leavitt St & Division St': 'A658-1',\n",
       "  'Evanston Civic Center': 'A661-1',\n",
       "  'Dodge Ave & Mulford St': 'A662-1',\n",
       "  'WEST CHI-WATSON': 'ADIVVY 001 - Warehouse test station-1',\n",
       "  'Base - 2132 W Hubbard': 'AHubbard Bike-checking (LBS-WH-TEST)-1',\n",
       "  'Lincoln Ave & Roscoe St': 'ATA1307000138-1'}}"
      ]
     },
     "execution_count": 89,
     "metadata": {},
     "output_type": "execute_result"
    }
   ],
   "source": [
    "modify"
   ]
  },
  {
   "cell_type": "code",
   "execution_count": 98,
   "metadata": {},
   "outputs": [],
   "source": [
    "for item in modify['change_name'].items():\n",
    "    df1.loc[df1['start_station_id'] == item[0], 'start_station_name'] = item[1]\n",
    "    df1.loc[df1['end_station_id'] == item[0], 'end_station_name'] = item[1]"
   ]
  },
  {
   "cell_type": "code",
   "execution_count": 106,
   "metadata": {},
   "outputs": [],
   "source": [
    "for item in modify['change_id'].items():\n",
    "    df1.loc[df1['start_station_name'] == item[0], 'start_station_id'] = item[1]\n",
    "    df1.loc[df1['end_station_name'] == item[0], 'end_station_id'] = item[1]"
   ]
  },
  {
   "cell_type": "code",
   "execution_count": null,
   "metadata": {},
   "outputs": [],
   "source": []
  }
 ],
 "metadata": {
  "kernelspec": {
   "display_name": "base",
   "language": "python",
   "name": "python3"
  },
  "language_info": {
   "codemirror_mode": {
    "name": "ipython",
    "version": 3
   },
   "file_extension": ".py",
   "mimetype": "text/x-python",
   "name": "python",
   "nbconvert_exporter": "python",
   "pygments_lexer": "ipython3",
   "version": "3.9.5"
  },
  "orig_nbformat": 4
 },
 "nbformat": 4,
 "nbformat_minor": 2
}
