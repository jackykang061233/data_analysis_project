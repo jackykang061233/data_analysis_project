{
 "cells": [
  {
   "cell_type": "code",
   "execution_count": 45,
   "metadata": {},
   "outputs": [],
   "source": [
    "import pandas as pd\n",
    "import matplotlib.pyplot as plt\n",
    "\n",
    "from datetime import datetime"
   ]
  },
  {
   "cell_type": "markdown",
   "metadata": {},
   "source": [
    "# Load data\n",
    "In this step I load the first csv from 202207 and try to understand the format of the data."
   ]
  },
  {
   "cell_type": "code",
   "execution_count": 46,
   "metadata": {},
   "outputs": [
    {
     "data": {
      "text/html": [
       "<div>\n",
       "<style scoped>\n",
       "    .dataframe tbody tr th:only-of-type {\n",
       "        vertical-align: middle;\n",
       "    }\n",
       "\n",
       "    .dataframe tbody tr th {\n",
       "        vertical-align: top;\n",
       "    }\n",
       "\n",
       "    .dataframe thead th {\n",
       "        text-align: right;\n",
       "    }\n",
       "</style>\n",
       "<table border=\"1\" class=\"dataframe\">\n",
       "  <thead>\n",
       "    <tr style=\"text-align: right;\">\n",
       "      <th></th>\n",
       "      <th>ride_id</th>\n",
       "      <th>rideable_type</th>\n",
       "      <th>started_at</th>\n",
       "      <th>ended_at</th>\n",
       "      <th>start_station_name</th>\n",
       "      <th>start_station_id</th>\n",
       "      <th>end_station_name</th>\n",
       "      <th>end_station_id</th>\n",
       "      <th>start_lat</th>\n",
       "      <th>start_lng</th>\n",
       "      <th>end_lat</th>\n",
       "      <th>end_lng</th>\n",
       "      <th>member_casual</th>\n",
       "    </tr>\n",
       "  </thead>\n",
       "  <tbody>\n",
       "    <tr>\n",
       "      <th>0</th>\n",
       "      <td>954144C2F67B1932</td>\n",
       "      <td>classic_bike</td>\n",
       "      <td>2022-07-05 08:12:47</td>\n",
       "      <td>2022-07-05 08:24:32</td>\n",
       "      <td>Ashland Ave &amp; Blackhawk St</td>\n",
       "      <td>13224</td>\n",
       "      <td>Kingsbury St &amp; Kinzie St</td>\n",
       "      <td>KA1503000043</td>\n",
       "      <td>41.907066</td>\n",
       "      <td>-87.667252</td>\n",
       "      <td>41.889177</td>\n",
       "      <td>-87.638506</td>\n",
       "      <td>member</td>\n",
       "    </tr>\n",
       "    <tr>\n",
       "      <th>1</th>\n",
       "      <td>292E027607D218B6</td>\n",
       "      <td>classic_bike</td>\n",
       "      <td>2022-07-26 12:53:38</td>\n",
       "      <td>2022-07-26 12:55:31</td>\n",
       "      <td>Buckingham Fountain (Temp)</td>\n",
       "      <td>15541</td>\n",
       "      <td>Michigan Ave &amp; 8th St</td>\n",
       "      <td>623</td>\n",
       "      <td>41.869621</td>\n",
       "      <td>-87.623981</td>\n",
       "      <td>41.872773</td>\n",
       "      <td>-87.623981</td>\n",
       "      <td>casual</td>\n",
       "    </tr>\n",
       "    <tr>\n",
       "      <th>2</th>\n",
       "      <td>57765852588AD6E0</td>\n",
       "      <td>classic_bike</td>\n",
       "      <td>2022-07-03 13:58:49</td>\n",
       "      <td>2022-07-03 14:06:32</td>\n",
       "      <td>Buckingham Fountain (Temp)</td>\n",
       "      <td>15541</td>\n",
       "      <td>Michigan Ave &amp; 8th St</td>\n",
       "      <td>623</td>\n",
       "      <td>41.869621</td>\n",
       "      <td>-87.623981</td>\n",
       "      <td>41.872773</td>\n",
       "      <td>-87.623981</td>\n",
       "      <td>casual</td>\n",
       "    </tr>\n",
       "    <tr>\n",
       "      <th>3</th>\n",
       "      <td>B5B6BE44314590E6</td>\n",
       "      <td>classic_bike</td>\n",
       "      <td>2022-07-31 17:44:21</td>\n",
       "      <td>2022-07-31 18:42:50</td>\n",
       "      <td>Buckingham Fountain (Temp)</td>\n",
       "      <td>15541</td>\n",
       "      <td>Woodlawn Ave &amp; 55th St</td>\n",
       "      <td>TA1307000164</td>\n",
       "      <td>41.869621</td>\n",
       "      <td>-87.623981</td>\n",
       "      <td>41.795264</td>\n",
       "      <td>-87.596471</td>\n",
       "      <td>casual</td>\n",
       "    </tr>\n",
       "    <tr>\n",
       "      <th>4</th>\n",
       "      <td>A4C331F2A00E79E0</td>\n",
       "      <td>classic_bike</td>\n",
       "      <td>2022-07-13 19:49:06</td>\n",
       "      <td>2022-07-13 20:15:24</td>\n",
       "      <td>Wabash Ave &amp; Grand Ave</td>\n",
       "      <td>TA1307000117</td>\n",
       "      <td>Sheffield Ave &amp; Wellington Ave</td>\n",
       "      <td>TA1307000052</td>\n",
       "      <td>41.891466</td>\n",
       "      <td>-87.626761</td>\n",
       "      <td>41.936253</td>\n",
       "      <td>-87.652662</td>\n",
       "      <td>member</td>\n",
       "    </tr>\n",
       "    <tr>\n",
       "      <th>5</th>\n",
       "      <td>579D73BE2ED880B3</td>\n",
       "      <td>electric_bike</td>\n",
       "      <td>2022-07-01 17:04:35</td>\n",
       "      <td>2022-07-01 17:13:18</td>\n",
       "      <td>Desplaines St &amp; Randolph St</td>\n",
       "      <td>15535</td>\n",
       "      <td>Clinton St &amp; Roosevelt Rd</td>\n",
       "      <td>WL-008</td>\n",
       "      <td>41.884614</td>\n",
       "      <td>-87.644564</td>\n",
       "      <td>41.867118</td>\n",
       "      <td>-87.641088</td>\n",
       "      <td>member</td>\n",
       "    </tr>\n",
       "    <tr>\n",
       "      <th>6</th>\n",
       "      <td>EFE518CCEE333669</td>\n",
       "      <td>classic_bike</td>\n",
       "      <td>2022-07-18 18:11:01</td>\n",
       "      <td>2022-07-18 18:22:30</td>\n",
       "      <td>Marquette Ave &amp; 89th St</td>\n",
       "      <td>20239</td>\n",
       "      <td>East End Ave &amp; 87th St</td>\n",
       "      <td>20231</td>\n",
       "      <td>41.733669</td>\n",
       "      <td>-87.558342</td>\n",
       "      <td>41.736815</td>\n",
       "      <td>-87.582801</td>\n",
       "      <td>member</td>\n",
       "    </tr>\n",
       "    <tr>\n",
       "      <th>7</th>\n",
       "      <td>315FEBB7B3F6D2EA</td>\n",
       "      <td>classic_bike</td>\n",
       "      <td>2022-07-28 20:38:18</td>\n",
       "      <td>2022-07-28 21:09:11</td>\n",
       "      <td>Wabash Ave &amp; Grand Ave</td>\n",
       "      <td>TA1307000117</td>\n",
       "      <td>Dearborn Pkwy &amp; Delaware Pl</td>\n",
       "      <td>TA1307000128</td>\n",
       "      <td>41.891466</td>\n",
       "      <td>-87.626761</td>\n",
       "      <td>41.898969</td>\n",
       "      <td>-87.629912</td>\n",
       "      <td>casual</td>\n",
       "    </tr>\n",
       "    <tr>\n",
       "      <th>8</th>\n",
       "      <td>EE3C4A1E66766B56</td>\n",
       "      <td>classic_bike</td>\n",
       "      <td>2022-07-10 22:55:59</td>\n",
       "      <td>2022-07-10 23:01:32</td>\n",
       "      <td>Wabash Ave &amp; Grand Ave</td>\n",
       "      <td>TA1307000117</td>\n",
       "      <td>Dearborn Pkwy &amp; Delaware Pl</td>\n",
       "      <td>TA1307000128</td>\n",
       "      <td>41.891466</td>\n",
       "      <td>-87.626761</td>\n",
       "      <td>41.898969</td>\n",
       "      <td>-87.629912</td>\n",
       "      <td>member</td>\n",
       "    </tr>\n",
       "    <tr>\n",
       "      <th>9</th>\n",
       "      <td>1EE6C93A547A187C</td>\n",
       "      <td>electric_bike</td>\n",
       "      <td>2022-07-10 09:35:58</td>\n",
       "      <td>2022-07-10 09:47:25</td>\n",
       "      <td>Ashland Ave &amp; Blackhawk St</td>\n",
       "      <td>13224</td>\n",
       "      <td>Orleans St &amp; Merchandise Mart Plaza</td>\n",
       "      <td>TA1305000022</td>\n",
       "      <td>41.907093</td>\n",
       "      <td>-87.667247</td>\n",
       "      <td>41.888243</td>\n",
       "      <td>-87.636390</td>\n",
       "      <td>member</td>\n",
       "    </tr>\n",
       "  </tbody>\n",
       "</table>\n",
       "</div>"
      ],
      "text/plain": [
       "            ride_id  rideable_type           started_at             ended_at  \\\n",
       "0  954144C2F67B1932   classic_bike  2022-07-05 08:12:47  2022-07-05 08:24:32   \n",
       "1  292E027607D218B6   classic_bike  2022-07-26 12:53:38  2022-07-26 12:55:31   \n",
       "2  57765852588AD6E0   classic_bike  2022-07-03 13:58:49  2022-07-03 14:06:32   \n",
       "3  B5B6BE44314590E6   classic_bike  2022-07-31 17:44:21  2022-07-31 18:42:50   \n",
       "4  A4C331F2A00E79E0   classic_bike  2022-07-13 19:49:06  2022-07-13 20:15:24   \n",
       "5  579D73BE2ED880B3  electric_bike  2022-07-01 17:04:35  2022-07-01 17:13:18   \n",
       "6  EFE518CCEE333669   classic_bike  2022-07-18 18:11:01  2022-07-18 18:22:30   \n",
       "7  315FEBB7B3F6D2EA   classic_bike  2022-07-28 20:38:18  2022-07-28 21:09:11   \n",
       "8  EE3C4A1E66766B56   classic_bike  2022-07-10 22:55:59  2022-07-10 23:01:32   \n",
       "9  1EE6C93A547A187C  electric_bike  2022-07-10 09:35:58  2022-07-10 09:47:25   \n",
       "\n",
       "            start_station_name start_station_id  \\\n",
       "0   Ashland Ave & Blackhawk St            13224   \n",
       "1   Buckingham Fountain (Temp)            15541   \n",
       "2   Buckingham Fountain (Temp)            15541   \n",
       "3   Buckingham Fountain (Temp)            15541   \n",
       "4       Wabash Ave & Grand Ave     TA1307000117   \n",
       "5  Desplaines St & Randolph St            15535   \n",
       "6      Marquette Ave & 89th St            20239   \n",
       "7       Wabash Ave & Grand Ave     TA1307000117   \n",
       "8       Wabash Ave & Grand Ave     TA1307000117   \n",
       "9   Ashland Ave & Blackhawk St            13224   \n",
       "\n",
       "                      end_station_name end_station_id  start_lat  start_lng  \\\n",
       "0             Kingsbury St & Kinzie St   KA1503000043  41.907066 -87.667252   \n",
       "1                Michigan Ave & 8th St            623  41.869621 -87.623981   \n",
       "2                Michigan Ave & 8th St            623  41.869621 -87.623981   \n",
       "3               Woodlawn Ave & 55th St   TA1307000164  41.869621 -87.623981   \n",
       "4       Sheffield Ave & Wellington Ave   TA1307000052  41.891466 -87.626761   \n",
       "5            Clinton St & Roosevelt Rd         WL-008  41.884614 -87.644564   \n",
       "6               East End Ave & 87th St          20231  41.733669 -87.558342   \n",
       "7          Dearborn Pkwy & Delaware Pl   TA1307000128  41.891466 -87.626761   \n",
       "8          Dearborn Pkwy & Delaware Pl   TA1307000128  41.891466 -87.626761   \n",
       "9  Orleans St & Merchandise Mart Plaza   TA1305000022  41.907093 -87.667247   \n",
       "\n",
       "     end_lat    end_lng member_casual  \n",
       "0  41.889177 -87.638506        member  \n",
       "1  41.872773 -87.623981        casual  \n",
       "2  41.872773 -87.623981        casual  \n",
       "3  41.795264 -87.596471        casual  \n",
       "4  41.936253 -87.652662        member  \n",
       "5  41.867118 -87.641088        member  \n",
       "6  41.736815 -87.582801        member  \n",
       "7  41.898969 -87.629912        casual  \n",
       "8  41.898969 -87.629912        member  \n",
       "9  41.888243 -87.636390        member  "
      ]
     },
     "execution_count": 46,
     "metadata": {},
     "output_type": "execute_result"
    }
   ],
   "source": [
    "df = pd.read_csv(\"/Users/kangchieh/Project/divvy_bike/data/divvy_202207-202306/csv/202207-divvy-tripdata.csv\")\n",
    "df.head(10)"
   ]
  },
  {
   "cell_type": "markdown",
   "metadata": {},
   "source": [
    "# Missing values"
   ]
  },
  {
   "cell_type": "code",
   "execution_count": 47,
   "metadata": {},
   "outputs": [
    {
     "name": "stdout",
     "output_type": "stream",
     "text": [
      "<class 'pandas.core.frame.DataFrame'>\n",
      "RangeIndex: 823488 entries, 0 to 823487\n",
      "Data columns (total 13 columns):\n",
      " #   Column              Non-Null Count   Dtype  \n",
      "---  ------              --------------   -----  \n",
      " 0   ride_id             823488 non-null  object \n",
      " 1   rideable_type       823488 non-null  object \n",
      " 2   started_at          823488 non-null  object \n",
      " 3   ended_at            823488 non-null  object \n",
      " 4   start_station_name  711457 non-null  object \n",
      " 5   start_station_id    711457 non-null  object \n",
      " 6   end_station_name    702537 non-null  object \n",
      " 7   end_station_id      702537 non-null  object \n",
      " 8   start_lat           823488 non-null  float64\n",
      " 9   start_lng           823488 non-null  float64\n",
      " 10  end_lat             822541 non-null  float64\n",
      " 11  end_lng             822541 non-null  float64\n",
      " 12  member_casual       823488 non-null  object \n",
      "dtypes: float64(4), object(9)\n",
      "memory usage: 81.7+ MB\n"
     ]
    }
   ],
   "source": [
    "df.info() # see how many null do we have in each columns"
   ]
  },
  {
   "cell_type": "markdown",
   "metadata": {},
   "source": [
    "## Conclusion\n",
    "As we can see there are missing values in the columns: start_station_name, start_station_id, end_station_name, end_station_id, end_lat, end_lng"
   ]
  },
  {
   "cell_type": "markdown",
   "metadata": {},
   "source": [
    "# Data validity"
   ]
  },
  {
   "cell_type": "markdown",
   "metadata": {},
   "source": [
    "## Check if the length of ride id is equal to 16"
   ]
  },
  {
   "cell_type": "code",
   "execution_count": 48,
   "metadata": {},
   "outputs": [
    {
     "name": "stdout",
     "output_type": "stream",
     "text": [
      "There are 0 id does not have length of 16\n"
     ]
    }
   ],
   "source": [
    "def len_rideid(id):\n",
    "    return len(id)==16\n",
    "\n",
    "print(f\"There are {(df['ride_id'].apply(len_rideid)==False).sum()} id does not have length of 16\")"
   ]
  },
  {
   "cell_type": "markdown",
   "metadata": {},
   "source": [
    "## Check the categories of bikes "
   ]
  },
  {
   "cell_type": "code",
   "execution_count": 49,
   "metadata": {},
   "outputs": [
    {
     "name": "stdout",
     "output_type": "stream",
     "text": [
      "Types of bikes: ['classic_bike' 'electric_bike' 'docked_bike']\n"
     ]
    }
   ],
   "source": [
    "print(f\"Types of bikes: {df['rideable_type'].unique()}\")"
   ]
  },
  {
   "cell_type": "markdown",
   "metadata": {},
   "source": [
    "## Check if started_at, ended_at are in time format\t"
   ]
  },
  {
   "cell_type": "code",
   "execution_count": 57,
   "metadata": {},
   "outputs": [
    {
     "name": "stdout",
     "output_type": "stream",
     "text": [
      "There are 0 values in started_at that are not in time format\n"
     ]
    }
   ],
   "source": [
    "df[\"started_at\"] = pd.to_datetime(df[\"started_at\"], errors='coerce')\n",
    "print(f\"There are {(-df['started_at'].dt.time.notna()).sum()} values in started_at that are not in time format\")"
   ]
  },
  {
   "cell_type": "code",
   "execution_count": 58,
   "metadata": {},
   "outputs": [
    {
     "name": "stdout",
     "output_type": "stream",
     "text": [
      "There are 0 values in ended_at that are not in time format\n"
     ]
    }
   ],
   "source": [
    "df[\"ended_at\"] = pd.to_datetime(df[\"ended_at\"], errors='coerce')\n",
    "print(f\"There are {(-df['ended_at'].dt.time.notna()).sum()} values in ended_at that are not in time format\")"
   ]
  },
  {
   "cell_type": "markdown",
   "metadata": {},
   "source": [
    "## Check latitude and longitude"
   ]
  },
  {
   "cell_type": "code",
   "execution_count": 66,
   "metadata": {},
   "outputs": [
    {
     "name": "stdout",
     "output_type": "stream",
     "text": [
      "There are 0 values in start_lat that do not match the format\n",
      "There are 0 values in start_lng that do not match the format\n",
      "There are 947 values in end_lat that do not match the format\n",
      "There are 947 values in end_lng that do not match the format\n"
     ]
    }
   ],
   "source": [
    "print(f\"There are {(-df['start_lat'].between(-90, 90)).sum()} values in start_lat that do not match the format\")\n",
    "print(f\"There are {(-df['start_lng'].between(-180, 180)).sum()} values in start_lng that do not match the format\")\n",
    "print(f\"There are {(-df['end_lat'].between(-90, 90)).sum()} values in end_lat that do not match the format\")\n",
    "print(f\"There are {(-df['end_lng'].between(-180, 180)).sum()} values in end_lng that do not match the format\")"
   ]
  },
  {
   "cell_type": "code",
   "execution_count": 65,
   "metadata": {},
   "outputs": [
    {
     "data": {
      "text/plain": [
       "36126    NaN\n",
       "36267    NaN\n",
       "36298    NaN\n",
       "36335    NaN\n",
       "36357    NaN\n",
       "          ..\n",
       "812854   NaN\n",
       "814289   NaN\n",
       "814952   NaN\n",
       "815137   NaN\n",
       "819961   NaN\n",
       "Name: end_lng, Length: 947, dtype: float64"
      ]
     },
     "execution_count": 65,
     "metadata": {},
     "output_type": "execute_result"
    }
   ],
   "source": [
    "df['end_lng'][-df['end_lng'].between(-180, 180)] # the values that do not match the format are nan values"
   ]
  },
  {
   "cell_type": "markdown",
   "metadata": {},
   "source": [
    "## Check the categories of member_casual"
   ]
  },
  {
   "cell_type": "code",
   "execution_count": 67,
   "metadata": {},
   "outputs": [
    {
     "name": "stdout",
     "output_type": "stream",
     "text": [
      "Categories of member_casual: ['member' 'casual']\n"
     ]
    }
   ],
   "source": [
    "print(f\"Categories of member_casual: {df['member_casual'].unique()}\")"
   ]
  },
  {
   "cell_type": "code",
   "execution_count": null,
   "metadata": {},
   "outputs": [],
   "source": []
  }
 ],
 "metadata": {
  "kernelspec": {
   "display_name": "base",
   "language": "python",
   "name": "python3"
  },
  "language_info": {
   "codemirror_mode": {
    "name": "ipython",
    "version": 3
   },
   "file_extension": ".py",
   "mimetype": "text/x-python",
   "name": "python",
   "nbconvert_exporter": "python",
   "pygments_lexer": "ipython3",
   "version": "3.8.5"
  },
  "orig_nbformat": 4
 },
 "nbformat": 4,
 "nbformat_minor": 2
}
