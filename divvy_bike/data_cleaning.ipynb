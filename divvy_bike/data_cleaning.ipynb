{
 "cells": [
  {
   "cell_type": "code",
   "execution_count": 332,
   "metadata": {},
   "outputs": [],
   "source": [
    "import pandas as pd\n",
    "from datetime import datetime\n",
    "from geopy import distance\n",
    "import numpy as np"
   ]
  },
  {
   "cell_type": "markdown",
   "metadata": {},
   "source": [
    "# Load data"
   ]
  },
  {
   "cell_type": "code",
   "execution_count": null,
   "metadata": {},
   "outputs": [],
   "source": [
    "july = pd.read_csv(\"202207-divvy-tripdata.csv\")\n",
    "august = pd.read_csv(\"202208-divvy-tripdata.csv\")\n",
    "september = pd.read_csv(\"202209-divvy-tripdata.csv\")\n",
    "october = pd.read_csv(\"202210-divvy-tripdata.csv\")\n",
    "november = pd.read_csv(\"202211-divvy-tripdata.csv\")\n",
    "december = pd.read_csv(\"202212-divvy-tripdata.csv\")\n",
    "january = pd.read_csv(\"202301-divvy-tripdata.csv\")\n",
    "february  = pd.read_csv(\"202302-divvy-tripdata.csv\")\n",
    "march = pd.read_csv(\"202303-divvy-tripdata.csv\")\n",
    "april = pd.read_csv(\"202304-divvy-tripdata.csv\")\n",
    "may = pd.read_csv(\"202305-divvy-tripdata.csv\")\n",
    "june = pd.read_csv(\"202306-divvy-tripdata.csv\")"
   ]
  },
  {
   "cell_type": "markdown",
   "metadata": {},
   "source": [
    "## Merge the data to one dataframe"
   ]
  },
  {
   "cell_type": "code",
   "execution_count": 9,
   "metadata": {},
   "outputs": [],
   "source": [
    "df = pd.concat([july, august, september, october, november, december, january, february, march, april, may, june], axis=0)\n",
    "df.to_csv\"all.csv\", index=False()"
   ]
  },
  {
   "cell_type": "markdown",
   "metadata": {},
   "source": [
    "# Overview"
   ]
  },
  {
   "cell_type": "code",
   "execution_count": 20,
   "metadata": {},
   "outputs": [
    {
     "name": "stdout",
     "output_type": "stream",
     "text": [
      "<class 'pandas.core.frame.DataFrame'>\n",
      "RangeIndex: 5779444 entries, 0 to 5779443\n",
      "Data columns (total 13 columns):\n",
      " #   Column              Dtype  \n",
      "---  ------              -----  \n",
      " 0   ride_id             object \n",
      " 1   rideable_type       object \n",
      " 2   started_at          object \n",
      " 3   ended_at            object \n",
      " 4   start_station_name  object \n",
      " 5   start_station_id    object \n",
      " 6   end_station_name    object \n",
      " 7   end_station_id      object \n",
      " 8   start_lat           float64\n",
      " 9   start_lng           float64\n",
      " 10  end_lat             float64\n",
      " 11  end_lng             float64\n",
      " 12  member_casual       object \n",
      "dtypes: float64(4), object(9)\n",
      "memory usage: 573.2+ MB\n"
     ]
    }
   ],
   "source": [
    "df.info()"
   ]
  },
  {
   "cell_type": "markdown",
   "metadata": {},
   "source": [
    "# Data cleaning"
   ]
  },
  {
   "cell_type": "markdown",
   "metadata": {},
   "source": [
    "## Missing values"
   ]
  },
  {
   "cell_type": "code",
   "execution_count": 21,
   "metadata": {},
   "outputs": [
    {
     "data": {
      "text/plain": [
       "ride_id                    0\n",
       "rideable_type              0\n",
       "started_at                 0\n",
       "ended_at                   0\n",
       "start_station_name    857860\n",
       "start_station_id      857992\n",
       "end_station_name      915655\n",
       "end_station_id        915796\n",
       "start_lat                  0\n",
       "start_lng                  0\n",
       "end_lat                 5795\n",
       "end_lng                 5795\n",
       "member_casual              0\n",
       "dtype: int64"
      ]
     },
     "execution_count": 21,
     "metadata": {},
     "output_type": "execute_result"
    }
   ],
   "source": [
    "df.isna().sum()"
   ]
  },
  {
   "cell_type": "markdown",
   "metadata": {},
   "source": [
    "## Data validation"
   ]
  },
  {
   "cell_type": "markdown",
   "metadata": {},
   "source": [
    "### Check if the length of ride id is equal to 16"
   ]
  },
  {
   "cell_type": "code",
   "execution_count": 23,
   "metadata": {},
   "outputs": [
    {
     "name": "stdout",
     "output_type": "stream",
     "text": [
      "There are 0 id does not have length of 16\n"
     ]
    }
   ],
   "source": [
    "print(f\"There are {(-df['ride_id'].apply(lambda x: len(x)==16)).sum()} id does not have length of 16\")"
   ]
  },
  {
   "cell_type": "markdown",
   "metadata": {},
   "source": [
    "### Check the categories of bikes "
   ]
  },
  {
   "cell_type": "code",
   "execution_count": 24,
   "metadata": {},
   "outputs": [
    {
     "name": "stdout",
     "output_type": "stream",
     "text": [
      "Types of bikes: ['classic_bike' 'electric_bike' 'docked_bike']\n"
     ]
    }
   ],
   "source": [
    "print(f\"Types of bikes: {df['rideable_type'].unique()}\")"
   ]
  },
  {
   "cell_type": "markdown",
   "metadata": {},
   "source": [
    "### Check if started_at, ended_at are in correct time format"
   ]
  },
  {
   "cell_type": "code",
   "execution_count": 25,
   "metadata": {},
   "outputs": [
    {
     "name": "stdout",
     "output_type": "stream",
     "text": [
      "There are 0 values in started_at that are not in time format\n",
      "There are 0 values in ended_at that are not in time format\n"
     ]
    }
   ],
   "source": [
    "df[\"started_at\"] = pd.to_datetime(df[\"started_at\"], errors='coerce')\n",
    "print(f\"There are {(-df['started_at'].dt.time.notna()).sum()} values in started_at that are not in time format\")\n",
    "df[\"ended_at\"] = pd.to_datetime(df[\"ended_at\"], errors='coerce')\n",
    "print(f\"There are {(-df['ended_at'].dt.time.notna()).sum()} values in ended_at that are not in time format\")"
   ]
  },
  {
   "cell_type": "markdown",
   "metadata": {},
   "source": [
    "### Check latitude and longitude"
   ]
  },
  {
   "cell_type": "code",
   "execution_count": 26,
   "metadata": {},
   "outputs": [
    {
     "name": "stdout",
     "output_type": "stream",
     "text": [
      "There are 0 values in start_lat that do not match the format\n",
      "There are 0 values in start_lng that do not match the format\n",
      "There are 5795 values in end_lat that do not match the format\n",
      "There are 5795 values in end_lng that do not match the format\n"
     ]
    }
   ],
   "source": [
    "print(f\"There are {(-df['start_lat'].between(-90, 90)).sum()} values in start_lat that do not match the format\")\n",
    "print(f\"There are {(-df['start_lng'].between(-180, 180)).sum()} values in start_lng that do not match the format\")\n",
    "print(f\"There are {(-df['end_lat'].between(-90, 90)).sum()} values in end_lat that do not match the format\")\n",
    "print(f\"There are {(-df['end_lng'].between(-180, 180)).sum()} values in end_lng that do not match the format\")"
   ]
  },
  {
   "cell_type": "code",
   "execution_count": 28,
   "metadata": {},
   "outputs": [
    {
     "name": "stdout",
     "output_type": "stream",
     "text": [
      "There are 0 not null end_lat values that do not match the format\n",
      "There are 0 not null end_lng valuest that do not match the format\n"
     ]
    }
   ],
   "source": [
    "# the values that do not match the format are nan values\n",
    "print(f\"There are {df['end_lat'][-df['end_lat'].between(-180, 180)].notnull().sum()} not null end_lat values that do not match the format\")\n",
    "print(f\"There are {df['end_lng'][-df['end_lng'].between(-180, 180)].notnull().sum()} not null end_lng valuest that do not match the format\")"
   ]
  },
  {
   "cell_type": "markdown",
   "metadata": {},
   "source": [
    "### Check the categories of member_casual"
   ]
  },
  {
   "cell_type": "code",
   "execution_count": 29,
   "metadata": {},
   "outputs": [
    {
     "name": "stdout",
     "output_type": "stream",
     "text": [
      "Categories of member_casual: ['member' 'casual']\n"
     ]
    }
   ],
   "source": [
    "print(f\"Categories of member_casual: {df['member_casual'].unique()}\")"
   ]
  },
  {
   "cell_type": "markdown",
   "metadata": {},
   "source": [
    "### Check if there is two stations with same id but different name (misspell...)"
   ]
  },
  {
   "cell_type": "code",
   "execution_count": 31,
   "metadata": {},
   "outputs": [
    {
     "name": "stderr",
     "output_type": "stream",
     "text": [
      "/var/folders/95/lczm9_vd3899jm27hx7pnk580000gn/T/ipykernel_10248/1727141480.py:14: FutureWarning: Indexing with multiple keys (implicitly converted to a tuple of keys) will be deprecated, use a list instead.\n",
      "  stations_df_lat_lng = stations_df.groupby(['name', 'id'])['lat', 'lng'].agg(lambda x: pd.Series.mode(x)[0])\n"
     ]
    }
   ],
   "source": [
    "# create a dataframe with a lists of stations\n",
    "start = df.loc[:,[\"start_station_name\",\t\"start_station_id\", \"start_lat\", \"start_lng\"]]\n",
    "end = df.loc[:,[\"end_station_name\", \"end_station_id\", \"end_lat\", \"end_lng\"]]\n",
    "stations_df = pd.concat([start.rename(columns={'start_station_name':'name', 'start_station_id': 'id', 'start_lat': 'lat', 'start_lng': 'lng'}), end.rename(columns={'end_station_name':'name', 'end_station_id': 'id', 'end_lat': 'lat', 'end_lng': 'lng'})])\n",
    "\n",
    "# find if a id matches two different station names\n",
    "result = stations_df.groupby('id')['name'].nunique() > 1\n",
    "ids_with_different_names = stations_df[stations_df['id'].isin(result[result].index)]\n",
    "\n",
    "# keep only one instance\n",
    "stations_df_drop = ids_with_different_names[['name', 'id']].drop_duplicates()\n",
    "\n",
    "# get the latitude and longitude for stations by taking the mode\n",
    "stations_df_lat_lng = stations_df.groupby(['name', 'id'])['lat', 'lng'].agg(lambda x: pd.Series.mode(x)[0])\n",
    "\n",
    "# get a list of ids\n",
    "id_list = stations_df['id'].unique()"
   ]
  },
  {
   "cell_type": "code",
   "execution_count": 32,
   "metadata": {},
   "outputs": [
    {
     "data": {
      "text/html": [
       "<div>\n",
       "<style scoped>\n",
       "    .dataframe tbody tr th:only-of-type {\n",
       "        vertical-align: middle;\n",
       "    }\n",
       "\n",
       "    .dataframe tbody tr th {\n",
       "        vertical-align: top;\n",
       "    }\n",
       "\n",
       "    .dataframe thead th {\n",
       "        text-align: right;\n",
       "    }\n",
       "</style>\n",
       "<table border=\"1\" class=\"dataframe\">\n",
       "  <thead>\n",
       "    <tr style=\"text-align: right;\">\n",
       "      <th></th>\n",
       "      <th>name</th>\n",
       "      <th>id</th>\n",
       "    </tr>\n",
       "  </thead>\n",
       "  <tbody>\n",
       "    <tr>\n",
       "      <th>1</th>\n",
       "      <td>Buckingham Fountain (Temp)</td>\n",
       "      <td>15541</td>\n",
       "    </tr>\n",
       "    <tr>\n",
       "      <th>25</th>\n",
       "      <td>Bissell St &amp; Armitage Ave</td>\n",
       "      <td>13059</td>\n",
       "    </tr>\n",
       "    <tr>\n",
       "      <th>34</th>\n",
       "      <td>Public Rack - Cicero Ave &amp; Wellington Ave</td>\n",
       "      <td>546</td>\n",
       "    </tr>\n",
       "    <tr>\n",
       "      <th>40</th>\n",
       "      <td>University Library (NU)</td>\n",
       "      <td>605</td>\n",
       "    </tr>\n",
       "    <tr>\n",
       "      <th>77</th>\n",
       "      <td>Knox Ave &amp; Montrose Ave</td>\n",
       "      <td>592</td>\n",
       "    </tr>\n",
       "    <tr>\n",
       "      <th>...</th>\n",
       "      <td>...</td>\n",
       "      <td>...</td>\n",
       "    </tr>\n",
       "    <tr>\n",
       "      <th>4060527</th>\n",
       "      <td>Public Rack - Michigan Ave &amp; 102nd St</td>\n",
       "      <td>630</td>\n",
       "    </tr>\n",
       "    <tr>\n",
       "      <th>4072006</th>\n",
       "      <td>Public Rack - Keeler Ave &amp; Madison St S</td>\n",
       "      <td>853</td>\n",
       "    </tr>\n",
       "    <tr>\n",
       "      <th>4705314</th>\n",
       "      <td>Public Rack - Plainfield Ave &amp; Irving Park Rd</td>\n",
       "      <td>576</td>\n",
       "    </tr>\n",
       "    <tr>\n",
       "      <th>4912379</th>\n",
       "      <td>Public Rack - Parnell Ave &amp; 119th St</td>\n",
       "      <td>587</td>\n",
       "    </tr>\n",
       "    <tr>\n",
       "      <th>5596293</th>\n",
       "      <td>Public Rack - Torrence Ave  &amp; 106th St</td>\n",
       "      <td>923</td>\n",
       "    </tr>\n",
       "  </tbody>\n",
       "</table>\n",
       "<p>677 rows × 2 columns</p>\n",
       "</div>"
      ],
      "text/plain": [
       "                                                  name     id\n",
       "1                           Buckingham Fountain (Temp)  15541\n",
       "25                           Bissell St & Armitage Ave  13059\n",
       "34           Public Rack - Cicero Ave & Wellington Ave    546\n",
       "40                             University Library (NU)    605\n",
       "77                             Knox Ave & Montrose Ave    592\n",
       "...                                                ...    ...\n",
       "4060527          Public Rack - Michigan Ave & 102nd St    630\n",
       "4072006        Public Rack - Keeler Ave & Madison St S    853\n",
       "4705314  Public Rack - Plainfield Ave & Irving Park Rd    576\n",
       "4912379           Public Rack - Parnell Ave & 119th St    587\n",
       "5596293         Public Rack - Torrence Ave  & 106th St    923\n",
       "\n",
       "[677 rows x 2 columns]"
      ]
     },
     "execution_count": 32,
     "metadata": {},
     "output_type": "execute_result"
    }
   ],
   "source": [
    "stations_df_drop"
   ]
  },
  {
   "cell_type": "code",
   "execution_count": 34,
   "metadata": {},
   "outputs": [
    {
     "data": {
      "text/html": [
       "<div>\n",
       "<style scoped>\n",
       "    .dataframe tbody tr th:only-of-type {\n",
       "        vertical-align: middle;\n",
       "    }\n",
       "\n",
       "    .dataframe tbody tr th {\n",
       "        vertical-align: top;\n",
       "    }\n",
       "\n",
       "    .dataframe thead th {\n",
       "        text-align: right;\n",
       "    }\n",
       "</style>\n",
       "<table border=\"1\" class=\"dataframe\">\n",
       "  <thead>\n",
       "    <tr style=\"text-align: right;\">\n",
       "      <th></th>\n",
       "      <th></th>\n",
       "      <th>lat</th>\n",
       "      <th>lng</th>\n",
       "    </tr>\n",
       "    <tr>\n",
       "      <th>name</th>\n",
       "      <th>id</th>\n",
       "      <th></th>\n",
       "      <th></th>\n",
       "    </tr>\n",
       "  </thead>\n",
       "  <tbody>\n",
       "    <tr>\n",
       "      <th>10101 S Stony Island Ave</th>\n",
       "      <th>922</th>\n",
       "      <td>41.710000</td>\n",
       "      <td>-87.580000</td>\n",
       "    </tr>\n",
       "    <tr>\n",
       "      <th>111th St - Morgan Park Metra</th>\n",
       "      <th>682</th>\n",
       "      <td>41.690000</td>\n",
       "      <td>-87.670000</td>\n",
       "    </tr>\n",
       "    <tr>\n",
       "      <th>2112 W Peterson Ave</th>\n",
       "      <th>KA1504000155</th>\n",
       "      <td>41.991178</td>\n",
       "      <td>-87.683593</td>\n",
       "    </tr>\n",
       "    <tr>\n",
       "      <th>410</th>\n",
       "      <th>410</th>\n",
       "      <td>41.900000</td>\n",
       "      <td>-87.690000</td>\n",
       "    </tr>\n",
       "    <tr>\n",
       "      <th>532 E 43rd St</th>\n",
       "      <th>913</th>\n",
       "      <td>41.820000</td>\n",
       "      <td>-87.610000</td>\n",
       "    </tr>\n",
       "    <tr>\n",
       "      <th>...</th>\n",
       "      <th>...</th>\n",
       "      <td>...</td>\n",
       "      <td>...</td>\n",
       "    </tr>\n",
       "    <tr>\n",
       "      <th>Woodlawn Ave &amp; Lake Park Ave</th>\n",
       "      <th>KA1503000065</th>\n",
       "      <td>41.814093</td>\n",
       "      <td>-87.597005</td>\n",
       "    </tr>\n",
       "    <tr>\n",
       "      <th>Yale Ave &amp; 119th St</th>\n",
       "      <th>588</th>\n",
       "      <td>41.680000</td>\n",
       "      <td>-87.630000</td>\n",
       "    </tr>\n",
       "    <tr>\n",
       "      <th>Yates Blvd &amp; 75th St</th>\n",
       "      <th>KA1503000024</th>\n",
       "      <td>41.758768</td>\n",
       "      <td>-87.566440</td>\n",
       "    </tr>\n",
       "    <tr>\n",
       "      <th>Yates Blvd &amp; 93rd St</th>\n",
       "      <th>20237</th>\n",
       "      <td>41.726166</td>\n",
       "      <td>-87.566276</td>\n",
       "    </tr>\n",
       "    <tr>\n",
       "      <th>Yates Blvd &amp; Exchange Ave</th>\n",
       "      <th>905</th>\n",
       "      <td>41.770000</td>\n",
       "      <td>-87.570000</td>\n",
       "    </tr>\n",
       "  </tbody>\n",
       "</table>\n",
       "<p>1871 rows × 2 columns</p>\n",
       "</div>"
      ],
      "text/plain": [
       "                                                 lat        lng\n",
       "name                         id                                \n",
       "10101 S Stony Island Ave     922           41.710000 -87.580000\n",
       "111th St - Morgan Park Metra 682           41.690000 -87.670000\n",
       "2112 W Peterson Ave          KA1504000155  41.991178 -87.683593\n",
       "410                          410           41.900000 -87.690000\n",
       "532 E 43rd St                913           41.820000 -87.610000\n",
       "...                                              ...        ...\n",
       "Woodlawn Ave & Lake Park Ave KA1503000065  41.814093 -87.597005\n",
       "Yale Ave & 119th St          588           41.680000 -87.630000\n",
       "Yates Blvd & 75th St         KA1503000024  41.758768 -87.566440\n",
       "Yates Blvd & 93rd St         20237         41.726166 -87.566276\n",
       "Yates Blvd & Exchange Ave    905           41.770000 -87.570000\n",
       "\n",
       "[1871 rows x 2 columns]"
      ]
     },
     "execution_count": 34,
     "metadata": {},
     "output_type": "execute_result"
    }
   ],
   "source": [
    "stations_df_lat_lng"
   ]
  },
  {
   "cell_type": "markdown",
   "metadata": {},
   "source": [
    "### Two examples"
   ]
  },
  {
   "cell_type": "code",
   "execution_count": 69,
   "metadata": {},
   "outputs": [
    {
     "data": {
      "text/html": [
       "<div>\n",
       "<style scoped>\n",
       "    .dataframe tbody tr th:only-of-type {\n",
       "        vertical-align: middle;\n",
       "    }\n",
       "\n",
       "    .dataframe tbody tr th {\n",
       "        vertical-align: top;\n",
       "    }\n",
       "\n",
       "    .dataframe thead th {\n",
       "        text-align: right;\n",
       "    }\n",
       "</style>\n",
       "<table border=\"1\" class=\"dataframe\">\n",
       "  <thead>\n",
       "    <tr style=\"text-align: right;\">\n",
       "      <th></th>\n",
       "      <th>name</th>\n",
       "      <th>id</th>\n",
       "    </tr>\n",
       "  </thead>\n",
       "  <tbody>\n",
       "    <tr>\n",
       "      <th>1361808</th>\n",
       "      <td>10101 S Stony Island Ave</td>\n",
       "      <td>922</td>\n",
       "    </tr>\n",
       "    <tr>\n",
       "      <th>3210529</th>\n",
       "      <td>Public Rack - 10101 S Stony Island Ave</td>\n",
       "      <td>922</td>\n",
       "    </tr>\n",
       "  </tbody>\n",
       "</table>\n",
       "</div>"
      ],
      "text/plain": [
       "                                           name   id\n",
       "1361808                10101 S Stony Island Ave  922\n",
       "3210529  Public Rack - 10101 S Stony Island Ave  922"
      ]
     },
     "execution_count": 69,
     "metadata": {},
     "output_type": "execute_result"
    }
   ],
   "source": [
    "stations_df_drop[stations_df_drop['id']=='922']\n"
   ]
  },
  {
   "cell_type": "code",
   "execution_count": 88,
   "metadata": {},
   "outputs": [
    {
     "data": {
      "text/plain": [
       "(lat    41.71\n",
       " lng   -87.58\n",
       " Name: (10101 S Stony Island Ave, 922), dtype: float64,\n",
       " lat    41.71\n",
       " lng   -87.58\n",
       " Name: (Public Rack - 10101 S Stony Island Ave, 922), dtype: float64)"
      ]
     },
     "execution_count": 88,
     "metadata": {},
     "output_type": "execute_result"
    }
   ],
   "source": [
    "stations_df_lat_lng.loc[('10101 S Stony Island Ave', '922')], stations_df_lat_lng.loc[('Public Rack - 10101 S Stony Island Ave', '922')] # same id same location "
   ]
  },
  {
   "cell_type": "code",
   "execution_count": 110,
   "metadata": {},
   "outputs": [
    {
     "data": {
      "text/html": [
       "<div>\n",
       "<style scoped>\n",
       "    .dataframe tbody tr th:only-of-type {\n",
       "        vertical-align: middle;\n",
       "    }\n",
       "\n",
       "    .dataframe tbody tr th {\n",
       "        vertical-align: top;\n",
       "    }\n",
       "\n",
       "    .dataframe thead th {\n",
       "        text-align: right;\n",
       "    }\n",
       "</style>\n",
       "<table border=\"1\" class=\"dataframe\">\n",
       "  <thead>\n",
       "    <tr style=\"text-align: right;\">\n",
       "      <th></th>\n",
       "      <th>name</th>\n",
       "      <th>id</th>\n",
       "    </tr>\n",
       "  </thead>\n",
       "  <tbody>\n",
       "    <tr>\n",
       "      <th>25</th>\n",
       "      <td>Bissell St &amp; Armitage Ave</td>\n",
       "      <td>13059</td>\n",
       "    </tr>\n",
       "    <tr>\n",
       "      <th>222</th>\n",
       "      <td>Sheridan Rd &amp; Argyle St</td>\n",
       "      <td>13059</td>\n",
       "    </tr>\n",
       "  </tbody>\n",
       "</table>\n",
       "</div>"
      ],
      "text/plain": [
       "                          name     id\n",
       "25   Bissell St & Armitage Ave  13059\n",
       "222    Sheridan Rd & Argyle St  13059"
      ]
     },
     "execution_count": 110,
     "metadata": {},
     "output_type": "execute_result"
    }
   ],
   "source": [
    "stations_df_drop[stations_df_drop['id']=='13059'] "
   ]
  },
  {
   "cell_type": "code",
   "execution_count": 111,
   "metadata": {},
   "outputs": [
    {
     "data": {
      "text/plain": [
       "(lat    41.918018\n",
       " lng   -87.652182\n",
       " Name: (Bissell St & Armitage Ave, 13059), dtype: float64,\n",
       " lat    41.973287\n",
       " lng   -87.654760\n",
       " Name: (Sheridan Rd & Argyle St, 13059), dtype: float64)"
      ]
     },
     "execution_count": 111,
     "metadata": {},
     "output_type": "execute_result"
    }
   ],
   "source": [
    "stations_df_lat_lng.loc[('Bissell St & Armitage Ave', '13059')], stations_df_lat_lng.loc[('Sheridan Rd & Argyle St', '13059')] # same id different location "
   ]
  },
  {
   "cell_type": "code",
   "execution_count": 109,
   "metadata": {},
   "outputs": [
    {
     "data": {
      "text/plain": [
       "False    9785100\n",
       "Name: id, dtype: int64"
      ]
     },
     "execution_count": 109,
     "metadata": {},
     "output_type": "execute_result"
    }
   ],
   "source": [
    "stations_df['id'].str.startswith(\"A\").value_counts() # no id start with A"
   ]
  },
  {
   "cell_type": "code",
   "execution_count": 158,
   "metadata": {},
   "outputs": [],
   "source": [
    "modify = {\"change_name\": {}, \"change_id\": {}} # change_name: distance is less than 50 meters, so we only need to change name, change_id: distance is greater than 50 meters\n",
    "distance_list = []\n",
    "for id, name in stations_df_drop.groupby('id', as_index=False)['name']:\n",
    "    distances = distance.distance(stations_df_lat_lng.loc[(name.values[0], id)].values, stations_df_lat_lng.loc[(name.values[1], id)].values).km\n",
    "    distance_list.append(distances)\n",
    "    if distances <= 0.5:\n",
    "        modify[\"change_name\"][id] = name.values[0]\n",
    "    else:\n",
    "        modify[\"change_id\"][name.values[0]] = \"A\" + id + \"-1\" # create new id "
   ]
  },
  {
   "cell_type": "code",
   "execution_count": 159,
   "metadata": {},
   "outputs": [
    {
     "data": {
      "text/plain": [
       "(223, 97)"
      ]
     },
     "execution_count": 159,
     "metadata": {},
     "output_type": "execute_result"
    }
   ],
   "source": [
    "len(modify['change_name']), len(modify['change_id'])"
   ]
  },
  {
   "cell_type": "code",
   "execution_count": 160,
   "metadata": {},
   "outputs": [],
   "source": [
    "df1 = df.copy()"
   ]
  },
  {
   "cell_type": "code",
   "execution_count": 161,
   "metadata": {},
   "outputs": [],
   "source": [
    "for item in modify['change_name'].items():\n",
    "    df1.loc[df1['start_station_id'] == item[0], 'start_station_name'] = item[1]\n",
    "    df1.loc[df1['end_station_id'] == item[0], 'end_station_name'] = item[1]\n",
    "for item in modify['change_id'].items():\n",
    "    df1.loc[df1['start_station_name'] == item[0], 'start_station_id'] = item[1]\n",
    "    df1.loc[df1['end_station_name'] == item[0], 'end_station_id'] = item[1]"
   ]
  },
  {
   "cell_type": "markdown",
   "metadata": {},
   "source": [
    "### Check the modified df1"
   ]
  },
  {
   "cell_type": "code",
   "execution_count": 162,
   "metadata": {},
   "outputs": [
    {
     "data": {
      "text/plain": [
       "array(['10101 S Stony Island Ave',\n",
       "       'Public Rack - 10101 S Stony Island Ave'], dtype=object)"
      ]
     },
     "execution_count": 162,
     "metadata": {},
     "output_type": "execute_result"
    }
   ],
   "source": [
    "df[df['end_station_id']=='922']['end_station_name'].unique()"
   ]
  },
  {
   "cell_type": "code",
   "execution_count": 163,
   "metadata": {},
   "outputs": [
    {
     "data": {
      "text/plain": [
       "array(['10101 S Stony Island Ave'], dtype=object)"
      ]
     },
     "execution_count": 163,
     "metadata": {},
     "output_type": "execute_result"
    }
   ],
   "source": [
    "df1[df1['end_station_id']=='922']['end_station_name'].unique()"
   ]
  },
  {
   "cell_type": "code",
   "execution_count": 164,
   "metadata": {},
   "outputs": [
    {
     "data": {
      "text/html": [
       "<div>\n",
       "<style scoped>\n",
       "    .dataframe tbody tr th:only-of-type {\n",
       "        vertical-align: middle;\n",
       "    }\n",
       "\n",
       "    .dataframe tbody tr th {\n",
       "        vertical-align: top;\n",
       "    }\n",
       "\n",
       "    .dataframe thead th {\n",
       "        text-align: right;\n",
       "    }\n",
       "</style>\n",
       "<table border=\"1\" class=\"dataframe\">\n",
       "  <thead>\n",
       "    <tr style=\"text-align: right;\">\n",
       "      <th></th>\n",
       "      <th>ride_id</th>\n",
       "      <th>rideable_type</th>\n",
       "      <th>started_at</th>\n",
       "      <th>ended_at</th>\n",
       "      <th>start_station_name</th>\n",
       "      <th>start_station_id</th>\n",
       "      <th>end_station_name</th>\n",
       "      <th>end_station_id</th>\n",
       "      <th>start_lat</th>\n",
       "      <th>start_lng</th>\n",
       "      <th>end_lat</th>\n",
       "      <th>end_lng</th>\n",
       "      <th>member_casual</th>\n",
       "    </tr>\n",
       "  </thead>\n",
       "  <tbody>\n",
       "    <tr>\n",
       "      <th>3210529</th>\n",
       "      <td>816E85DF05085E85</td>\n",
       "      <td>electric_bike</td>\n",
       "      <td>2022-12-01 19:12:33</td>\n",
       "      <td>2022-12-01 19:19:10</td>\n",
       "      <td>Maryland Ave &amp; 104th St</td>\n",
       "      <td>20134</td>\n",
       "      <td>10101 S Stony Island Ave</td>\n",
       "      <td>922</td>\n",
       "      <td>41.71</td>\n",
       "      <td>-87.6</td>\n",
       "      <td>41.71</td>\n",
       "      <td>-87.58</td>\n",
       "      <td>casual</td>\n",
       "    </tr>\n",
       "  </tbody>\n",
       "</table>\n",
       "</div>"
      ],
      "text/plain": [
       "                  ride_id  rideable_type          started_at  \\\n",
       "3210529  816E85DF05085E85  electric_bike 2022-12-01 19:12:33   \n",
       "\n",
       "                   ended_at       start_station_name start_station_id  \\\n",
       "3210529 2022-12-01 19:19:10  Maryland Ave & 104th St            20134   \n",
       "\n",
       "                 end_station_name end_station_id  start_lat  start_lng  \\\n",
       "3210529  10101 S Stony Island Ave            922      41.71      -87.6   \n",
       "\n",
       "         end_lat  end_lng member_casual  \n",
       "3210529    41.71   -87.58        casual  "
      ]
     },
     "execution_count": 164,
     "metadata": {},
     "output_type": "execute_result"
    }
   ],
   "source": [
    "df1[df['end_station_name']=='Public Rack - 10101 S Stony Island Ave']"
   ]
  },
  {
   "cell_type": "code",
   "execution_count": 165,
   "metadata": {},
   "outputs": [
    {
     "data": {
      "text/plain": [
       "array(['Bissell St & Armitage Ave', 'Sheridan Rd & Argyle St'],\n",
       "      dtype=object)"
      ]
     },
     "execution_count": 165,
     "metadata": {},
     "output_type": "execute_result"
    }
   ],
   "source": [
    "df[df['end_station_id']=='13059']['end_station_name'].unique()"
   ]
  },
  {
   "cell_type": "code",
   "execution_count": 166,
   "metadata": {},
   "outputs": [
    {
     "data": {
      "text/plain": [
       "array(['Sheridan Rd & Argyle St'], dtype=object)"
      ]
     },
     "execution_count": 166,
     "metadata": {},
     "output_type": "execute_result"
    }
   ],
   "source": [
    "df1[df1['end_station_id']=='13059']['end_station_name'].unique()"
   ]
  },
  {
   "cell_type": "code",
   "execution_count": 167,
   "metadata": {},
   "outputs": [
    {
     "data": {
      "text/plain": [
       "array(['A13059-1'], dtype=object)"
      ]
     },
     "execution_count": 167,
     "metadata": {},
     "output_type": "execute_result"
    }
   ],
   "source": [
    "df1[df['end_station_name']=='Bissell St & Armitage Ave']['end_station_id'].unique()"
   ]
  },
  {
   "cell_type": "markdown",
   "metadata": {},
   "source": [
    "# Deal with missing values\n",
    "As remembered, we have \n",
    "- start_station_name:    857860\n",
    "- start_station_id:     857992\n",
    "- end_station_name:      915655\n",
    "- end_station_id:        915796\n",
    "- end_lat:                5795\n",
    "- end_lng:                 5795"
   ]
  },
  {
   "cell_type": "markdown",
   "metadata": {},
   "source": [
    "# First deal with end_lat and end_lng"
   ]
  },
  {
   "cell_type": "code",
   "execution_count": 168,
   "metadata": {},
   "outputs": [
    {
     "data": {
      "text/html": [
       "<div>\n",
       "<style scoped>\n",
       "    .dataframe tbody tr th:only-of-type {\n",
       "        vertical-align: middle;\n",
       "    }\n",
       "\n",
       "    .dataframe tbody tr th {\n",
       "        vertical-align: top;\n",
       "    }\n",
       "\n",
       "    .dataframe thead th {\n",
       "        text-align: right;\n",
       "    }\n",
       "</style>\n",
       "<table border=\"1\" class=\"dataframe\">\n",
       "  <thead>\n",
       "    <tr style=\"text-align: right;\">\n",
       "      <th></th>\n",
       "      <th>ride_id</th>\n",
       "      <th>rideable_type</th>\n",
       "      <th>started_at</th>\n",
       "      <th>ended_at</th>\n",
       "      <th>start_station_name</th>\n",
       "      <th>start_station_id</th>\n",
       "      <th>end_station_name</th>\n",
       "      <th>end_station_id</th>\n",
       "      <th>start_lat</th>\n",
       "      <th>start_lng</th>\n",
       "      <th>end_lat</th>\n",
       "      <th>end_lng</th>\n",
       "      <th>member_casual</th>\n",
       "    </tr>\n",
       "  </thead>\n",
       "  <tbody>\n",
       "    <tr>\n",
       "      <th>36126</th>\n",
       "      <td>87BB03841B82D504</td>\n",
       "      <td>docked_bike</td>\n",
       "      <td>2022-07-02 07:08:11</td>\n",
       "      <td>2022-07-03 08:08:12</td>\n",
       "      <td>Montrose Harbor</td>\n",
       "      <td>TA1308000012</td>\n",
       "      <td>NaN</td>\n",
       "      <td>NaN</td>\n",
       "      <td>41.963982</td>\n",
       "      <td>-87.638181</td>\n",
       "      <td>NaN</td>\n",
       "      <td>NaN</td>\n",
       "      <td>casual</td>\n",
       "    </tr>\n",
       "    <tr>\n",
       "      <th>36267</th>\n",
       "      <td>25A007F2C8F64C47</td>\n",
       "      <td>docked_bike</td>\n",
       "      <td>2022-07-31 03:43:11</td>\n",
       "      <td>2022-08-01 04:43:11</td>\n",
       "      <td>Wilton Ave &amp; Belmont Ave</td>\n",
       "      <td>TA1307000134</td>\n",
       "      <td>NaN</td>\n",
       "      <td>NaN</td>\n",
       "      <td>41.940180</td>\n",
       "      <td>-87.653040</td>\n",
       "      <td>NaN</td>\n",
       "      <td>NaN</td>\n",
       "      <td>casual</td>\n",
       "    </tr>\n",
       "    <tr>\n",
       "      <th>36298</th>\n",
       "      <td>3214D4171EFEABB8</td>\n",
       "      <td>docked_bike</td>\n",
       "      <td>2022-07-04 14:48:04</td>\n",
       "      <td>2022-07-06 04:35:55</td>\n",
       "      <td>Broadway &amp; Granville Ave</td>\n",
       "      <td>15571</td>\n",
       "      <td>NaN</td>\n",
       "      <td>NaN</td>\n",
       "      <td>41.994780</td>\n",
       "      <td>-87.660285</td>\n",
       "      <td>NaN</td>\n",
       "      <td>NaN</td>\n",
       "      <td>casual</td>\n",
       "    </tr>\n",
       "    <tr>\n",
       "      <th>36335</th>\n",
       "      <td>56CDD157E2A5FA9E</td>\n",
       "      <td>docked_bike</td>\n",
       "      <td>2022-07-09 17:30:57</td>\n",
       "      <td>2022-07-11 04:53:37</td>\n",
       "      <td>Ritchie Ct &amp; Banks St</td>\n",
       "      <td>KA1504000134</td>\n",
       "      <td>NaN</td>\n",
       "      <td>NaN</td>\n",
       "      <td>41.906866</td>\n",
       "      <td>-87.626217</td>\n",
       "      <td>NaN</td>\n",
       "      <td>NaN</td>\n",
       "      <td>casual</td>\n",
       "    </tr>\n",
       "    <tr>\n",
       "      <th>36357</th>\n",
       "      <td>EE1476DF7A8D7D4B</td>\n",
       "      <td>docked_bike</td>\n",
       "      <td>2022-07-03 17:33:33</td>\n",
       "      <td>2022-07-03 17:50:34</td>\n",
       "      <td>Shedd Aquarium</td>\n",
       "      <td>15544</td>\n",
       "      <td>NaN</td>\n",
       "      <td>NaN</td>\n",
       "      <td>41.867226</td>\n",
       "      <td>-87.615355</td>\n",
       "      <td>NaN</td>\n",
       "      <td>NaN</td>\n",
       "      <td>casual</td>\n",
       "    </tr>\n",
       "    <tr>\n",
       "      <th>...</th>\n",
       "      <td>...</td>\n",
       "      <td>...</td>\n",
       "      <td>...</td>\n",
       "      <td>...</td>\n",
       "      <td>...</td>\n",
       "      <td>...</td>\n",
       "      <td>...</td>\n",
       "      <td>...</td>\n",
       "      <td>...</td>\n",
       "      <td>...</td>\n",
       "      <td>...</td>\n",
       "      <td>...</td>\n",
       "      <td>...</td>\n",
       "    </tr>\n",
       "    <tr>\n",
       "      <th>5779241</th>\n",
       "      <td>C7B545B3BE23D680</td>\n",
       "      <td>classic_bike</td>\n",
       "      <td>2023-06-11 00:03:01</td>\n",
       "      <td>2023-06-12 01:02:48</td>\n",
       "      <td>Leavitt St &amp; Addison St</td>\n",
       "      <td>KA1504000143</td>\n",
       "      <td>NaN</td>\n",
       "      <td>NaN</td>\n",
       "      <td>41.946655</td>\n",
       "      <td>-87.683359</td>\n",
       "      <td>NaN</td>\n",
       "      <td>NaN</td>\n",
       "      <td>casual</td>\n",
       "    </tr>\n",
       "    <tr>\n",
       "      <th>5779315</th>\n",
       "      <td>6445BF0AC9810E43</td>\n",
       "      <td>docked_bike</td>\n",
       "      <td>2023-06-23 18:34:00</td>\n",
       "      <td>2023-06-23 19:07:33</td>\n",
       "      <td>Leavitt St &amp; Addison St</td>\n",
       "      <td>KA1504000143</td>\n",
       "      <td>NaN</td>\n",
       "      <td>NaN</td>\n",
       "      <td>41.946655</td>\n",
       "      <td>-87.683359</td>\n",
       "      <td>NaN</td>\n",
       "      <td>NaN</td>\n",
       "      <td>casual</td>\n",
       "    </tr>\n",
       "    <tr>\n",
       "      <th>5779322</th>\n",
       "      <td>135D6E16C06A802E</td>\n",
       "      <td>classic_bike</td>\n",
       "      <td>2023-06-19 14:02:04</td>\n",
       "      <td>2023-06-20 15:01:43</td>\n",
       "      <td>Paulina St &amp; Montrose Ave</td>\n",
       "      <td>TA1309000021</td>\n",
       "      <td>NaN</td>\n",
       "      <td>NaN</td>\n",
       "      <td>41.961507</td>\n",
       "      <td>-87.671387</td>\n",
       "      <td>NaN</td>\n",
       "      <td>NaN</td>\n",
       "      <td>casual</td>\n",
       "    </tr>\n",
       "    <tr>\n",
       "      <th>5779428</th>\n",
       "      <td>AF036A8A8EBF731E</td>\n",
       "      <td>docked_bike</td>\n",
       "      <td>2023-06-10 11:56:08</td>\n",
       "      <td>2023-06-15 04:57:09</td>\n",
       "      <td>Clark St &amp; Lincoln Ave</td>\n",
       "      <td>13179</td>\n",
       "      <td>NaN</td>\n",
       "      <td>NaN</td>\n",
       "      <td>41.915689</td>\n",
       "      <td>-87.634600</td>\n",
       "      <td>NaN</td>\n",
       "      <td>NaN</td>\n",
       "      <td>casual</td>\n",
       "    </tr>\n",
       "    <tr>\n",
       "      <th>5779443</th>\n",
       "      <td>66EF9F3C318208B9</td>\n",
       "      <td>classic_bike</td>\n",
       "      <td>2023-06-24 21:30:30</td>\n",
       "      <td>2023-06-25 22:30:07</td>\n",
       "      <td>Fairbanks Ct &amp; Grand Ave</td>\n",
       "      <td>TA1305000003</td>\n",
       "      <td>NaN</td>\n",
       "      <td>NaN</td>\n",
       "      <td>41.891847</td>\n",
       "      <td>-87.620580</td>\n",
       "      <td>NaN</td>\n",
       "      <td>NaN</td>\n",
       "      <td>casual</td>\n",
       "    </tr>\n",
       "  </tbody>\n",
       "</table>\n",
       "<p>5795 rows × 13 columns</p>\n",
       "</div>"
      ],
      "text/plain": [
       "                  ride_id rideable_type          started_at  \\\n",
       "36126    87BB03841B82D504   docked_bike 2022-07-02 07:08:11   \n",
       "36267    25A007F2C8F64C47   docked_bike 2022-07-31 03:43:11   \n",
       "36298    3214D4171EFEABB8   docked_bike 2022-07-04 14:48:04   \n",
       "36335    56CDD157E2A5FA9E   docked_bike 2022-07-09 17:30:57   \n",
       "36357    EE1476DF7A8D7D4B   docked_bike 2022-07-03 17:33:33   \n",
       "...                   ...           ...                 ...   \n",
       "5779241  C7B545B3BE23D680  classic_bike 2023-06-11 00:03:01   \n",
       "5779315  6445BF0AC9810E43   docked_bike 2023-06-23 18:34:00   \n",
       "5779322  135D6E16C06A802E  classic_bike 2023-06-19 14:02:04   \n",
       "5779428  AF036A8A8EBF731E   docked_bike 2023-06-10 11:56:08   \n",
       "5779443  66EF9F3C318208B9  classic_bike 2023-06-24 21:30:30   \n",
       "\n",
       "                   ended_at         start_station_name start_station_id  \\\n",
       "36126   2022-07-03 08:08:12            Montrose Harbor     TA1308000012   \n",
       "36267   2022-08-01 04:43:11   Wilton Ave & Belmont Ave     TA1307000134   \n",
       "36298   2022-07-06 04:35:55   Broadway & Granville Ave            15571   \n",
       "36335   2022-07-11 04:53:37      Ritchie Ct & Banks St     KA1504000134   \n",
       "36357   2022-07-03 17:50:34             Shedd Aquarium            15544   \n",
       "...                     ...                        ...              ...   \n",
       "5779241 2023-06-12 01:02:48    Leavitt St & Addison St     KA1504000143   \n",
       "5779315 2023-06-23 19:07:33    Leavitt St & Addison St     KA1504000143   \n",
       "5779322 2023-06-20 15:01:43  Paulina St & Montrose Ave     TA1309000021   \n",
       "5779428 2023-06-15 04:57:09     Clark St & Lincoln Ave            13179   \n",
       "5779443 2023-06-25 22:30:07   Fairbanks Ct & Grand Ave     TA1305000003   \n",
       "\n",
       "        end_station_name end_station_id  start_lat  start_lng  end_lat  \\\n",
       "36126                NaN            NaN  41.963982 -87.638181      NaN   \n",
       "36267                NaN            NaN  41.940180 -87.653040      NaN   \n",
       "36298                NaN            NaN  41.994780 -87.660285      NaN   \n",
       "36335                NaN            NaN  41.906866 -87.626217      NaN   \n",
       "36357                NaN            NaN  41.867226 -87.615355      NaN   \n",
       "...                  ...            ...        ...        ...      ...   \n",
       "5779241              NaN            NaN  41.946655 -87.683359      NaN   \n",
       "5779315              NaN            NaN  41.946655 -87.683359      NaN   \n",
       "5779322              NaN            NaN  41.961507 -87.671387      NaN   \n",
       "5779428              NaN            NaN  41.915689 -87.634600      NaN   \n",
       "5779443              NaN            NaN  41.891847 -87.620580      NaN   \n",
       "\n",
       "         end_lng member_casual  \n",
       "36126        NaN        casual  \n",
       "36267        NaN        casual  \n",
       "36298        NaN        casual  \n",
       "36335        NaN        casual  \n",
       "36357        NaN        casual  \n",
       "...          ...           ...  \n",
       "5779241      NaN        casual  \n",
       "5779315      NaN        casual  \n",
       "5779322      NaN        casual  \n",
       "5779428      NaN        casual  \n",
       "5779443      NaN        casual  \n",
       "\n",
       "[5795 rows x 13 columns]"
      ]
     },
     "execution_count": 168,
     "metadata": {},
     "output_type": "execute_result"
    }
   ],
   "source": [
    "df_end_na = df1[df1['end_lat'].isna() & df1['end_lng'].isna()]\n",
    "df_end_na"
   ]
  },
  {
   "cell_type": "code",
   "execution_count": 169,
   "metadata": {},
   "outputs": [
    {
     "data": {
      "text/plain": [
       "5785"
      ]
     },
     "execution_count": 169,
     "metadata": {},
     "output_type": "execute_result"
    }
   ],
   "source": [
    "(df1['end_station_id'].isna() & df1['end_station_name'].isna() & df1['end_lat'].isna() & df1['end_lng'].isna()).sum()"
   ]
  },
  {
   "cell_type": "markdown",
   "metadata": {},
   "source": [
    "There are 10 instances having empty end_lat and end_lng but with end_station_name and end_station_id"
   ]
  },
  {
   "cell_type": "code",
   "execution_count": 204,
   "metadata": {},
   "outputs": [
    {
     "name": "stderr",
     "output_type": "stream",
     "text": [
      "/var/folders/95/lczm9_vd3899jm27hx7pnk580000gn/T/ipykernel_10248/3948280603.py:1: UserWarning: Boolean Series key will be reindexed to match DataFrame index.\n",
      "  df_end_na[-(df1['end_station_id'].isna() & df1['end_station_name'].isna() & df1['end_lat'].isna() & df1['end_lng'].isna())]\n"
     ]
    },
    {
     "data": {
      "text/html": [
       "<div>\n",
       "<style scoped>\n",
       "    .dataframe tbody tr th:only-of-type {\n",
       "        vertical-align: middle;\n",
       "    }\n",
       "\n",
       "    .dataframe tbody tr th {\n",
       "        vertical-align: top;\n",
       "    }\n",
       "\n",
       "    .dataframe thead th {\n",
       "        text-align: right;\n",
       "    }\n",
       "</style>\n",
       "<table border=\"1\" class=\"dataframe\">\n",
       "  <thead>\n",
       "    <tr style=\"text-align: right;\">\n",
       "      <th></th>\n",
       "      <th>ride_id</th>\n",
       "      <th>rideable_type</th>\n",
       "      <th>started_at</th>\n",
       "      <th>ended_at</th>\n",
       "      <th>start_station_name</th>\n",
       "      <th>start_station_id</th>\n",
       "      <th>end_station_name</th>\n",
       "      <th>end_station_id</th>\n",
       "      <th>start_lat</th>\n",
       "      <th>start_lng</th>\n",
       "      <th>end_lat</th>\n",
       "      <th>end_lng</th>\n",
       "      <th>member_casual</th>\n",
       "    </tr>\n",
       "  </thead>\n",
       "  <tbody>\n",
       "    <tr>\n",
       "      <th>5166835</th>\n",
       "      <td>685DB4D7A6AF6CAE</td>\n",
       "      <td>docked_bike</td>\n",
       "      <td>2023-06-29 17:35:41</td>\n",
       "      <td>2023-06-29 17:45:38</td>\n",
       "      <td>Sedgwick St &amp; Huron St</td>\n",
       "      <td>TA1307000062</td>\n",
       "      <td>Halsted St &amp; Fulton St</td>\n",
       "      <td>23003</td>\n",
       "      <td>41.894666</td>\n",
       "      <td>-87.638437</td>\n",
       "      <td>NaN</td>\n",
       "      <td>NaN</td>\n",
       "      <td>casual</td>\n",
       "    </tr>\n",
       "    <tr>\n",
       "      <th>5205953</th>\n",
       "      <td>E4AB9F672ECD0966</td>\n",
       "      <td>docked_bike</td>\n",
       "      <td>2023-06-29 14:50:04</td>\n",
       "      <td>2023-06-29 15:06:49</td>\n",
       "      <td>Wabash Ave &amp; Grand Ave</td>\n",
       "      <td>TA1307000117</td>\n",
       "      <td>Halsted St &amp; Fulton St</td>\n",
       "      <td>23003</td>\n",
       "      <td>41.891466</td>\n",
       "      <td>-87.626761</td>\n",
       "      <td>NaN</td>\n",
       "      <td>NaN</td>\n",
       "      <td>casual</td>\n",
       "    </tr>\n",
       "    <tr>\n",
       "      <th>5206917</th>\n",
       "      <td>B0A0B0C83B363BC3</td>\n",
       "      <td>docked_bike</td>\n",
       "      <td>2023-06-23 16:06:21</td>\n",
       "      <td>2023-06-23 16:16:55</td>\n",
       "      <td>Cottage Grove Ave &amp; 63rd St</td>\n",
       "      <td>KA1503000054</td>\n",
       "      <td>Stony Island Ave &amp; 63rd St</td>\n",
       "      <td>653B</td>\n",
       "      <td>41.780531</td>\n",
       "      <td>-87.605970</td>\n",
       "      <td>NaN</td>\n",
       "      <td>NaN</td>\n",
       "      <td>casual</td>\n",
       "    </tr>\n",
       "    <tr>\n",
       "      <th>5253449</th>\n",
       "      <td>2C35DCA44370EAD8</td>\n",
       "      <td>docked_bike</td>\n",
       "      <td>2023-06-30 18:45:11</td>\n",
       "      <td>2023-06-30 19:06:34</td>\n",
       "      <td>Damen Ave &amp; Foster Ave</td>\n",
       "      <td>KA1504000149</td>\n",
       "      <td>Lincoln Ave &amp; Byron St</td>\n",
       "      <td>23002</td>\n",
       "      <td>41.975615</td>\n",
       "      <td>-87.679459</td>\n",
       "      <td>NaN</td>\n",
       "      <td>NaN</td>\n",
       "      <td>casual</td>\n",
       "    </tr>\n",
       "    <tr>\n",
       "      <th>5254449</th>\n",
       "      <td>D19CA7CA83B28F88</td>\n",
       "      <td>docked_bike</td>\n",
       "      <td>2023-06-29 17:36:45</td>\n",
       "      <td>2023-06-29 18:02:39</td>\n",
       "      <td>Manor Ave &amp; Leland Ave</td>\n",
       "      <td>KA1504000127</td>\n",
       "      <td>Lincoln Ave &amp; Byron St</td>\n",
       "      <td>23002</td>\n",
       "      <td>41.965875</td>\n",
       "      <td>-87.700825</td>\n",
       "      <td>NaN</td>\n",
       "      <td>NaN</td>\n",
       "      <td>casual</td>\n",
       "    </tr>\n",
       "    <tr>\n",
       "      <th>5256454</th>\n",
       "      <td>1005EAF8E1C29D5C</td>\n",
       "      <td>docked_bike</td>\n",
       "      <td>2023-06-24 13:56:09</td>\n",
       "      <td>2023-06-24 14:18:23</td>\n",
       "      <td>Clark St &amp; Bryn Mawr Ave</td>\n",
       "      <td>KA1504000151</td>\n",
       "      <td>Lincoln Ave &amp; Byron St</td>\n",
       "      <td>23002</td>\n",
       "      <td>41.983593</td>\n",
       "      <td>-87.669154</td>\n",
       "      <td>NaN</td>\n",
       "      <td>NaN</td>\n",
       "      <td>casual</td>\n",
       "    </tr>\n",
       "    <tr>\n",
       "      <th>5259381</th>\n",
       "      <td>B34C24AD17CCB667</td>\n",
       "      <td>docked_bike</td>\n",
       "      <td>2023-06-22 22:32:59</td>\n",
       "      <td>2023-06-22 23:09:50</td>\n",
       "      <td>Green St &amp; Randolph St</td>\n",
       "      <td>13053</td>\n",
       "      <td>Halsted St &amp; Fulton St</td>\n",
       "      <td>23003</td>\n",
       "      <td>41.883181</td>\n",
       "      <td>-87.648725</td>\n",
       "      <td>NaN</td>\n",
       "      <td>NaN</td>\n",
       "      <td>casual</td>\n",
       "    </tr>\n",
       "    <tr>\n",
       "      <th>5259389</th>\n",
       "      <td>64D120B77FA6F330</td>\n",
       "      <td>docked_bike</td>\n",
       "      <td>2023-06-22 22:32:41</td>\n",
       "      <td>2023-06-22 23:09:48</td>\n",
       "      <td>Green St &amp; Randolph St</td>\n",
       "      <td>13053</td>\n",
       "      <td>Halsted St &amp; Fulton St</td>\n",
       "      <td>23003</td>\n",
       "      <td>41.883181</td>\n",
       "      <td>-87.648725</td>\n",
       "      <td>NaN</td>\n",
       "      <td>NaN</td>\n",
       "      <td>casual</td>\n",
       "    </tr>\n",
       "    <tr>\n",
       "      <th>5259519</th>\n",
       "      <td>92008CFA88E93F44</td>\n",
       "      <td>docked_bike</td>\n",
       "      <td>2023-06-22 22:33:03</td>\n",
       "      <td>2023-06-22 23:09:44</td>\n",
       "      <td>Green St &amp; Randolph St</td>\n",
       "      <td>13053</td>\n",
       "      <td>Halsted St &amp; Fulton St</td>\n",
       "      <td>23003</td>\n",
       "      <td>41.883181</td>\n",
       "      <td>-87.648725</td>\n",
       "      <td>NaN</td>\n",
       "      <td>NaN</td>\n",
       "      <td>casual</td>\n",
       "    </tr>\n",
       "    <tr>\n",
       "      <th>5262117</th>\n",
       "      <td>84106BA64096E4EC</td>\n",
       "      <td>docked_bike</td>\n",
       "      <td>2023-06-30 14:06:15</td>\n",
       "      <td>2023-06-30 14:09:53</td>\n",
       "      <td>Clinton St &amp; Lake St</td>\n",
       "      <td>13021</td>\n",
       "      <td>Halsted St &amp; Fulton St</td>\n",
       "      <td>23003</td>\n",
       "      <td>41.885637</td>\n",
       "      <td>-87.641823</td>\n",
       "      <td>NaN</td>\n",
       "      <td>NaN</td>\n",
       "      <td>casual</td>\n",
       "    </tr>\n",
       "  </tbody>\n",
       "</table>\n",
       "</div>"
      ],
      "text/plain": [
       "                  ride_id rideable_type          started_at  \\\n",
       "5166835  685DB4D7A6AF6CAE   docked_bike 2023-06-29 17:35:41   \n",
       "5205953  E4AB9F672ECD0966   docked_bike 2023-06-29 14:50:04   \n",
       "5206917  B0A0B0C83B363BC3   docked_bike 2023-06-23 16:06:21   \n",
       "5253449  2C35DCA44370EAD8   docked_bike 2023-06-30 18:45:11   \n",
       "5254449  D19CA7CA83B28F88   docked_bike 2023-06-29 17:36:45   \n",
       "5256454  1005EAF8E1C29D5C   docked_bike 2023-06-24 13:56:09   \n",
       "5259381  B34C24AD17CCB667   docked_bike 2023-06-22 22:32:59   \n",
       "5259389  64D120B77FA6F330   docked_bike 2023-06-22 22:32:41   \n",
       "5259519  92008CFA88E93F44   docked_bike 2023-06-22 22:33:03   \n",
       "5262117  84106BA64096E4EC   docked_bike 2023-06-30 14:06:15   \n",
       "\n",
       "                   ended_at           start_station_name start_station_id  \\\n",
       "5166835 2023-06-29 17:45:38       Sedgwick St & Huron St     TA1307000062   \n",
       "5205953 2023-06-29 15:06:49       Wabash Ave & Grand Ave     TA1307000117   \n",
       "5206917 2023-06-23 16:16:55  Cottage Grove Ave & 63rd St     KA1503000054   \n",
       "5253449 2023-06-30 19:06:34       Damen Ave & Foster Ave     KA1504000149   \n",
       "5254449 2023-06-29 18:02:39       Manor Ave & Leland Ave     KA1504000127   \n",
       "5256454 2023-06-24 14:18:23     Clark St & Bryn Mawr Ave     KA1504000151   \n",
       "5259381 2023-06-22 23:09:50       Green St & Randolph St            13053   \n",
       "5259389 2023-06-22 23:09:48       Green St & Randolph St            13053   \n",
       "5259519 2023-06-22 23:09:44       Green St & Randolph St            13053   \n",
       "5262117 2023-06-30 14:09:53         Clinton St & Lake St            13021   \n",
       "\n",
       "                   end_station_name end_station_id  start_lat  start_lng  \\\n",
       "5166835      Halsted St & Fulton St          23003  41.894666 -87.638437   \n",
       "5205953      Halsted St & Fulton St          23003  41.891466 -87.626761   \n",
       "5206917  Stony Island Ave & 63rd St           653B  41.780531 -87.605970   \n",
       "5253449      Lincoln Ave & Byron St          23002  41.975615 -87.679459   \n",
       "5254449      Lincoln Ave & Byron St          23002  41.965875 -87.700825   \n",
       "5256454      Lincoln Ave & Byron St          23002  41.983593 -87.669154   \n",
       "5259381      Halsted St & Fulton St          23003  41.883181 -87.648725   \n",
       "5259389      Halsted St & Fulton St          23003  41.883181 -87.648725   \n",
       "5259519      Halsted St & Fulton St          23003  41.883181 -87.648725   \n",
       "5262117      Halsted St & Fulton St          23003  41.885637 -87.641823   \n",
       "\n",
       "         end_lat  end_lng member_casual  \n",
       "5166835      NaN      NaN        casual  \n",
       "5205953      NaN      NaN        casual  \n",
       "5206917      NaN      NaN        casual  \n",
       "5253449      NaN      NaN        casual  \n",
       "5254449      NaN      NaN        casual  \n",
       "5256454      NaN      NaN        casual  \n",
       "5259381      NaN      NaN        casual  \n",
       "5259389      NaN      NaN        casual  \n",
       "5259519      NaN      NaN        casual  \n",
       "5262117      NaN      NaN        casual  "
      ]
     },
     "execution_count": 204,
     "metadata": {},
     "output_type": "execute_result"
    }
   ],
   "source": [
    "df_end_na[-(df1['end_station_id'].isna() & df1['end_station_name'].isna() & df1['end_lat'].isna() & df1['end_lng'].isna())]"
   ]
  },
  {
   "cell_type": "code",
   "execution_count": 239,
   "metadata": {},
   "outputs": [
    {
     "name": "stderr",
     "output_type": "stream",
     "text": [
      "/var/folders/95/lczm9_vd3899jm27hx7pnk580000gn/T/ipykernel_10248/3877382732.py:1: UserWarning: Boolean Series key will be reindexed to match DataFrame index.\n",
      "  df_end_na_with_station = df_end_na[-(df1['end_station_id'].isna() & df1['end_station_name'].isna() & df1['end_lat'].isna() & df1['end_lng'].isna())]\n"
     ]
    }
   ],
   "source": [
    "df_end_na_with_station = df_end_na[-(df1['end_station_id'].isna() & df1['end_station_name'].isna() & df1['end_lat'].isna() & df1['end_lng'].isna())]"
   ]
  },
  {
   "cell_type": "markdown",
   "metadata": {},
   "source": [
    "### Solution\n",
    "The solution is to find the corresponded station_id and fill the empty cells"
   ]
  },
  {
   "cell_type": "markdown",
   "metadata": {},
   "source": [
    "## Create a list of all stations and their latitude and longitude"
   ]
  },
  {
   "cell_type": "code",
   "execution_count": 340,
   "metadata": {},
   "outputs": [
    {
     "name": "stderr",
     "output_type": "stream",
     "text": [
      "/var/folders/95/lczm9_vd3899jm27hx7pnk580000gn/T/ipykernel_10248/3352569540.py:4: FutureWarning: Indexing with multiple keys (implicitly converted to a tuple of keys) will be deprecated, use a list instead.\n",
      "  stations_df_lat_lng = stations_df.groupby(['name', 'id'])['lat', 'lng'].agg(lambda x: pd.Series.mode(x)[0])\n"
     ]
    }
   ],
   "source": [
    "start = df1.loc[:,[\"start_station_name\",\"start_station_id\", \"start_lat\", \"start_lng\"]]\n",
    "end = df1.loc[:,[\"end_station_name\", \"end_station_id\", \"end_lat\", \"end_lng\"]]\n",
    "stations_df = pd.concat([start.rename(columns={'start_station_name':'name', 'start_station_id': 'id', 'start_lat': 'lat', 'start_lng': 'lng'}), end.rename(columns={'end_station_name':'name', 'end_station_id': 'id', 'end_lat': 'lat', 'end_lng': 'lng'})])\n",
    "stations_df_lat_lng = stations_df.groupby(['name', 'id'])['lat', 'lng'].agg(lambda x: pd.Series.mode(x)[0])"
   ]
  },
  {
   "cell_type": "code",
   "execution_count": 232,
   "metadata": {},
   "outputs": [
    {
     "data": {
      "text/plain": [
       "lat    41.89\n",
       "lng   -87.65\n",
       "Name: (Halsted St & Fulton St, 23003), dtype: float64"
      ]
     },
     "execution_count": 232,
     "metadata": {},
     "output_type": "execute_result"
    }
   ],
   "source": [
    "stations_df_lat_lng.loc[('Halsted St & Fulton St','23003')]"
   ]
  },
  {
   "cell_type": "code",
   "execution_count": 242,
   "metadata": {},
   "outputs": [],
   "source": [
    "for index, row in df_end_na_with_station.iterrows():\n",
    "   lat_lng = stations_df_lat_lng.loc[(row['end_station_name'],row['end_station_id'])]\n",
    "   df_end_na_with_station.loc[index, 'end_lat'] = lat_lng[0]\n",
    "   df_end_na_with_station.loc[index, 'end_lng'] = lat_lng[1]"
   ]
  },
  {
   "cell_type": "code",
   "execution_count": 245,
   "metadata": {},
   "outputs": [],
   "source": [
    "df1.update(df_end_na_with_station)"
   ]
  },
  {
   "cell_type": "code",
   "execution_count": 253,
   "metadata": {},
   "outputs": [
    {
     "data": {
      "text/html": [
       "<div>\n",
       "<style scoped>\n",
       "    .dataframe tbody tr th:only-of-type {\n",
       "        vertical-align: middle;\n",
       "    }\n",
       "\n",
       "    .dataframe tbody tr th {\n",
       "        vertical-align: top;\n",
       "    }\n",
       "\n",
       "    .dataframe thead th {\n",
       "        text-align: right;\n",
       "    }\n",
       "</style>\n",
       "<table border=\"1\" class=\"dataframe\">\n",
       "  <thead>\n",
       "    <tr style=\"text-align: right;\">\n",
       "      <th></th>\n",
       "      <th>ride_id</th>\n",
       "      <th>rideable_type</th>\n",
       "      <th>started_at</th>\n",
       "      <th>ended_at</th>\n",
       "      <th>start_station_name</th>\n",
       "      <th>start_station_id</th>\n",
       "      <th>end_station_name</th>\n",
       "      <th>end_station_id</th>\n",
       "      <th>start_lat</th>\n",
       "      <th>start_lng</th>\n",
       "      <th>end_lat</th>\n",
       "      <th>end_lng</th>\n",
       "      <th>member_casual</th>\n",
       "    </tr>\n",
       "  </thead>\n",
       "  <tbody>\n",
       "    <tr>\n",
       "      <th>36126</th>\n",
       "      <td>87BB03841B82D504</td>\n",
       "      <td>docked_bike</td>\n",
       "      <td>2022-07-02 07:08:11</td>\n",
       "      <td>2022-07-03 08:08:12</td>\n",
       "      <td>Montrose Harbor</td>\n",
       "      <td>TA1308000012</td>\n",
       "      <td>NaN</td>\n",
       "      <td>NaN</td>\n",
       "      <td>41.963982</td>\n",
       "      <td>-87.638181</td>\n",
       "      <td>NaN</td>\n",
       "      <td>NaN</td>\n",
       "      <td>casual</td>\n",
       "    </tr>\n",
       "    <tr>\n",
       "      <th>36267</th>\n",
       "      <td>25A007F2C8F64C47</td>\n",
       "      <td>docked_bike</td>\n",
       "      <td>2022-07-31 03:43:11</td>\n",
       "      <td>2022-08-01 04:43:11</td>\n",
       "      <td>Wilton Ave &amp; Belmont Ave</td>\n",
       "      <td>TA1307000134</td>\n",
       "      <td>NaN</td>\n",
       "      <td>NaN</td>\n",
       "      <td>41.940180</td>\n",
       "      <td>-87.653040</td>\n",
       "      <td>NaN</td>\n",
       "      <td>NaN</td>\n",
       "      <td>casual</td>\n",
       "    </tr>\n",
       "    <tr>\n",
       "      <th>36298</th>\n",
       "      <td>3214D4171EFEABB8</td>\n",
       "      <td>docked_bike</td>\n",
       "      <td>2022-07-04 14:48:04</td>\n",
       "      <td>2022-07-06 04:35:55</td>\n",
       "      <td>Broadway &amp; Granville Ave</td>\n",
       "      <td>15571</td>\n",
       "      <td>NaN</td>\n",
       "      <td>NaN</td>\n",
       "      <td>41.994780</td>\n",
       "      <td>-87.660285</td>\n",
       "      <td>NaN</td>\n",
       "      <td>NaN</td>\n",
       "      <td>casual</td>\n",
       "    </tr>\n",
       "    <tr>\n",
       "      <th>36335</th>\n",
       "      <td>56CDD157E2A5FA9E</td>\n",
       "      <td>docked_bike</td>\n",
       "      <td>2022-07-09 17:30:57</td>\n",
       "      <td>2022-07-11 04:53:37</td>\n",
       "      <td>Ritchie Ct &amp; Banks St</td>\n",
       "      <td>KA1504000134</td>\n",
       "      <td>NaN</td>\n",
       "      <td>NaN</td>\n",
       "      <td>41.906866</td>\n",
       "      <td>-87.626217</td>\n",
       "      <td>NaN</td>\n",
       "      <td>NaN</td>\n",
       "      <td>casual</td>\n",
       "    </tr>\n",
       "    <tr>\n",
       "      <th>36357</th>\n",
       "      <td>EE1476DF7A8D7D4B</td>\n",
       "      <td>docked_bike</td>\n",
       "      <td>2022-07-03 17:33:33</td>\n",
       "      <td>2022-07-03 17:50:34</td>\n",
       "      <td>Shedd Aquarium</td>\n",
       "      <td>15544</td>\n",
       "      <td>NaN</td>\n",
       "      <td>NaN</td>\n",
       "      <td>41.867226</td>\n",
       "      <td>-87.615355</td>\n",
       "      <td>NaN</td>\n",
       "      <td>NaN</td>\n",
       "      <td>casual</td>\n",
       "    </tr>\n",
       "    <tr>\n",
       "      <th>...</th>\n",
       "      <td>...</td>\n",
       "      <td>...</td>\n",
       "      <td>...</td>\n",
       "      <td>...</td>\n",
       "      <td>...</td>\n",
       "      <td>...</td>\n",
       "      <td>...</td>\n",
       "      <td>...</td>\n",
       "      <td>...</td>\n",
       "      <td>...</td>\n",
       "      <td>...</td>\n",
       "      <td>...</td>\n",
       "      <td>...</td>\n",
       "    </tr>\n",
       "    <tr>\n",
       "      <th>5779241</th>\n",
       "      <td>C7B545B3BE23D680</td>\n",
       "      <td>classic_bike</td>\n",
       "      <td>2023-06-11 00:03:01</td>\n",
       "      <td>2023-06-12 01:02:48</td>\n",
       "      <td>Leavitt St &amp; Addison St</td>\n",
       "      <td>KA1504000143</td>\n",
       "      <td>NaN</td>\n",
       "      <td>NaN</td>\n",
       "      <td>41.946655</td>\n",
       "      <td>-87.683359</td>\n",
       "      <td>NaN</td>\n",
       "      <td>NaN</td>\n",
       "      <td>casual</td>\n",
       "    </tr>\n",
       "    <tr>\n",
       "      <th>5779315</th>\n",
       "      <td>6445BF0AC9810E43</td>\n",
       "      <td>docked_bike</td>\n",
       "      <td>2023-06-23 18:34:00</td>\n",
       "      <td>2023-06-23 19:07:33</td>\n",
       "      <td>Leavitt St &amp; Addison St</td>\n",
       "      <td>KA1504000143</td>\n",
       "      <td>NaN</td>\n",
       "      <td>NaN</td>\n",
       "      <td>41.946655</td>\n",
       "      <td>-87.683359</td>\n",
       "      <td>NaN</td>\n",
       "      <td>NaN</td>\n",
       "      <td>casual</td>\n",
       "    </tr>\n",
       "    <tr>\n",
       "      <th>5779322</th>\n",
       "      <td>135D6E16C06A802E</td>\n",
       "      <td>classic_bike</td>\n",
       "      <td>2023-06-19 14:02:04</td>\n",
       "      <td>2023-06-20 15:01:43</td>\n",
       "      <td>Paulina St &amp; Montrose Ave</td>\n",
       "      <td>TA1309000021</td>\n",
       "      <td>NaN</td>\n",
       "      <td>NaN</td>\n",
       "      <td>41.961507</td>\n",
       "      <td>-87.671387</td>\n",
       "      <td>NaN</td>\n",
       "      <td>NaN</td>\n",
       "      <td>casual</td>\n",
       "    </tr>\n",
       "    <tr>\n",
       "      <th>5779428</th>\n",
       "      <td>AF036A8A8EBF731E</td>\n",
       "      <td>docked_bike</td>\n",
       "      <td>2023-06-10 11:56:08</td>\n",
       "      <td>2023-06-15 04:57:09</td>\n",
       "      <td>Clark St &amp; Lincoln Ave</td>\n",
       "      <td>13179</td>\n",
       "      <td>NaN</td>\n",
       "      <td>NaN</td>\n",
       "      <td>41.915689</td>\n",
       "      <td>-87.634600</td>\n",
       "      <td>NaN</td>\n",
       "      <td>NaN</td>\n",
       "      <td>casual</td>\n",
       "    </tr>\n",
       "    <tr>\n",
       "      <th>5779443</th>\n",
       "      <td>66EF9F3C318208B9</td>\n",
       "      <td>classic_bike</td>\n",
       "      <td>2023-06-24 21:30:30</td>\n",
       "      <td>2023-06-25 22:30:07</td>\n",
       "      <td>Fairbanks Ct &amp; Grand Ave</td>\n",
       "      <td>TA1305000003</td>\n",
       "      <td>NaN</td>\n",
       "      <td>NaN</td>\n",
       "      <td>41.891847</td>\n",
       "      <td>-87.620580</td>\n",
       "      <td>NaN</td>\n",
       "      <td>NaN</td>\n",
       "      <td>casual</td>\n",
       "    </tr>\n",
       "  </tbody>\n",
       "</table>\n",
       "<p>5785 rows × 13 columns</p>\n",
       "</div>"
      ],
      "text/plain": [
       "                  ride_id rideable_type          started_at  \\\n",
       "36126    87BB03841B82D504   docked_bike 2022-07-02 07:08:11   \n",
       "36267    25A007F2C8F64C47   docked_bike 2022-07-31 03:43:11   \n",
       "36298    3214D4171EFEABB8   docked_bike 2022-07-04 14:48:04   \n",
       "36335    56CDD157E2A5FA9E   docked_bike 2022-07-09 17:30:57   \n",
       "36357    EE1476DF7A8D7D4B   docked_bike 2022-07-03 17:33:33   \n",
       "...                   ...           ...                 ...   \n",
       "5779241  C7B545B3BE23D680  classic_bike 2023-06-11 00:03:01   \n",
       "5779315  6445BF0AC9810E43   docked_bike 2023-06-23 18:34:00   \n",
       "5779322  135D6E16C06A802E  classic_bike 2023-06-19 14:02:04   \n",
       "5779428  AF036A8A8EBF731E   docked_bike 2023-06-10 11:56:08   \n",
       "5779443  66EF9F3C318208B9  classic_bike 2023-06-24 21:30:30   \n",
       "\n",
       "                   ended_at         start_station_name start_station_id  \\\n",
       "36126   2022-07-03 08:08:12            Montrose Harbor     TA1308000012   \n",
       "36267   2022-08-01 04:43:11   Wilton Ave & Belmont Ave     TA1307000134   \n",
       "36298   2022-07-06 04:35:55   Broadway & Granville Ave            15571   \n",
       "36335   2022-07-11 04:53:37      Ritchie Ct & Banks St     KA1504000134   \n",
       "36357   2022-07-03 17:50:34             Shedd Aquarium            15544   \n",
       "...                     ...                        ...              ...   \n",
       "5779241 2023-06-12 01:02:48    Leavitt St & Addison St     KA1504000143   \n",
       "5779315 2023-06-23 19:07:33    Leavitt St & Addison St     KA1504000143   \n",
       "5779322 2023-06-20 15:01:43  Paulina St & Montrose Ave     TA1309000021   \n",
       "5779428 2023-06-15 04:57:09     Clark St & Lincoln Ave            13179   \n",
       "5779443 2023-06-25 22:30:07   Fairbanks Ct & Grand Ave     TA1305000003   \n",
       "\n",
       "        end_station_name end_station_id  start_lat  start_lng  end_lat  \\\n",
       "36126                NaN            NaN  41.963982 -87.638181      NaN   \n",
       "36267                NaN            NaN  41.940180 -87.653040      NaN   \n",
       "36298                NaN            NaN  41.994780 -87.660285      NaN   \n",
       "36335                NaN            NaN  41.906866 -87.626217      NaN   \n",
       "36357                NaN            NaN  41.867226 -87.615355      NaN   \n",
       "...                  ...            ...        ...        ...      ...   \n",
       "5779241              NaN            NaN  41.946655 -87.683359      NaN   \n",
       "5779315              NaN            NaN  41.946655 -87.683359      NaN   \n",
       "5779322              NaN            NaN  41.961507 -87.671387      NaN   \n",
       "5779428              NaN            NaN  41.915689 -87.634600      NaN   \n",
       "5779443              NaN            NaN  41.891847 -87.620580      NaN   \n",
       "\n",
       "         end_lng member_casual  \n",
       "36126        NaN        casual  \n",
       "36267        NaN        casual  \n",
       "36298        NaN        casual  \n",
       "36335        NaN        casual  \n",
       "36357        NaN        casual  \n",
       "...          ...           ...  \n",
       "5779241      NaN        casual  \n",
       "5779315      NaN        casual  \n",
       "5779322      NaN        casual  \n",
       "5779428      NaN        casual  \n",
       "5779443      NaN        casual  \n",
       "\n",
       "[5785 rows x 13 columns]"
      ]
     },
     "execution_count": 253,
     "metadata": {},
     "output_type": "execute_result"
    }
   ],
   "source": [
    "df_end_na = df1[df1['end_lat'].isna() & df1['end_lng'].isna()]\n",
    "df_end_na"
   ]
  },
  {
   "cell_type": "code",
   "execution_count": 258,
   "metadata": {},
   "outputs": [
    {
     "name": "stderr",
     "output_type": "stream",
     "text": [
      "/var/folders/95/lczm9_vd3899jm27hx7pnk580000gn/T/ipykernel_10248/3948280603.py:1: UserWarning: Boolean Series key will be reindexed to match DataFrame index.\n",
      "  df_end_na[-(df1['end_station_id'].isna() & df1['end_station_name'].isna() & df1['end_lat'].isna() & df1['end_lng'].isna())]\n"
     ]
    },
    {
     "data": {
      "text/html": [
       "<div>\n",
       "<style scoped>\n",
       "    .dataframe tbody tr th:only-of-type {\n",
       "        vertical-align: middle;\n",
       "    }\n",
       "\n",
       "    .dataframe tbody tr th {\n",
       "        vertical-align: top;\n",
       "    }\n",
       "\n",
       "    .dataframe thead th {\n",
       "        text-align: right;\n",
       "    }\n",
       "</style>\n",
       "<table border=\"1\" class=\"dataframe\">\n",
       "  <thead>\n",
       "    <tr style=\"text-align: right;\">\n",
       "      <th></th>\n",
       "      <th>ride_id</th>\n",
       "      <th>rideable_type</th>\n",
       "      <th>started_at</th>\n",
       "      <th>ended_at</th>\n",
       "      <th>start_station_name</th>\n",
       "      <th>start_station_id</th>\n",
       "      <th>end_station_name</th>\n",
       "      <th>end_station_id</th>\n",
       "      <th>start_lat</th>\n",
       "      <th>start_lng</th>\n",
       "      <th>end_lat</th>\n",
       "      <th>end_lng</th>\n",
       "      <th>member_casual</th>\n",
       "    </tr>\n",
       "  </thead>\n",
       "  <tbody>\n",
       "  </tbody>\n",
       "</table>\n",
       "</div>"
      ],
      "text/plain": [
       "Empty DataFrame\n",
       "Columns: [ride_id, rideable_type, started_at, ended_at, start_station_name, start_station_id, end_station_name, end_station_id, start_lat, start_lng, end_lat, end_lng, member_casual]\n",
       "Index: []"
      ]
     },
     "execution_count": 258,
     "metadata": {},
     "output_type": "execute_result"
    }
   ],
   "source": [
    "df_end_na[-(df1['end_station_id'].isna() & df1['end_station_name'].isna() & df1['end_lat'].isna() & df1['end_lng'].isna())]"
   ]
  },
  {
   "cell_type": "markdown",
   "metadata": {},
   "source": [
    "## Fill the empty station names and end_station ids by lat and lng"
   ]
  },
  {
   "cell_type": "code",
   "execution_count": 362,
   "metadata": {},
   "outputs": [
    {
     "name": "stderr",
     "output_type": "stream",
     "text": [
      "/var/folders/95/lczm9_vd3899jm27hx7pnk580000gn/T/ipykernel_10248/1075009093.py:3: FutureWarning: Indexing with multiple keys (implicitly converted to a tuple of keys) will be deprecated, use a list instead.\n",
      "  lat_lng_table = lat_lng_table.groupby(['lat', 'lng'])['name', 'id'].first()\n"
     ]
    }
   ],
   "source": [
    "# stations_df.groupby(['name', 'id'])['lat', 'lng'].agg(lambda x: pd.Series.mode(x)[0])\n",
    "lat_lng_table = stations_df.dropna()\n",
    "lat_lng_table = lat_lng_table.groupby(['lat', 'lng'])['name', 'id'].first()\n",
    "dict_lat_lng = lat_lng_table.to_dict(orient='index')"
   ]
  },
  {
   "cell_type": "code",
   "execution_count": 438,
   "metadata": {},
   "outputs": [
    {
     "data": {
      "text/plain": [
       "(857860, 915655)"
      ]
     },
     "execution_count": 438,
     "metadata": {},
     "output_type": "execute_result"
    }
   ],
   "source": [
    "df_start_station_na = df1[(df1['start_station_name'].isna() & df1['start_station_id'].isna())]\n",
    "df_end_station_na = df1[(df1['end_station_name'].isna() & df1['end_station_id'].isna())]\n",
    "len(df_start_station_na), len(df_end_station_na)"
   ]
  },
  {
   "cell_type": "code",
   "execution_count": 439,
   "metadata": {},
   "outputs": [
    {
     "name": "stderr",
     "output_type": "stream",
     "text": [
      "/var/folders/95/lczm9_vd3899jm27hx7pnk580000gn/T/ipykernel_10248/3006134399.py:9: SettingWithCopyWarning: \n",
      "A value is trying to be set on a copy of a slice from a DataFrame.\n",
      "Try using .loc[row_indexer,col_indexer] = value instead\n",
      "\n",
      "See the caveats in the documentation: https://pandas.pydata.org/pandas-docs/stable/user_guide/indexing.html#returning-a-view-versus-a-copy\n",
      "  df_start_station_na['start_station_name'] = df_start_station_na.apply(lambda x: update_station_lat_lng(x, 1, 'name'), axis=1)\n",
      "/var/folders/95/lczm9_vd3899jm27hx7pnk580000gn/T/ipykernel_10248/3006134399.py:10: SettingWithCopyWarning: \n",
      "A value is trying to be set on a copy of a slice from a DataFrame.\n",
      "Try using .loc[row_indexer,col_indexer] = value instead\n",
      "\n",
      "See the caveats in the documentation: https://pandas.pydata.org/pandas-docs/stable/user_guide/indexing.html#returning-a-view-versus-a-copy\n",
      "  df_start_station_na['start_station_id'] = df_start_station_na.apply(lambda x: update_station_lat_lng(x, 1, 'id'), axis=1)\n",
      "/var/folders/95/lczm9_vd3899jm27hx7pnk580000gn/T/ipykernel_10248/3006134399.py:12: SettingWithCopyWarning: \n",
      "A value is trying to be set on a copy of a slice from a DataFrame.\n",
      "Try using .loc[row_indexer,col_indexer] = value instead\n",
      "\n",
      "See the caveats in the documentation: https://pandas.pydata.org/pandas-docs/stable/user_guide/indexing.html#returning-a-view-versus-a-copy\n",
      "  df_end_station_na['end_station_name'] = df_end_station_na.apply(lambda x: update_station_lat_lng(x, 0, 'name'), axis=1)\n",
      "/var/folders/95/lczm9_vd3899jm27hx7pnk580000gn/T/ipykernel_10248/3006134399.py:13: SettingWithCopyWarning: \n",
      "A value is trying to be set on a copy of a slice from a DataFrame.\n",
      "Try using .loc[row_indexer,col_indexer] = value instead\n",
      "\n",
      "See the caveats in the documentation: https://pandas.pydata.org/pandas-docs/stable/user_guide/indexing.html#returning-a-view-versus-a-copy\n",
      "  df_end_station_na['end_station_id'] = df_end_station_na.apply(lambda x: update_station_lat_lng(x, 0, 'id'), axis=1)\n"
     ]
    }
   ],
   "source": [
    "def update_station_lat_lng(x, start_end, name_or_id):\n",
    "    try:\n",
    "        if start_end: # start=1, end=0\n",
    "            return dict_lat_lng[(x['start_lat'], x['start_lng'])][name_or_id]\n",
    "        return dict_lat_lng[(x['end_lat'], x['end_lng'])][name_or_id]\n",
    "    except KeyError:\n",
    "        pass\n",
    "\n",
    "df_start_station_na['start_station_name'] = df_start_station_na.apply(lambda x: update_station_lat_lng(x, 1, 'name'), axis=1)\n",
    "df_start_station_na['start_station_id'] = df_start_station_na.apply(lambda x: update_station_lat_lng(x, 1, 'id'), axis=1)\n",
    "\n",
    "df_end_station_na['end_station_name'] = df_end_station_na.apply(lambda x: update_station_lat_lng(x, 0, 'name'), axis=1)\n",
    "df_end_station_na['end_station_id'] = df_end_station_na.apply(lambda x: update_station_lat_lng(x, 0, 'id'), axis=1)\n",
    "    "
   ]
  },
  {
   "cell_type": "code",
   "execution_count": 440,
   "metadata": {},
   "outputs": [
    {
     "data": {
      "text/plain": [
       "start_station_name    520884\n",
       "start_station_id      520884\n",
       "dtype: int64"
      ]
     },
     "execution_count": 440,
     "metadata": {},
     "output_type": "execute_result"
    }
   ],
   "source": [
    "df_start_station_na[[\"start_station_name\",\"start_station_id\"]].isnull().sum()"
   ]
  },
  {
   "cell_type": "code",
   "execution_count": 441,
   "metadata": {},
   "outputs": [
    {
     "data": {
      "text/plain": [
       "end_station_name    561104\n",
       "end_station_id      561104\n",
       "dtype: int64"
      ]
     },
     "execution_count": 441,
     "metadata": {},
     "output_type": "execute_result"
    }
   ],
   "source": [
    "df_end_station_na[[\"end_station_name\",\"end_station_id\"]].isnull().sum()"
   ]
  },
  {
   "cell_type": "code",
   "execution_count": 442,
   "metadata": {},
   "outputs": [],
   "source": [
    "df1.update(df_start_station_na)"
   ]
  },
  {
   "cell_type": "code",
   "execution_count": 443,
   "metadata": {},
   "outputs": [],
   "source": [
    "df1.update(df_end_station_na)"
   ]
  },
  {
   "cell_type": "code",
   "execution_count": 444,
   "metadata": {},
   "outputs": [
    {
     "data": {
      "text/plain": [
       "ride_id                    0\n",
       "rideable_type              0\n",
       "started_at                 0\n",
       "ended_at                   0\n",
       "start_station_name    520884\n",
       "start_station_id      521016\n",
       "end_station_name      561104\n",
       "end_station_id        561245\n",
       "start_lat                  0\n",
       "start_lng                  0\n",
       "end_lat                 5785\n",
       "end_lng                 5785\n",
       "member_casual              0\n",
       "dtype: int64"
      ]
     },
     "execution_count": 444,
     "metadata": {},
     "output_type": "execute_result"
    }
   ],
   "source": [
    "df1.isna().sum()"
   ]
  },
  {
   "cell_type": "code",
   "execution_count": 445,
   "metadata": {},
   "outputs": [],
   "source": [
    "df1.to_csv(\"all_cleaned.csv\", index=False)"
   ]
  },
  {
   "cell_type": "code",
   "execution_count": null,
   "metadata": {},
   "outputs": [],
   "source": []
  }
 ],
 "metadata": {
  "kernelspec": {
   "display_name": "Python 3",
   "language": "python",
   "name": "python3"
  },
  "language_info": {
   "codemirror_mode": {
    "name": "ipython",
    "version": 3
   },
   "file_extension": ".py",
   "mimetype": "text/x-python",
   "name": "python",
   "nbconvert_exporter": "python",
   "pygments_lexer": "ipython3",
   "version": "3.9.5"
  },
  "orig_nbformat": 4
 },
 "nbformat": 4,
 "nbformat_minor": 2
}
