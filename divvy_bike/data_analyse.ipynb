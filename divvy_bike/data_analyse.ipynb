{
 "cells": [
  {
   "cell_type": "code",
   "execution_count": 15,
   "metadata": {},
   "outputs": [],
   "source": [
    "import pandas as pd\n",
    "import matplotlib.pyplot as plt\n",
    "import numpy as np\n",
    "\n",
    "from datetime import datetime\n",
    "from geopy import distance"
   ]
  },
  {
   "cell_type": "code",
   "execution_count": 2,
   "metadata": {},
   "outputs": [
    {
     "data": {
      "text/html": [
       "<div>\n",
       "<style scoped>\n",
       "    .dataframe tbody tr th:only-of-type {\n",
       "        vertical-align: middle;\n",
       "    }\n",
       "\n",
       "    .dataframe tbody tr th {\n",
       "        vertical-align: top;\n",
       "    }\n",
       "\n",
       "    .dataframe thead th {\n",
       "        text-align: right;\n",
       "    }\n",
       "</style>\n",
       "<table border=\"1\" class=\"dataframe\">\n",
       "  <thead>\n",
       "    <tr style=\"text-align: right;\">\n",
       "      <th></th>\n",
       "      <th>ride_id</th>\n",
       "      <th>rideable_type</th>\n",
       "      <th>started_at</th>\n",
       "      <th>ended_at</th>\n",
       "      <th>start_station_name</th>\n",
       "      <th>start_station_id</th>\n",
       "      <th>end_station_name</th>\n",
       "      <th>end_station_id</th>\n",
       "      <th>start_lat</th>\n",
       "      <th>start_lng</th>\n",
       "      <th>end_lat</th>\n",
       "      <th>end_lng</th>\n",
       "      <th>member_casual</th>\n",
       "    </tr>\n",
       "  </thead>\n",
       "  <tbody>\n",
       "    <tr>\n",
       "      <th>0</th>\n",
       "      <td>954144C2F67B1932</td>\n",
       "      <td>classic_bike</td>\n",
       "      <td>2022-07-05 08:12:47</td>\n",
       "      <td>2022-07-05 08:24:32</td>\n",
       "      <td>Ashland Ave &amp; Blackhawk St</td>\n",
       "      <td>13224</td>\n",
       "      <td>Kingsbury St &amp; Kinzie St</td>\n",
       "      <td>KA1503000043</td>\n",
       "      <td>41.907066</td>\n",
       "      <td>-87.667252</td>\n",
       "      <td>41.889177</td>\n",
       "      <td>-87.638506</td>\n",
       "      <td>member</td>\n",
       "    </tr>\n",
       "    <tr>\n",
       "      <th>1</th>\n",
       "      <td>292E027607D218B6</td>\n",
       "      <td>classic_bike</td>\n",
       "      <td>2022-07-26 12:53:38</td>\n",
       "      <td>2022-07-26 12:55:31</td>\n",
       "      <td>Buckingham Fountain (Temp)</td>\n",
       "      <td>15541</td>\n",
       "      <td>Michigan Ave &amp; 8th St</td>\n",
       "      <td>623</td>\n",
       "      <td>41.869621</td>\n",
       "      <td>-87.623981</td>\n",
       "      <td>41.872773</td>\n",
       "      <td>-87.623981</td>\n",
       "      <td>casual</td>\n",
       "    </tr>\n",
       "    <tr>\n",
       "      <th>2</th>\n",
       "      <td>57765852588AD6E0</td>\n",
       "      <td>classic_bike</td>\n",
       "      <td>2022-07-03 13:58:49</td>\n",
       "      <td>2022-07-03 14:06:32</td>\n",
       "      <td>Buckingham Fountain (Temp)</td>\n",
       "      <td>15541</td>\n",
       "      <td>Michigan Ave &amp; 8th St</td>\n",
       "      <td>623</td>\n",
       "      <td>41.869621</td>\n",
       "      <td>-87.623981</td>\n",
       "      <td>41.872773</td>\n",
       "      <td>-87.623981</td>\n",
       "      <td>casual</td>\n",
       "    </tr>\n",
       "    <tr>\n",
       "      <th>3</th>\n",
       "      <td>B5B6BE44314590E6</td>\n",
       "      <td>classic_bike</td>\n",
       "      <td>2022-07-31 17:44:21</td>\n",
       "      <td>2022-07-31 18:42:50</td>\n",
       "      <td>Buckingham Fountain (Temp)</td>\n",
       "      <td>15541</td>\n",
       "      <td>Woodlawn Ave &amp; 55th St</td>\n",
       "      <td>TA1307000164</td>\n",
       "      <td>41.869621</td>\n",
       "      <td>-87.623981</td>\n",
       "      <td>41.795264</td>\n",
       "      <td>-87.596471</td>\n",
       "      <td>casual</td>\n",
       "    </tr>\n",
       "    <tr>\n",
       "      <th>4</th>\n",
       "      <td>A4C331F2A00E79E0</td>\n",
       "      <td>classic_bike</td>\n",
       "      <td>2022-07-13 19:49:06</td>\n",
       "      <td>2022-07-13 20:15:24</td>\n",
       "      <td>Wabash Ave &amp; Grand Ave</td>\n",
       "      <td>TA1307000117</td>\n",
       "      <td>Sheffield Ave &amp; Wellington Ave</td>\n",
       "      <td>TA1307000052</td>\n",
       "      <td>41.891466</td>\n",
       "      <td>-87.626761</td>\n",
       "      <td>41.936253</td>\n",
       "      <td>-87.652662</td>\n",
       "      <td>member</td>\n",
       "    </tr>\n",
       "    <tr>\n",
       "      <th>5</th>\n",
       "      <td>579D73BE2ED880B3</td>\n",
       "      <td>electric_bike</td>\n",
       "      <td>2022-07-01 17:04:35</td>\n",
       "      <td>2022-07-01 17:13:18</td>\n",
       "      <td>Desplaines St &amp; Randolph St</td>\n",
       "      <td>15535</td>\n",
       "      <td>Clinton St &amp; Roosevelt Rd</td>\n",
       "      <td>WL-008</td>\n",
       "      <td>41.884614</td>\n",
       "      <td>-87.644564</td>\n",
       "      <td>41.867118</td>\n",
       "      <td>-87.641088</td>\n",
       "      <td>member</td>\n",
       "    </tr>\n",
       "    <tr>\n",
       "      <th>6</th>\n",
       "      <td>EFE518CCEE333669</td>\n",
       "      <td>classic_bike</td>\n",
       "      <td>2022-07-18 18:11:01</td>\n",
       "      <td>2022-07-18 18:22:30</td>\n",
       "      <td>Marquette Ave &amp; 89th St</td>\n",
       "      <td>20239</td>\n",
       "      <td>East End Ave &amp; 87th St</td>\n",
       "      <td>20231</td>\n",
       "      <td>41.733669</td>\n",
       "      <td>-87.558342</td>\n",
       "      <td>41.736815</td>\n",
       "      <td>-87.582801</td>\n",
       "      <td>member</td>\n",
       "    </tr>\n",
       "    <tr>\n",
       "      <th>7</th>\n",
       "      <td>315FEBB7B3F6D2EA</td>\n",
       "      <td>classic_bike</td>\n",
       "      <td>2022-07-28 20:38:18</td>\n",
       "      <td>2022-07-28 21:09:11</td>\n",
       "      <td>Wabash Ave &amp; Grand Ave</td>\n",
       "      <td>TA1307000117</td>\n",
       "      <td>Dearborn Pkwy &amp; Delaware Pl</td>\n",
       "      <td>TA1307000128</td>\n",
       "      <td>41.891466</td>\n",
       "      <td>-87.626761</td>\n",
       "      <td>41.898969</td>\n",
       "      <td>-87.629912</td>\n",
       "      <td>casual</td>\n",
       "    </tr>\n",
       "    <tr>\n",
       "      <th>8</th>\n",
       "      <td>EE3C4A1E66766B56</td>\n",
       "      <td>classic_bike</td>\n",
       "      <td>2022-07-10 22:55:59</td>\n",
       "      <td>2022-07-10 23:01:32</td>\n",
       "      <td>Wabash Ave &amp; Grand Ave</td>\n",
       "      <td>TA1307000117</td>\n",
       "      <td>Dearborn Pkwy &amp; Delaware Pl</td>\n",
       "      <td>TA1307000128</td>\n",
       "      <td>41.891466</td>\n",
       "      <td>-87.626761</td>\n",
       "      <td>41.898969</td>\n",
       "      <td>-87.629912</td>\n",
       "      <td>member</td>\n",
       "    </tr>\n",
       "    <tr>\n",
       "      <th>9</th>\n",
       "      <td>1EE6C93A547A187C</td>\n",
       "      <td>electric_bike</td>\n",
       "      <td>2022-07-10 09:35:58</td>\n",
       "      <td>2022-07-10 09:47:25</td>\n",
       "      <td>Ashland Ave &amp; Blackhawk St</td>\n",
       "      <td>13224</td>\n",
       "      <td>Orleans St &amp; Merchandise Mart Plaza</td>\n",
       "      <td>TA1305000022</td>\n",
       "      <td>41.907093</td>\n",
       "      <td>-87.667247</td>\n",
       "      <td>41.888243</td>\n",
       "      <td>-87.636390</td>\n",
       "      <td>member</td>\n",
       "    </tr>\n",
       "  </tbody>\n",
       "</table>\n",
       "</div>"
      ],
      "text/plain": [
       "            ride_id  rideable_type           started_at             ended_at  \\\n",
       "0  954144C2F67B1932   classic_bike  2022-07-05 08:12:47  2022-07-05 08:24:32   \n",
       "1  292E027607D218B6   classic_bike  2022-07-26 12:53:38  2022-07-26 12:55:31   \n",
       "2  57765852588AD6E0   classic_bike  2022-07-03 13:58:49  2022-07-03 14:06:32   \n",
       "3  B5B6BE44314590E6   classic_bike  2022-07-31 17:44:21  2022-07-31 18:42:50   \n",
       "4  A4C331F2A00E79E0   classic_bike  2022-07-13 19:49:06  2022-07-13 20:15:24   \n",
       "5  579D73BE2ED880B3  electric_bike  2022-07-01 17:04:35  2022-07-01 17:13:18   \n",
       "6  EFE518CCEE333669   classic_bike  2022-07-18 18:11:01  2022-07-18 18:22:30   \n",
       "7  315FEBB7B3F6D2EA   classic_bike  2022-07-28 20:38:18  2022-07-28 21:09:11   \n",
       "8  EE3C4A1E66766B56   classic_bike  2022-07-10 22:55:59  2022-07-10 23:01:32   \n",
       "9  1EE6C93A547A187C  electric_bike  2022-07-10 09:35:58  2022-07-10 09:47:25   \n",
       "\n",
       "            start_station_name start_station_id  \\\n",
       "0   Ashland Ave & Blackhawk St            13224   \n",
       "1   Buckingham Fountain (Temp)            15541   \n",
       "2   Buckingham Fountain (Temp)            15541   \n",
       "3   Buckingham Fountain (Temp)            15541   \n",
       "4       Wabash Ave & Grand Ave     TA1307000117   \n",
       "5  Desplaines St & Randolph St            15535   \n",
       "6      Marquette Ave & 89th St            20239   \n",
       "7       Wabash Ave & Grand Ave     TA1307000117   \n",
       "8       Wabash Ave & Grand Ave     TA1307000117   \n",
       "9   Ashland Ave & Blackhawk St            13224   \n",
       "\n",
       "                      end_station_name end_station_id  start_lat  start_lng  \\\n",
       "0             Kingsbury St & Kinzie St   KA1503000043  41.907066 -87.667252   \n",
       "1                Michigan Ave & 8th St            623  41.869621 -87.623981   \n",
       "2                Michigan Ave & 8th St            623  41.869621 -87.623981   \n",
       "3               Woodlawn Ave & 55th St   TA1307000164  41.869621 -87.623981   \n",
       "4       Sheffield Ave & Wellington Ave   TA1307000052  41.891466 -87.626761   \n",
       "5            Clinton St & Roosevelt Rd         WL-008  41.884614 -87.644564   \n",
       "6               East End Ave & 87th St          20231  41.733669 -87.558342   \n",
       "7          Dearborn Pkwy & Delaware Pl   TA1307000128  41.891466 -87.626761   \n",
       "8          Dearborn Pkwy & Delaware Pl   TA1307000128  41.891466 -87.626761   \n",
       "9  Orleans St & Merchandise Mart Plaza   TA1305000022  41.907093 -87.667247   \n",
       "\n",
       "     end_lat    end_lng member_casual  \n",
       "0  41.889177 -87.638506        member  \n",
       "1  41.872773 -87.623981        casual  \n",
       "2  41.872773 -87.623981        casual  \n",
       "3  41.795264 -87.596471        casual  \n",
       "4  41.936253 -87.652662        member  \n",
       "5  41.867118 -87.641088        member  \n",
       "6  41.736815 -87.582801        member  \n",
       "7  41.898969 -87.629912        casual  \n",
       "8  41.898969 -87.629912        member  \n",
       "9  41.888243 -87.636390        member  "
      ]
     },
     "execution_count": 2,
     "metadata": {},
     "output_type": "execute_result"
    }
   ],
   "source": [
    "df = pd.read_csv(\"/Users/kangchieh/Project/divvy_bike/data/divvy_202207-202306/csv/202207-divvy-tripdata.csv\")\n",
    "df.head(10)"
   ]
  },
  {
   "cell_type": "code",
   "execution_count": 32,
   "metadata": {},
   "outputs": [],
   "source": [
    "def calculate_distance(x):\n",
    "    if not x[[\"start_lat\",\"start_lng\",\"end_lat\",\"end_lng\"]].isnull().any():\n",
    "        return distance.distance((x['start_lat'], x['start_lng']), (x['end_lat'], x['end_lng'])).km\n",
    "    else:\n",
    "        return np.nan\n",
    "        \n",
    "df['distance'] = df.apply(lambda x: calculate_distance(x), axis=1)"
   ]
  },
  {
   "cell_type": "code",
   "execution_count": 92,
   "metadata": {},
   "outputs": [],
   "source": [
    "df[\"started_at\"] = pd.to_datetime(df[\"started_at\"], errors='coerce')\n",
    "df[\"ended_at\"] = pd.to_datetime(df[\"ended_at\"], errors='coerce')\n",
    "df['ride_duration'] = (df[\"ended_at\"] - df[\"started_at\"]).dt.total_seconds() / 60"
   ]
  },
  {
   "cell_type": "code",
   "execution_count": 93,
   "metadata": {},
   "outputs": [],
   "source": [
    "def is_weekend(date):\n",
    "    return date.dayofweek >= 5 # 5 is saturday 6 is sunday\n",
    "\n",
    "df['weekend'] = df['started_at'].apply(is_weekend).astype(int)"
   ]
  },
  {
   "cell_type": "code",
   "execution_count": 68,
   "metadata": {},
   "outputs": [
    {
     "data": {
      "text/plain": [
       "member_casual\n",
       "casual    1.691020\n",
       "member    1.659866\n",
       "Name: distance, dtype: float64"
      ]
     },
     "execution_count": 68,
     "metadata": {},
     "output_type": "execute_result"
    }
   ],
   "source": [
    "df.groupby('member_casual')['distance'].median()"
   ]
  },
  {
   "cell_type": "code",
   "execution_count": 66,
   "metadata": {},
   "outputs": [
    {
     "data": {
      "text/plain": [
       "array([<AxesSubplot:title={'center':'casual'}>,\n",
       "       <AxesSubplot:title={'center':'member'}>], dtype=object)"
      ]
     },
     "execution_count": 66,
     "metadata": {},
     "output_type": "execute_result"
    },
    {
     "data": {
      "image/png": "[encoded data removed]",
      "text/plain": [
       "<Figure size 640x480 with 2 Axes>"
      ]
     },
     "metadata": {},
     "output_type": "display_data"
    }
   ],
   "source": [
    "df.hist('distance', by='member_casual')"
   ]
  },
  {
   "cell_type": "code",
   "execution_count": 70,
   "metadata": {},
   "outputs": [
    {
     "ename": "TypeError",
     "evalue": "The DTypes <class 'numpy.dtype[float64]'> and <class 'numpy.dtype[timedelta64]'> do not have a common DType. For example they cannot be stored in a single array unless the dtype is `object`.",
     "output_type": "error",
     "traceback": [
      "\u001b[0;31m---------------------------------------------------------------------------\u001b[0m",
      "\u001b[0;31mTypeError\u001b[0m                                 Traceback (most recent call last)",
      "Cell \u001b[0;32mIn[70], line 1\u001b[0m\n\u001b[0;32m----> 1\u001b[0m df\u001b[39m.\u001b[39;49mhist(\u001b[39m'\u001b[39;49m\u001b[39mride_duration\u001b[39;49m\u001b[39m'\u001b[39;49m, by\u001b[39m=\u001b[39;49m\u001b[39m'\u001b[39;49m\u001b[39mmember_casual\u001b[39;49m\u001b[39m'\u001b[39;49m)\n",
      "File \u001b[0;32m/Library/Frameworks/Python.framework/Versions/3.9/lib/python3.9/site-packages/pandas/plotting/_core.py:231\u001b[0m, in \u001b[0;36mhist_frame\u001b[0;34m(data, column, by, grid, xlabelsize, xrot, ylabelsize, yrot, ax, sharex, sharey, figsize, layout, bins, backend, legend, **kwargs)\u001b[0m\n\u001b[1;32m    140\u001b[0m \u001b[39m\u001b[39m\u001b[39m\"\"\"\u001b[39;00m\n\u001b[1;32m    141\u001b[0m \u001b[39mMake a histogram of the DataFrame's columns.\u001b[39;00m\n\u001b[1;32m    142\u001b[0m \n\u001b[0;32m   (...)\u001b[0m\n\u001b[1;32m    228\u001b[0m \u001b[39m    >>> hist = df.hist(bins=3)\u001b[39;00m\n\u001b[1;32m    229\u001b[0m \u001b[39m\"\"\"\u001b[39;00m\n\u001b[1;32m    230\u001b[0m plot_backend \u001b[39m=\u001b[39m _get_plot_backend(backend)\n\u001b[0;32m--> 231\u001b[0m \u001b[39mreturn\u001b[39;00m plot_backend\u001b[39m.\u001b[39;49mhist_frame(\n\u001b[1;32m    232\u001b[0m     data,\n\u001b[1;32m    233\u001b[0m     column\u001b[39m=\u001b[39;49mcolumn,\n\u001b[1;32m    234\u001b[0m     by\u001b[39m=\u001b[39;49mby,\n\u001b[1;32m    235\u001b[0m     grid\u001b[39m=\u001b[39;49mgrid,\n\u001b[1;32m    236\u001b[0m     xlabelsize\u001b[39m=\u001b[39;49mxlabelsize,\n\u001b[1;32m    237\u001b[0m     xrot\u001b[39m=\u001b[39;49mxrot,\n\u001b[1;32m    238\u001b[0m     ylabelsize\u001b[39m=\u001b[39;49mylabelsize,\n\u001b[1;32m    239\u001b[0m     yrot\u001b[39m=\u001b[39;49myrot,\n\u001b[1;32m    240\u001b[0m     ax\u001b[39m=\u001b[39;49max,\n\u001b[1;32m    241\u001b[0m     sharex\u001b[39m=\u001b[39;49msharex,\n\u001b[1;32m    242\u001b[0m     sharey\u001b[39m=\u001b[39;49msharey,\n\u001b[1;32m    243\u001b[0m     figsize\u001b[39m=\u001b[39;49mfigsize,\n\u001b[1;32m    244\u001b[0m     layout\u001b[39m=\u001b[39;49mlayout,\n\u001b[1;32m    245\u001b[0m     legend\u001b[39m=\u001b[39;49mlegend,\n\u001b[1;32m    246\u001b[0m     bins\u001b[39m=\u001b[39;49mbins,\n\u001b[1;32m    247\u001b[0m     \u001b[39m*\u001b[39;49m\u001b[39m*\u001b[39;49mkwargs,\n\u001b[1;32m    248\u001b[0m )\n",
      "File \u001b[0;32m/Library/Frameworks/Python.framework/Versions/3.9/lib/python3.9/site-packages/pandas/plotting/_matplotlib/hist.py:468\u001b[0m, in \u001b[0;36mhist_frame\u001b[0;34m(data, column, by, grid, xlabelsize, xrot, ylabelsize, yrot, ax, sharex, sharey, figsize, layout, bins, legend, **kwds)\u001b[0m\n\u001b[1;32m    466\u001b[0m     \u001b[39mraise\u001b[39;00m \u001b[39mValueError\u001b[39;00m(\u001b[39m\"\u001b[39m\u001b[39mCannot use both legend and label\u001b[39m\u001b[39m\"\u001b[39m)\n\u001b[1;32m    467\u001b[0m \u001b[39mif\u001b[39;00m by \u001b[39mis\u001b[39;00m \u001b[39mnot\u001b[39;00m \u001b[39mNone\u001b[39;00m:\n\u001b[0;32m--> 468\u001b[0m     axes \u001b[39m=\u001b[39m _grouped_hist(\n\u001b[1;32m    469\u001b[0m         data,\n\u001b[1;32m    470\u001b[0m         column\u001b[39m=\u001b[39;49mcolumn,\n\u001b[1;32m    471\u001b[0m         by\u001b[39m=\u001b[39;49mby,\n\u001b[1;32m    472\u001b[0m         ax\u001b[39m=\u001b[39;49max,\n\u001b[1;32m    473\u001b[0m         grid\u001b[39m=\u001b[39;49mgrid,\n\u001b[1;32m    474\u001b[0m         figsize\u001b[39m=\u001b[39;49mfigsize,\n\u001b[1;32m    475\u001b[0m         sharex\u001b[39m=\u001b[39;49msharex,\n\u001b[1;32m    476\u001b[0m         sharey\u001b[39m=\u001b[39;49msharey,\n\u001b[1;32m    477\u001b[0m         layout\u001b[39m=\u001b[39;49mlayout,\n\u001b[1;32m    478\u001b[0m         bins\u001b[39m=\u001b[39;49mbins,\n\u001b[1;32m    479\u001b[0m         xlabelsize\u001b[39m=\u001b[39;49mxlabelsize,\n\u001b[1;32m    480\u001b[0m         xrot\u001b[39m=\u001b[39;49mxrot,\n\u001b[1;32m    481\u001b[0m         ylabelsize\u001b[39m=\u001b[39;49mylabelsize,\n\u001b[1;32m    482\u001b[0m         yrot\u001b[39m=\u001b[39;49myrot,\n\u001b[1;32m    483\u001b[0m         legend\u001b[39m=\u001b[39;49mlegend,\n\u001b[1;32m    484\u001b[0m         \u001b[39m*\u001b[39;49m\u001b[39m*\u001b[39;49mkwds,\n\u001b[1;32m    485\u001b[0m     )\n\u001b[1;32m    486\u001b[0m     \u001b[39mreturn\u001b[39;00m axes\n\u001b[1;32m    488\u001b[0m \u001b[39mif\u001b[39;00m column \u001b[39mis\u001b[39;00m \u001b[39mnot\u001b[39;00m \u001b[39mNone\u001b[39;00m:\n",
      "File \u001b[0;32m/Library/Frameworks/Python.framework/Versions/3.9/lib/python3.9/site-packages/pandas/plotting/_matplotlib/hist.py:352\u001b[0m, in \u001b[0;36m_grouped_hist\u001b[0;34m(data, column, by, ax, bins, figsize, layout, sharex, sharey, rot, grid, xlabelsize, xrot, ylabelsize, yrot, legend, **kwargs)\u001b[0m\n\u001b[1;32m    349\u001b[0m \u001b[39mif\u001b[39;00m xrot \u001b[39mis\u001b[39;00m \u001b[39mNone\u001b[39;00m:\n\u001b[1;32m    350\u001b[0m     xrot \u001b[39m=\u001b[39m rot\n\u001b[0;32m--> 352\u001b[0m fig, axes \u001b[39m=\u001b[39m _grouped_plot(\n\u001b[1;32m    353\u001b[0m     plot_group,\n\u001b[1;32m    354\u001b[0m     data,\n\u001b[1;32m    355\u001b[0m     column\u001b[39m=\u001b[39;49mcolumn,\n\u001b[1;32m    356\u001b[0m     by\u001b[39m=\u001b[39;49mby,\n\u001b[1;32m    357\u001b[0m     sharex\u001b[39m=\u001b[39;49msharex,\n\u001b[1;32m    358\u001b[0m     sharey\u001b[39m=\u001b[39;49msharey,\n\u001b[1;32m    359\u001b[0m     ax\u001b[39m=\u001b[39;49max,\n\u001b[1;32m    360\u001b[0m     figsize\u001b[39m=\u001b[39;49mfigsize,\n\u001b[1;32m    361\u001b[0m     layout\u001b[39m=\u001b[39;49mlayout,\n\u001b[1;32m    362\u001b[0m     rot\u001b[39m=\u001b[39;49mrot,\n\u001b[1;32m    363\u001b[0m )\n\u001b[1;32m    365\u001b[0m set_ticks_props(\n\u001b[1;32m    366\u001b[0m     axes, xlabelsize\u001b[39m=\u001b[39mxlabelsize, xrot\u001b[39m=\u001b[39mxrot, ylabelsize\u001b[39m=\u001b[39mylabelsize, yrot\u001b[39m=\u001b[39myrot\n\u001b[1;32m    367\u001b[0m )\n\u001b[1;32m    369\u001b[0m maybe_adjust_figure(\n\u001b[1;32m    370\u001b[0m     fig, bottom\u001b[39m=\u001b[39m\u001b[39m0.15\u001b[39m, top\u001b[39m=\u001b[39m\u001b[39m0.9\u001b[39m, left\u001b[39m=\u001b[39m\u001b[39m0.1\u001b[39m, right\u001b[39m=\u001b[39m\u001b[39m0.9\u001b[39m, hspace\u001b[39m=\u001b[39m\u001b[39m0.5\u001b[39m, wspace\u001b[39m=\u001b[39m\u001b[39m0.3\u001b[39m\n\u001b[1;32m    371\u001b[0m )\n",
      "File \u001b[0;32m/Library/Frameworks/Python.framework/Versions/3.9/lib/python3.9/site-packages/pandas/plotting/_matplotlib/hist.py:287\u001b[0m, in \u001b[0;36m_grouped_plot\u001b[0;34m(plotf, data, column, by, numeric_only, figsize, sharex, sharey, layout, rot, ax, **kwargs)\u001b[0m\n\u001b[1;32m    285\u001b[0m     \u001b[39mif\u001b[39;00m numeric_only \u001b[39mand\u001b[39;00m \u001b[39misinstance\u001b[39m(group, ABCDataFrame):\n\u001b[1;32m    286\u001b[0m         group \u001b[39m=\u001b[39m group\u001b[39m.\u001b[39m_get_numeric_data()\n\u001b[0;32m--> 287\u001b[0m     plotf(group, ax, \u001b[39m*\u001b[39;49m\u001b[39m*\u001b[39;49mkwargs)\n\u001b[1;32m    288\u001b[0m     ax\u001b[39m.\u001b[39mset_title(pprint_thing(key))\n\u001b[1;32m    290\u001b[0m \u001b[39mreturn\u001b[39;00m fig, axes\n",
      "File \u001b[0;32m/Library/Frameworks/Python.framework/Versions/3.9/lib/python3.9/site-packages/pandas/plotting/_matplotlib/hist.py:345\u001b[0m, in \u001b[0;36m_grouped_hist.<locals>.plot_group\u001b[0;34m(group, ax)\u001b[0m\n\u001b[1;32m    344\u001b[0m \u001b[39mdef\u001b[39;00m \u001b[39mplot_group\u001b[39m(group, ax):\n\u001b[0;32m--> 345\u001b[0m     ax\u001b[39m.\u001b[39;49mhist(group\u001b[39m.\u001b[39;49mdropna()\u001b[39m.\u001b[39;49mvalues, bins\u001b[39m=\u001b[39;49mbins, \u001b[39m*\u001b[39;49m\u001b[39m*\u001b[39;49mkwargs)\n\u001b[1;32m    346\u001b[0m     \u001b[39mif\u001b[39;00m legend:\n\u001b[1;32m    347\u001b[0m         ax\u001b[39m.\u001b[39mlegend()\n",
      "File \u001b[0;32m/Library/Frameworks/Python.framework/Versions/3.9/lib/python3.9/site-packages/matplotlib/__init__.py:1412\u001b[0m, in \u001b[0;36m_preprocess_data.<locals>.inner\u001b[0;34m(ax, data, *args, **kwargs)\u001b[0m\n\u001b[1;32m   1409\u001b[0m \u001b[39m@functools\u001b[39m\u001b[39m.\u001b[39mwraps(func)\n\u001b[1;32m   1410\u001b[0m \u001b[39mdef\u001b[39;00m \u001b[39minner\u001b[39m(ax, \u001b[39m*\u001b[39margs, data\u001b[39m=\u001b[39m\u001b[39mNone\u001b[39;00m, \u001b[39m*\u001b[39m\u001b[39m*\u001b[39mkwargs):\n\u001b[1;32m   1411\u001b[0m     \u001b[39mif\u001b[39;00m data \u001b[39mis\u001b[39;00m \u001b[39mNone\u001b[39;00m:\n\u001b[0;32m-> 1412\u001b[0m         \u001b[39mreturn\u001b[39;00m func(ax, \u001b[39m*\u001b[39;49m\u001b[39mmap\u001b[39;49m(sanitize_sequence, args), \u001b[39m*\u001b[39;49m\u001b[39m*\u001b[39;49mkwargs)\n\u001b[1;32m   1414\u001b[0m     bound \u001b[39m=\u001b[39m new_sig\u001b[39m.\u001b[39mbind(ax, \u001b[39m*\u001b[39margs, \u001b[39m*\u001b[39m\u001b[39m*\u001b[39mkwargs)\n\u001b[1;32m   1415\u001b[0m     auto_label \u001b[39m=\u001b[39m (bound\u001b[39m.\u001b[39marguments\u001b[39m.\u001b[39mget(label_namer)\n\u001b[1;32m   1416\u001b[0m                   \u001b[39mor\u001b[39;00m bound\u001b[39m.\u001b[39mkwargs\u001b[39m.\u001b[39mget(label_namer))\n",
      "File \u001b[0;32m/Library/Frameworks/Python.framework/Versions/3.9/lib/python3.9/site-packages/matplotlib/axes/_axes.py:6607\u001b[0m, in \u001b[0;36mAxes.hist\u001b[0;34m(self, x, bins, range, density, weights, cumulative, bottom, histtype, align, orientation, rwidth, log, color, label, stacked, **kwargs)\u001b[0m\n\u001b[1;32m   6603\u001b[0m \u001b[39mfor\u001b[39;00m xi \u001b[39min\u001b[39;00m x:\n\u001b[1;32m   6604\u001b[0m     \u001b[39mif\u001b[39;00m \u001b[39mlen\u001b[39m(xi):\n\u001b[1;32m   6605\u001b[0m         \u001b[39m# python's min/max ignore nan,\u001b[39;00m\n\u001b[1;32m   6606\u001b[0m         \u001b[39m# np.minnan returns nan for all nan input\u001b[39;00m\n\u001b[0;32m-> 6607\u001b[0m         xmin \u001b[39m=\u001b[39m \u001b[39mmin\u001b[39;49m(xmin, np\u001b[39m.\u001b[39;49mnanmin(xi))\n\u001b[1;32m   6608\u001b[0m         xmax \u001b[39m=\u001b[39m \u001b[39mmax\u001b[39m(xmax, np\u001b[39m.\u001b[39mnanmax(xi))\n\u001b[1;32m   6609\u001b[0m \u001b[39mif\u001b[39;00m xmin \u001b[39m<\u001b[39m\u001b[39m=\u001b[39m xmax:  \u001b[39m# Only happens if we have seen a finite value.\u001b[39;00m\n",
      "\u001b[0;31mTypeError\u001b[0m: The DTypes <class 'numpy.dtype[float64]'> and <class 'numpy.dtype[timedelta64]'> do not have a common DType. For example they cannot be stored in a single array unless the dtype is `object`."
     ]
    },
    {
     "data": {
      "image/png": "[encoded data removed]",
      "text/plain": [
       "<Figure size 640x480 with 2 Axes>"
      ]
     },
     "metadata": {},
     "output_type": "display_data"
    }
   ],
   "source": [
    "df.hist('ride_duration', by='member_casual')"
   ]
  },
  {
   "cell_type": "code",
   "execution_count": 78,
   "metadata": {},
   "outputs": [],
   "source": [
    "df1 = df.copy()"
   ]
  },
  {
   "cell_type": "code",
   "execution_count": 79,
   "metadata": {},
   "outputs": [],
   "source": [
    "df1['ride_duration'] = df1['ride_duration'].dt.total_seconds() / 60"
   ]
  },
  {
   "cell_type": "code",
   "execution_count": 80,
   "metadata": {},
   "outputs": [
    {
     "data": {
      "text/plain": [
       "11.75"
      ]
     },
     "execution_count": 80,
     "metadata": {},
     "output_type": "execute_result"
    }
   ],
   "source": [
    "df1.loc[0, 'ride_duration']"
   ]
  },
  {
   "cell_type": "code",
   "execution_count": 90,
   "metadata": {},
   "outputs": [
    {
     "data": {
      "text/plain": [
       "member_casual\n",
       "casual   0 days 00:29:16.685269236\n",
       "member   0 days 00:13:43.100408927\n",
       "Name: ride_duration, dtype: timedelta64[ns]"
      ]
     },
     "execution_count": 90,
     "metadata": {},
     "output_type": "execute_result"
    }
   ],
   "source": [
    "df.groupby('member_casual')['ride_duration'].mean()"
   ]
  },
  {
   "cell_type": "code",
   "execution_count": 91,
   "metadata": {},
   "outputs": [
    {
     "data": {
      "text/plain": [
       "member    417433\n",
       "casual    406055\n",
       "Name: member_casual, dtype: int64"
      ]
     },
     "execution_count": 91,
     "metadata": {},
     "output_type": "execute_result"
    }
   ],
   "source": [
    "df['member_casual'].value_counts()"
   ]
  },
  {
   "cell_type": "code",
   "execution_count": 98,
   "metadata": {},
   "outputs": [
    {
     "data": {
      "text/plain": [
       "member_casual  weekend\n",
       "casual         0          232574\n",
       "               1          173481\n",
       "member         0          289784\n",
       "               1          127649\n",
       "Name: weekend, dtype: int64"
      ]
     },
     "execution_count": 98,
     "metadata": {},
     "output_type": "execute_result"
    }
   ],
   "source": [
    "df.groupby('member_casual')['weekend'].value_counts()"
   ]
  },
  {
   "cell_type": "code",
   "execution_count": 99,
   "metadata": {},
   "outputs": [
    {
     "data": {
      "text/plain": [
       "0.5609756097560976"
      ]
     },
     "execution_count": 99,
     "metadata": {},
     "output_type": "execute_result"
    }
   ],
   "source": [
    "23/41"
   ]
  },
  {
   "cell_type": "code",
   "execution_count": 100,
   "metadata": {},
   "outputs": [
    {
     "data": {
      "text/plain": [
       "0.7"
      ]
     },
     "execution_count": 100,
     "metadata": {},
     "output_type": "execute_result"
    }
   ],
   "source": [
    "28/40"
   ]
  },
  {
   "cell_type": "code",
   "execution_count": 104,
   "metadata": {},
   "outputs": [
    {
     "data": {
      "text/plain": [
       "member_casual  weekend\n",
       "casual         0          57.276477\n",
       "               1          42.723523\n",
       "member         0          69.420482\n",
       "               1          30.579518\n",
       "dtype: float64"
      ]
     },
     "execution_count": 104,
     "metadata": {},
     "output_type": "execute_result"
    }
   ],
   "source": [
    "df.groupby(['member_casual', 'weekend']).size() / df.groupby('member_casual').size() * 100"
   ]
  },
  {
   "cell_type": "code",
   "execution_count": null,
   "metadata": {},
   "outputs": [],
   "source": []
  }
 ],
 "metadata": {
  "kernelspec": {
   "display_name": "Python 3",
   "language": "python",
   "name": "python3"
  },
  "language_info": {
   "codemirror_mode": {
    "name": "ipython",
    "version": 3
   },
   "file_extension": ".py",
   "mimetype": "text/x-python",
   "name": "python",
   "nbconvert_exporter": "python",
   "pygments_lexer": "ipython3",
   "version": "3.9.5"
  },
  "orig_nbformat": 4
 },
 "nbformat": 4,
 "nbformat_minor": 2
}
