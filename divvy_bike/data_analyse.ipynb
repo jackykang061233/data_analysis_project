{
 "cells": [
  {
   "cell_type": "code",
   "execution_count": 4,
   "metadata": {},
   "outputs": [],
   "source": [
    "import pandas as pd\n",
    "import matplotlib.pyplot as plt\n",
    "import numpy as np\n",
    "\n",
    "from datetime import datetime\n",
    "from geopy import distance"
   ]
  },
  {
   "cell_type": "code",
   "execution_count": 16,
   "metadata": {},
   "outputs": [],
   "source": [
    "%matplotlib inline"
   ]
  },
  {
   "cell_type": "code",
   "execution_count": 31,
   "metadata": {},
   "outputs": [
    {
     "data": {
      "text/html": [
       "<div>\n",
       "<style scoped>\n",
       "    .dataframe tbody tr th:only-of-type {\n",
       "        vertical-align: middle;\n",
       "    }\n",
       "\n",
       "    .dataframe tbody tr th {\n",
       "        vertical-align: top;\n",
       "    }\n",
       "\n",
       "    .dataframe thead th {\n",
       "        text-align: right;\n",
       "    }\n",
       "</style>\n",
       "<table border=\"1\" class=\"dataframe\">\n",
       "  <thead>\n",
       "    <tr style=\"text-align: right;\">\n",
       "      <th></th>\n",
       "      <th>ride_id</th>\n",
       "      <th>rideable_type</th>\n",
       "      <th>started_at</th>\n",
       "      <th>ended_at</th>\n",
       "      <th>start_station_name</th>\n",
       "      <th>start_station_id</th>\n",
       "      <th>end_station_name</th>\n",
       "      <th>end_station_id</th>\n",
       "      <th>start_lat</th>\n",
       "      <th>start_lng</th>\n",
       "      <th>...</th>\n",
       "      <th>end_lng</th>\n",
       "      <th>member_casual</th>\n",
       "      <th>ride_length</th>\n",
       "      <th>day_of_week</th>\n",
       "      <th>is_holiday</th>\n",
       "      <th>work_day</th>\n",
       "      <th>distance</th>\n",
       "      <th>rush_hour</th>\n",
       "      <th>speed</th>\n",
       "      <th>ride_length_category</th>\n",
       "    </tr>\n",
       "  </thead>\n",
       "  <tbody>\n",
       "    <tr>\n",
       "      <th>0</th>\n",
       "      <td>954144C2F67B1932</td>\n",
       "      <td>classic_bike</td>\n",
       "      <td>2022-07-05 08:12:47</td>\n",
       "      <td>2022-07-05 08:24:32</td>\n",
       "      <td>Ashland Ave &amp; Blackhawk St</td>\n",
       "      <td>13224</td>\n",
       "      <td>Kingsbury St &amp; Kinzie St</td>\n",
       "      <td>KA1503000043</td>\n",
       "      <td>41.907066</td>\n",
       "      <td>-87.667252</td>\n",
       "      <td>...</td>\n",
       "      <td>-87.638506</td>\n",
       "      <td>member</td>\n",
       "      <td>11.750000</td>\n",
       "      <td>1</td>\n",
       "      <td>False</td>\n",
       "      <td>1</td>\n",
       "      <td>3.104577</td>\n",
       "      <td>1</td>\n",
       "      <td>0.264219</td>\n",
       "      <td>(0.0, 30.0]</td>\n",
       "    </tr>\n",
       "    <tr>\n",
       "      <th>1</th>\n",
       "      <td>292E027607D218B6</td>\n",
       "      <td>classic_bike</td>\n",
       "      <td>2022-07-26 12:53:38</td>\n",
       "      <td>2022-07-26 12:55:31</td>\n",
       "      <td>Buckingham Fountain (Temp)</td>\n",
       "      <td>A15541-1</td>\n",
       "      <td>Michigan Ave &amp; 8th St</td>\n",
       "      <td>A623-1</td>\n",
       "      <td>41.869621</td>\n",
       "      <td>-87.623981</td>\n",
       "      <td>...</td>\n",
       "      <td>-87.623981</td>\n",
       "      <td>casual</td>\n",
       "      <td>1.883333</td>\n",
       "      <td>1</td>\n",
       "      <td>False</td>\n",
       "      <td>1</td>\n",
       "      <td>0.350123</td>\n",
       "      <td>0</td>\n",
       "      <td>0.185906</td>\n",
       "      <td>(0.0, 30.0]</td>\n",
       "    </tr>\n",
       "    <tr>\n",
       "      <th>2</th>\n",
       "      <td>57765852588AD6E0</td>\n",
       "      <td>classic_bike</td>\n",
       "      <td>2022-07-03 13:58:49</td>\n",
       "      <td>2022-07-03 14:06:32</td>\n",
       "      <td>Buckingham Fountain (Temp)</td>\n",
       "      <td>A15541-1</td>\n",
       "      <td>Michigan Ave &amp; 8th St</td>\n",
       "      <td>A623-1</td>\n",
       "      <td>41.869621</td>\n",
       "      <td>-87.623981</td>\n",
       "      <td>...</td>\n",
       "      <td>-87.623981</td>\n",
       "      <td>casual</td>\n",
       "      <td>7.716667</td>\n",
       "      <td>6</td>\n",
       "      <td>False</td>\n",
       "      <td>0</td>\n",
       "      <td>0.350123</td>\n",
       "      <td>0</td>\n",
       "      <td>0.045372</td>\n",
       "      <td>(0.0, 30.0]</td>\n",
       "    </tr>\n",
       "    <tr>\n",
       "      <th>3</th>\n",
       "      <td>B5B6BE44314590E6</td>\n",
       "      <td>classic_bike</td>\n",
       "      <td>2022-07-31 17:44:21</td>\n",
       "      <td>2022-07-31 18:42:50</td>\n",
       "      <td>Buckingham Fountain (Temp)</td>\n",
       "      <td>A15541-1</td>\n",
       "      <td>Woodlawn Ave &amp; 55th St</td>\n",
       "      <td>TA1307000164</td>\n",
       "      <td>41.869621</td>\n",
       "      <td>-87.623981</td>\n",
       "      <td>...</td>\n",
       "      <td>-87.596471</td>\n",
       "      <td>casual</td>\n",
       "      <td>58.483333</td>\n",
       "      <td>6</td>\n",
       "      <td>False</td>\n",
       "      <td>0</td>\n",
       "      <td>8.569135</td>\n",
       "      <td>0</td>\n",
       "      <td>0.146523</td>\n",
       "      <td>(30.0, 60.0]</td>\n",
       "    </tr>\n",
       "    <tr>\n",
       "      <th>4</th>\n",
       "      <td>A4C331F2A00E79E0</td>\n",
       "      <td>classic_bike</td>\n",
       "      <td>2022-07-13 19:49:06</td>\n",
       "      <td>2022-07-13 20:15:24</td>\n",
       "      <td>Wabash Ave &amp; Grand Ave</td>\n",
       "      <td>TA1307000117</td>\n",
       "      <td>Sheffield Ave &amp; Wellington Ave</td>\n",
       "      <td>TA1307000052</td>\n",
       "      <td>41.891466</td>\n",
       "      <td>-87.626761</td>\n",
       "      <td>...</td>\n",
       "      <td>-87.652662</td>\n",
       "      <td>member</td>\n",
       "      <td>26.300000</td>\n",
       "      <td>2</td>\n",
       "      <td>False</td>\n",
       "      <td>1</td>\n",
       "      <td>5.418878</td>\n",
       "      <td>0</td>\n",
       "      <td>0.206041</td>\n",
       "      <td>(0.0, 30.0]</td>\n",
       "    </tr>\n",
       "  </tbody>\n",
       "</table>\n",
       "<p>5 rows × 21 columns</p>\n",
       "</div>"
      ],
      "text/plain": [
       "            ride_id rideable_type           started_at             ended_at  \\\n",
       "0  954144C2F67B1932  classic_bike  2022-07-05 08:12:47  2022-07-05 08:24:32   \n",
       "1  292E027607D218B6  classic_bike  2022-07-26 12:53:38  2022-07-26 12:55:31   \n",
       "2  57765852588AD6E0  classic_bike  2022-07-03 13:58:49  2022-07-03 14:06:32   \n",
       "3  B5B6BE44314590E6  classic_bike  2022-07-31 17:44:21  2022-07-31 18:42:50   \n",
       "4  A4C331F2A00E79E0  classic_bike  2022-07-13 19:49:06  2022-07-13 20:15:24   \n",
       "\n",
       "           start_station_name start_station_id  \\\n",
       "0  Ashland Ave & Blackhawk St            13224   \n",
       "1  Buckingham Fountain (Temp)         A15541-1   \n",
       "2  Buckingham Fountain (Temp)         A15541-1   \n",
       "3  Buckingham Fountain (Temp)         A15541-1   \n",
       "4      Wabash Ave & Grand Ave     TA1307000117   \n",
       "\n",
       "                 end_station_name end_station_id  start_lat  start_lng  ...  \\\n",
       "0        Kingsbury St & Kinzie St   KA1503000043  41.907066 -87.667252  ...   \n",
       "1           Michigan Ave & 8th St         A623-1  41.869621 -87.623981  ...   \n",
       "2           Michigan Ave & 8th St         A623-1  41.869621 -87.623981  ...   \n",
       "3          Woodlawn Ave & 55th St   TA1307000164  41.869621 -87.623981  ...   \n",
       "4  Sheffield Ave & Wellington Ave   TA1307000052  41.891466 -87.626761  ...   \n",
       "\n",
       "     end_lng  member_casual ride_length  day_of_week  is_holiday  work_day  \\\n",
       "0 -87.638506         member   11.750000            1       False         1   \n",
       "1 -87.623981         casual    1.883333            1       False         1   \n",
       "2 -87.623981         casual    7.716667            6       False         0   \n",
       "3 -87.596471         casual   58.483333            6       False         0   \n",
       "4 -87.652662         member   26.300000            2       False         1   \n",
       "\n",
       "   distance  rush_hour     speed  ride_length_category  \n",
       "0  3.104577          1  0.264219           (0.0, 30.0]  \n",
       "1  0.350123          0  0.185906           (0.0, 30.0]  \n",
       "2  0.350123          0  0.045372           (0.0, 30.0]  \n",
       "3  8.569135          0  0.146523          (30.0, 60.0]  \n",
       "4  5.418878          0  0.206041           (0.0, 30.0]  \n",
       "\n",
       "[5 rows x 21 columns]"
      ]
     },
     "execution_count": 31,
     "metadata": {},
     "output_type": "execute_result"
    }
   ],
   "source": [
    "df = pd.read_csv(\"/Users/kangchieh/Project/divvy_bike/data/divvy_202207-202306/csv/all_analyzed.csv\")\n",
    "df.head()"
   ]
  },
  {
   "cell_type": "markdown",
   "metadata": {},
   "source": [
    "# size"
   ]
  },
  {
   "cell_type": "code",
   "execution_count": 229,
   "metadata": {},
   "outputs": [
    {
     "data": {
      "text/plain": [
       "member_casual\n",
       "casual    38.831625\n",
       "member    61.168375\n",
       "dtype: float64"
      ]
     },
     "execution_count": 229,
     "metadata": {},
     "output_type": "execute_result"
    }
   ],
   "source": [
    "ratio = df.groupby('member_casual').size() / len(df) * 100\n",
    "ratio"
   ]
  },
  {
   "cell_type": "code",
   "execution_count": 230,
   "metadata": {},
   "outputs": [
    {
     "data": {
      "text/plain": [
       "Text(0.5, 1.0, 'Member type percentage')"
      ]
     },
     "execution_count": 230,
     "metadata": {},
     "output_type": "execute_result"
    },
    {
     "data": {
      "image/png": "[encoded data removed]",
      "text/plain": [
       "<Figure size 600x500 with 1 Axes>"
      ]
     },
     "metadata": {},
     "output_type": "display_data"
    }
   ],
   "source": [
    "fig_ratio, ax_ratio = plt.subplots(figsize=(6, 5))\n",
    "ratio.plot.bar(ax=ax_ratio, alpha=0.7)\n",
    "ax_ratio.set_xticklabels([\"casual\",\"member\"], rotation=0) \n",
    "ax_ratio.set_xlabel('Member type')\n",
    "ax_ratio.set_title('Member type percentage')"
   ]
  },
  {
   "cell_type": "markdown",
   "metadata": {},
   "source": [
    "# Distance"
   ]
  },
  {
   "cell_type": "code",
   "execution_count": 92,
   "metadata": {},
   "outputs": [
    {
     "data": {
      "text/html": [
       "<div>\n",
       "<style scoped>\n",
       "    .dataframe tbody tr th:only-of-type {\n",
       "        vertical-align: middle;\n",
       "    }\n",
       "\n",
       "    .dataframe tbody tr th {\n",
       "        vertical-align: top;\n",
       "    }\n",
       "\n",
       "    .dataframe thead tr th {\n",
       "        text-align: left;\n",
       "    }\n",
       "\n",
       "    .dataframe thead tr:last-of-type th {\n",
       "        text-align: right;\n",
       "    }\n",
       "</style>\n",
       "<table border=\"1\" class=\"dataframe\">\n",
       "  <thead>\n",
       "    <tr>\n",
       "      <th></th>\n",
       "      <th colspan=\"2\" halign=\"left\">distance</th>\n",
       "    </tr>\n",
       "    <tr>\n",
       "      <th></th>\n",
       "      <th>mean</th>\n",
       "      <th>median</th>\n",
       "    </tr>\n",
       "    <tr>\n",
       "      <th>member_casual</th>\n",
       "      <th></th>\n",
       "      <th></th>\n",
       "    </tr>\n",
       "  </thead>\n",
       "  <tbody>\n",
       "    <tr>\n",
       "      <th>casual</th>\n",
       "      <td>2.134677</td>\n",
       "      <td>1.612688</td>\n",
       "    </tr>\n",
       "    <tr>\n",
       "      <th>member</th>\n",
       "      <td>2.105076</td>\n",
       "      <td>1.505767</td>\n",
       "    </tr>\n",
       "  </tbody>\n",
       "</table>\n",
       "</div>"
      ],
      "text/plain": [
       "               distance          \n",
       "                   mean    median\n",
       "member_casual                    \n",
       "casual         2.134677  1.612688\n",
       "member         2.105076  1.505767"
      ]
     },
     "execution_count": 92,
     "metadata": {},
     "output_type": "execute_result"
    }
   ],
   "source": [
    "dist = df.groupby('member_casual').agg({'distance': ['mean', 'median']})\n",
    "dist\n"
   ]
  },
  {
   "cell_type": "code",
   "execution_count": 93,
   "metadata": {},
   "outputs": [
    {
     "data": {
      "text/plain": [
       "(0.0, 2.4)"
      ]
     },
     "execution_count": 93,
     "metadata": {},
     "output_type": "execute_result"
    },
    {
     "data": {
      "image/png": "[encoded data removed]",
      "text/plain": [
       "<Figure size 900x600 with 2 Axes>"
      ]
     },
     "metadata": {},
     "output_type": "display_data"
    }
   ],
   "source": [
    "dist = dist.reset_index()\n",
    "\n",
    "member_casual = dist['member_casual']\n",
    "mean_distance = dist['distance']['mean']\n",
    "median_distance = dist['distance']['median']\n",
    "\n",
    "x = np.arange(len(member_casual))\n",
    "\n",
    "plt.figure(figsize=(9, 6))\n",
    "plt.subplot(1, 2, 1)\n",
    "plt.bar(x, mean_distance, bar_width, label='Mean Distance', alpha=0.7)\n",
    "plt.xticks(x, member_casual)\n",
    "plt.xlabel('Member Type')\n",
    "plt.ylabel('Distance')\n",
    "plt.title('Mean Distance')\n",
    "plt.ylim(0, 2.4)\n",
    "\n",
    "plt.subplot(1, 2, 2)\n",
    "plt.bar(x, median_distance, bar_width, label='Median Distance', alpha=0.7, color='orange')\n",
    "plt.xticks(x, member_casual)\n",
    "plt.xlabel('Member Type')\n",
    "plt.ylabel('Distance')\n",
    "plt.title('Median Distance')\n",
    "plt.ylim(0, 2.4)"
   ]
  },
  {
   "cell_type": "markdown",
   "metadata": {},
   "source": [
    "# length of ride"
   ]
  },
  {
   "cell_type": "code",
   "execution_count": 211,
   "metadata": {},
   "outputs": [
    {
     "data": {
      "text/html": [
       "<div>\n",
       "<style scoped>\n",
       "    .dataframe tbody tr th:only-of-type {\n",
       "        vertical-align: middle;\n",
       "    }\n",
       "\n",
       "    .dataframe tbody tr th {\n",
       "        vertical-align: top;\n",
       "    }\n",
       "\n",
       "    .dataframe thead tr th {\n",
       "        text-align: left;\n",
       "    }\n",
       "\n",
       "    .dataframe thead tr:last-of-type th {\n",
       "        text-align: right;\n",
       "    }\n",
       "</style>\n",
       "<table border=\"1\" class=\"dataframe\">\n",
       "  <thead>\n",
       "    <tr>\n",
       "      <th></th>\n",
       "      <th colspan=\"2\" halign=\"left\">ride_length</th>\n",
       "    </tr>\n",
       "    <tr>\n",
       "      <th></th>\n",
       "      <th>mean</th>\n",
       "      <th>median</th>\n",
       "    </tr>\n",
       "    <tr>\n",
       "      <th>member_casual</th>\n",
       "      <th></th>\n",
       "      <th></th>\n",
       "    </tr>\n",
       "  </thead>\n",
       "  <tbody>\n",
       "    <tr>\n",
       "      <th>casual</th>\n",
       "      <td>27.729068</td>\n",
       "      <td>12.00</td>\n",
       "    </tr>\n",
       "    <tr>\n",
       "      <th>member</th>\n",
       "      <td>12.379864</td>\n",
       "      <td>8.55</td>\n",
       "    </tr>\n",
       "  </tbody>\n",
       "</table>\n",
       "</div>"
      ],
      "text/plain": [
       "              ride_length       \n",
       "                     mean median\n",
       "member_casual                   \n",
       "casual          27.729068  12.00\n",
       "member          12.379864   8.55"
      ]
     },
     "execution_count": 211,
     "metadata": {},
     "output_type": "execute_result"
    }
   ],
   "source": [
    "length = df.groupby('member_casual').agg({'ride_length': ['mean', 'median']})\n",
    "length"
   ]
  },
  {
   "cell_type": "code",
   "execution_count": 212,
   "metadata": {},
   "outputs": [],
   "source": [
    "length = length.reset_index()"
   ]
  },
  {
   "cell_type": "code",
   "execution_count": 213,
   "metadata": {},
   "outputs": [
    {
     "data": {
      "text/plain": [
       "Text(0.5, 1.0, 'Median Length')"
      ]
     },
     "execution_count": 213,
     "metadata": {},
     "output_type": "execute_result"
    },
    {
     "data": {
      "image/png": "[encoded data removed]",
      "text/plain": [
       "<Figure size 900x600 with 2 Axes>"
      ]
     },
     "metadata": {},
     "output_type": "display_data"
    }
   ],
   "source": [
    "member_casual = length['member_casual']\n",
    "mean_length = length['ride_length']['mean']\n",
    "median_length = length['ride_length']['median']\n",
    "\n",
    "x = np.arange(len(member_casual))\n",
    "\n",
    "plt.figure(figsize=(9, 6))\n",
    "plt.subplot(1, 2, 1)\n",
    "plt.bar(x, mean_length, label='Mean Length', alpha=0.7)\n",
    "plt.xticks(x, member_casual)\n",
    "plt.xlabel('Member Type')\n",
    "plt.ylabel('Length')\n",
    "plt.title('Mean Length')\n",
    "# plt.ylim(0, 2.4)\n",
    "\n",
    "plt.subplot(1, 2, 2)\n",
    "plt.bar(x, median_length, label='Median Length', alpha=0.7, color='orange')\n",
    "plt.xticks(x, member_casual)\n",
    "plt.xlabel('Member Type')\n",
    "plt.ylabel('Length')\n",
    "plt.title('Median Length')\n",
    "# plt.ylim(0, 2.4)"
   ]
  },
  {
   "cell_type": "markdown",
   "metadata": {},
   "source": [
    "# Length group"
   ]
  },
  {
   "cell_type": "code",
   "execution_count": 116,
   "metadata": {},
   "outputs": [],
   "source": [
    "df['ride_length_category'] = df['ride_length_category'].astype(\"category\")\n",
    "df['ride_length_category'] = df['ride_length_category'].cat.set_categories(['(0.0, 30.0]', '(30.0, 60.0]', '(60.0, 120.0]', '(120.0, inf]'], ordered=True)"
   ]
  },
  {
   "cell_type": "code",
   "execution_count": 231,
   "metadata": {},
   "outputs": [
    {
     "data": {
      "text/plain": [
       "member_casual  ride_length_category\n",
       "casual         (0.0, 30.0]             83.498466\n",
       "               (30.0, 60.0]            10.893340\n",
       "               (60.0, 120.0]            4.121730\n",
       "               (120.0, inf]             1.474790\n",
       "member         (0.0, 30.0]             94.216241\n",
       "               (30.0, 60.0]             5.072765\n",
       "               (60.0, 120.0]            0.485546\n",
       "               (120.0, inf]             0.216622\n",
       "dtype: float64"
      ]
     },
     "execution_count": 231,
     "metadata": {},
     "output_type": "execute_result"
    }
   ],
   "source": [
    "length_group = df.groupby(['member_casual', 'ride_length_category']).size() / df.groupby('member_casual').size() * 100\n",
    "length_group"
   ]
  },
  {
   "cell_type": "code",
   "execution_count": 232,
   "metadata": {},
   "outputs": [
    {
     "data": {
      "text/html": [
       "<div>\n",
       "<style scoped>\n",
       "    .dataframe tbody tr th:only-of-type {\n",
       "        vertical-align: middle;\n",
       "    }\n",
       "\n",
       "    .dataframe tbody tr th {\n",
       "        vertical-align: top;\n",
       "    }\n",
       "\n",
       "    .dataframe thead th {\n",
       "        text-align: right;\n",
       "    }\n",
       "</style>\n",
       "<table border=\"1\" class=\"dataframe\">\n",
       "  <thead>\n",
       "    <tr style=\"text-align: right;\">\n",
       "      <th>member_casual</th>\n",
       "      <th>casual</th>\n",
       "      <th>member</th>\n",
       "    </tr>\n",
       "    <tr>\n",
       "      <th>ride_length_category</th>\n",
       "      <th></th>\n",
       "      <th></th>\n",
       "    </tr>\n",
       "  </thead>\n",
       "  <tbody>\n",
       "    <tr>\n",
       "      <th>(0.0, 30.0]</th>\n",
       "      <td>83.498466</td>\n",
       "      <td>94.216241</td>\n",
       "    </tr>\n",
       "    <tr>\n",
       "      <th>(30.0, 60.0]</th>\n",
       "      <td>10.893340</td>\n",
       "      <td>5.072765</td>\n",
       "    </tr>\n",
       "    <tr>\n",
       "      <th>(60.0, 120.0]</th>\n",
       "      <td>4.121730</td>\n",
       "      <td>0.485546</td>\n",
       "    </tr>\n",
       "    <tr>\n",
       "      <th>(120.0, inf]</th>\n",
       "      <td>1.474790</td>\n",
       "      <td>0.216622</td>\n",
       "    </tr>\n",
       "  </tbody>\n",
       "</table>\n",
       "</div>"
      ],
      "text/plain": [
       "member_casual            casual     member\n",
       "ride_length_category                      \n",
       "(0.0, 30.0]           83.498466  94.216241\n",
       "(30.0, 60.0]          10.893340   5.072765\n",
       "(60.0, 120.0]          4.121730   0.485546\n",
       "(120.0, inf]           1.474790   0.216622"
      ]
     },
     "execution_count": 232,
     "metadata": {},
     "output_type": "execute_result"
    }
   ],
   "source": [
    "length_group = length_group.unstack('member_casual')\n",
    "length_group"
   ]
  },
  {
   "cell_type": "code",
   "execution_count": 233,
   "metadata": {},
   "outputs": [
    {
     "data": {
      "image/png": "[encoded data removed]",
      "text/plain": [
       "<Figure size 700x1000 with 4 Axes>"
      ]
     },
     "metadata": {},
     "output_type": "display_data"
    }
   ],
   "source": [
    "fig_length_group, ax_length_group = plt.subplots(2, 2, figsize=(7, 10))\n",
    "x = np.arange(len(member_casual))\n",
    "title_dict = {0: 'very short trip (0.0, 30.0]', 1: 'short trip (30.0, 60.0]', 2: 'medium trip (60.0, 120.0]', 3: 'long trip (120.0, inf]'}\n",
    "\n",
    "for i in range(4):\n",
    "    ax_length_group[int(i//2), int(i%2)].bar(x,length_group.iloc[i], color=[(0.12, 0.47, 0.71), 'orange'], alpha=0.7)\n",
    "    ax_length_group[int(i//2), int(i%2)].set_title(title_dict[i])\n",
    "\n",
    "    ax_length_group[int(i//2), int(i%2)].get_xaxis().set_visible(False)\n",
    "    ax_length_group[int(i//2), int(i%2)].spines['top'].set_visible(False)\n",
    "    ax_length_group[int(i//2), int(i%2)].spines['right'].set_visible(False)\n",
    "    ax_length_group[int(i//2), int(i%2)].spines['left'].set_visible(False)\n",
    "\n",
    "fig_length_group.suptitle('Length of ride by member type', fontsize='xx-large')\n",
    "leg = fig_length_group.legend(loc=9, labels=['casual', 'member'],  fontsize='large', frameon=False, bbox_to_anchor=(0.5, 0), ncol=2)\n",
    "leg.legendHandles[1].set_color('orange')\n",
    "plt.tight_layout()\n"
   ]
  },
  {
   "cell_type": "markdown",
   "metadata": {},
   "source": [
    "# Work day"
   ]
  },
  {
   "cell_type": "code",
   "execution_count": 234,
   "metadata": {},
   "outputs": [
    {
     "data": {
      "text/plain": [
       "work_day  member_casual\n",
       "0         casual           48.769579\n",
       "          member           51.230421\n",
       "1         casual           34.814287\n",
       "          member           65.185713\n",
       "dtype: float64"
      ]
     },
     "execution_count": 234,
     "metadata": {},
     "output_type": "execute_result"
    }
   ],
   "source": [
    "work_day = df.groupby(['work_day', 'member_casual']).size() / df.groupby('work_day').size() * 100\n",
    "work_day"
   ]
  },
  {
   "cell_type": "code",
   "execution_count": 247,
   "metadata": {},
   "outputs": [
    {
     "data": {
      "image/png": "[encoded data removed]",
      "text/plain": [
       "<Figure size 640x480 with 1 Axes>"
      ]
     },
     "metadata": {},
     "output_type": "display_data"
    }
   ],
   "source": [
    "ax_work_day = work_day.unstack('member_casual').plot.bar(color=[(0.12, 0.47, 0.71), '#FFB400'], alpha=0.7)\n",
    "ax_work_day.set_xlabel('Work day or not', fontsize='large')\n",
    "ax_work_day.set_xticklabels([\"no\",\"yes\"], rotation=0, fontsize='large') \n",
    "ax_work_day.spines['top'].set_visible(False)\n",
    "ax_work_day.spines['right'].set_visible(False)\n",
    "ax_work_day.spines['left'].set_visible(False)\n",
    "\n",
    "ax_work_day.legend(loc=9)\n",
    "ax_work_day.axis(ymax=80)\n",
    "\n",
    "for i, v in enumerate(work_day):\n",
    "    if i % 2 == 1:\n",
    "        ax_work_day.text(int(i/2)+0.05, v+3, str(int(v))+'%', color='#FFB400', alpha=0.7, fontweight='bold', fontsize='large')\n",
    "    else:\n",
    "        ax_work_day.text(int(i/2)-0.2, v+3, str(int(v))+'%', color=(0.12, 0.47, 0.71), alpha=0.7, fontweight='bold', fontsize='large')"
   ]
  },
  {
   "cell_type": "markdown",
   "metadata": {},
   "source": [
    "# Rush hour"
   ]
  },
  {
   "cell_type": "code",
   "execution_count": 238,
   "metadata": {},
   "outputs": [
    {
     "data": {
      "text/plain": [
       "rush_hour  member_casual\n",
       "0          casual           42.855196\n",
       "           member           57.144804\n",
       "1          casual           31.142981\n",
       "           member           68.857019\n",
       "dtype: float64"
      ]
     },
     "execution_count": 238,
     "metadata": {},
     "output_type": "execute_result"
    }
   ],
   "source": [
    "rush_hour = df.groupby(['rush_hour', 'member_casual']).size() / df.groupby('rush_hour').size() * 100\n",
    "rush_hour"
   ]
  },
  {
   "cell_type": "code",
   "execution_count": 250,
   "metadata": {},
   "outputs": [
    {
     "data": {
      "image/png": "[encoded data removed]",
      "text/plain": [
       "<Figure size 800x400 with 1 Axes>"
      ]
     },
     "metadata": {},
     "output_type": "display_data"
    }
   ],
   "source": [
    "ax_rush_hour = rush_hour.unstack('member_casual').plot(figsize=(8, 4), kind='barh', color=[(0.12, 0.47, 0.71), '#FFB400'], alpha=0.7, width=0.5)\n",
    "# for bars in ax_rush_hour.containers[0]:\n",
    "#     bars.set_alpha(0.2)\n",
    "ax_rush_hour.set_title(\"Rush hour\", fontweight='bold', fontsize=25, x=0.09, pad=50)\n",
    "# ax.set_ylabel('Rush hour\\n or not', fontsize=14, rotation=0, labelpad=30)\n",
    "ax_rush_hour.set_ylabel('')\n",
    "ax_rush_hour.set_yticklabels(['no', 'yes'], rotation=0, fontsize=12)\n",
    "ax_rush_hour.xaxis.tick_top()\n",
    "# ax.get_xaxis().set_visible(False)\n",
    "# ax.spines['top'].set_visible(False)\n",
    "ax_rush_hour.spines['right'].set_visible(False)\n",
    "ax_rush_hour.spines['left'].set_visible(False)\n",
    "ax_rush_hour.spines['bottom'].set_visible(False)\n",
    "\n",
    "handles, labels = ax_rush_hour.get_legend_handles_labels()\n",
    "handles.reverse()\n",
    "labels.reverse()\n",
    "ax_rush_hour.legend(handles, labels, loc=0, fontsize='large', frameon=False, bbox_to_anchor=(0.7, 0), ncol=2)\n",
    "\n",
    "ax_rush_hour.axis(xmax=83, ymax=1.3)\n",
    "for i, v in enumerate(rush_hour):\n",
    "    if i % 2 == 1:\n",
    "        ax_rush_hour.text(v+3, int(i/2)+0.05, str(int(v))+'%', color='#FFB400', fontweight='bold', fontsize='large', alpha=0.7)\n",
    "    else:\n",
    "        ax_rush_hour.text(v+2.5, int(i/2)-0.135, str(int(v))+'%', color=(0.12, 0.47, 0.71), fontweight='bold', fontsize='large', alpha=0.7)"
   ]
  },
  {
   "cell_type": "code",
   "execution_count": null,
   "metadata": {},
   "outputs": [],
   "source": []
  }
 ],
 "metadata": {
  "kernelspec": {
   "display_name": "Python 3",
   "language": "python",
   "name": "python3"
  },
  "language_info": {
   "codemirror_mode": {
    "name": "ipython",
    "version": 3
   },
   "file_extension": ".py",
   "mimetype": "text/x-python",
   "name": "python",
   "nbconvert_exporter": "python",
   "pygments_lexer": "ipython3",
   "version": "3.9.5"
  },
  "orig_nbformat": 4
 },
 "nbformat": 4,
 "nbformat_minor": 2
}
