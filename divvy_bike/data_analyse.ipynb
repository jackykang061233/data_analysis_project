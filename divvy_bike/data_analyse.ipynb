{
 "cells": [
  {
   "cell_type": "code",
   "execution_count": 476,
   "metadata": {},
   "outputs": [],
   "source": [
    "import pandas as pd\n",
    "import matplotlib.pyplot as plt\n",
    "import numpy as np\n",
    "\n",
    "from datetime import datetime\n",
    "from geopy import distance"
   ]
  },
  {
   "cell_type": "code",
   "execution_count": 379,
   "metadata": {},
   "outputs": [
    {
     "data": {
      "text/html": [
       "<div>\n",
       "<style scoped>\n",
       "    .dataframe tbody tr th:only-of-type {\n",
       "        vertical-align: middle;\n",
       "    }\n",
       "\n",
       "    .dataframe tbody tr th {\n",
       "        vertical-align: top;\n",
       "    }\n",
       "\n",
       "    .dataframe thead th {\n",
       "        text-align: right;\n",
       "    }\n",
       "</style>\n",
       "<table border=\"1\" class=\"dataframe\">\n",
       "  <thead>\n",
       "    <tr style=\"text-align: right;\">\n",
       "      <th></th>\n",
       "      <th>ride_id</th>\n",
       "      <th>rideable_type</th>\n",
       "      <th>started_at</th>\n",
       "      <th>ended_at</th>\n",
       "      <th>start_station_name</th>\n",
       "      <th>start_station_id</th>\n",
       "      <th>end_station_name</th>\n",
       "      <th>end_station_id</th>\n",
       "      <th>start_lat</th>\n",
       "      <th>start_lng</th>\n",
       "      <th>end_lat</th>\n",
       "      <th>end_lng</th>\n",
       "      <th>member_casual</th>\n",
       "    </tr>\n",
       "  </thead>\n",
       "  <tbody>\n",
       "    <tr>\n",
       "      <th>0</th>\n",
       "      <td>954144C2F67B1932</td>\n",
       "      <td>classic_bike</td>\n",
       "      <td>2022-07-05 08:12:47</td>\n",
       "      <td>2022-07-05 08:24:32</td>\n",
       "      <td>Ashland Ave &amp; Blackhawk St</td>\n",
       "      <td>13224</td>\n",
       "      <td>Kingsbury St &amp; Kinzie St</td>\n",
       "      <td>KA1503000043</td>\n",
       "      <td>41.907066</td>\n",
       "      <td>-87.667252</td>\n",
       "      <td>41.889177</td>\n",
       "      <td>-87.638506</td>\n",
       "      <td>member</td>\n",
       "    </tr>\n",
       "    <tr>\n",
       "      <th>1</th>\n",
       "      <td>292E027607D218B6</td>\n",
       "      <td>classic_bike</td>\n",
       "      <td>2022-07-26 12:53:38</td>\n",
       "      <td>2022-07-26 12:55:31</td>\n",
       "      <td>Buckingham Fountain (Temp)</td>\n",
       "      <td>A15541-1</td>\n",
       "      <td>Michigan Ave &amp; 8th St</td>\n",
       "      <td>A623-1</td>\n",
       "      <td>41.869621</td>\n",
       "      <td>-87.623981</td>\n",
       "      <td>41.872773</td>\n",
       "      <td>-87.623981</td>\n",
       "      <td>casual</td>\n",
       "    </tr>\n",
       "    <tr>\n",
       "      <th>2</th>\n",
       "      <td>57765852588AD6E0</td>\n",
       "      <td>classic_bike</td>\n",
       "      <td>2022-07-03 13:58:49</td>\n",
       "      <td>2022-07-03 14:06:32</td>\n",
       "      <td>Buckingham Fountain (Temp)</td>\n",
       "      <td>A15541-1</td>\n",
       "      <td>Michigan Ave &amp; 8th St</td>\n",
       "      <td>A623-1</td>\n",
       "      <td>41.869621</td>\n",
       "      <td>-87.623981</td>\n",
       "      <td>41.872773</td>\n",
       "      <td>-87.623981</td>\n",
       "      <td>casual</td>\n",
       "    </tr>\n",
       "    <tr>\n",
       "      <th>3</th>\n",
       "      <td>B5B6BE44314590E6</td>\n",
       "      <td>classic_bike</td>\n",
       "      <td>2022-07-31 17:44:21</td>\n",
       "      <td>2022-07-31 18:42:50</td>\n",
       "      <td>Buckingham Fountain (Temp)</td>\n",
       "      <td>A15541-1</td>\n",
       "      <td>Woodlawn Ave &amp; 55th St</td>\n",
       "      <td>TA1307000164</td>\n",
       "      <td>41.869621</td>\n",
       "      <td>-87.623981</td>\n",
       "      <td>41.795264</td>\n",
       "      <td>-87.596471</td>\n",
       "      <td>casual</td>\n",
       "    </tr>\n",
       "    <tr>\n",
       "      <th>4</th>\n",
       "      <td>A4C331F2A00E79E0</td>\n",
       "      <td>classic_bike</td>\n",
       "      <td>2022-07-13 19:49:06</td>\n",
       "      <td>2022-07-13 20:15:24</td>\n",
       "      <td>Wabash Ave &amp; Grand Ave</td>\n",
       "      <td>TA1307000117</td>\n",
       "      <td>Sheffield Ave &amp; Wellington Ave</td>\n",
       "      <td>TA1307000052</td>\n",
       "      <td>41.891466</td>\n",
       "      <td>-87.626761</td>\n",
       "      <td>41.936253</td>\n",
       "      <td>-87.652662</td>\n",
       "      <td>member</td>\n",
       "    </tr>\n",
       "    <tr>\n",
       "      <th>5</th>\n",
       "      <td>579D73BE2ED880B3</td>\n",
       "      <td>electric_bike</td>\n",
       "      <td>2022-07-01 17:04:35</td>\n",
       "      <td>2022-07-01 17:13:18</td>\n",
       "      <td>Desplaines St &amp; Randolph St</td>\n",
       "      <td>15535</td>\n",
       "      <td>Clinton St &amp; Roosevelt Rd</td>\n",
       "      <td>WL-008</td>\n",
       "      <td>41.884614</td>\n",
       "      <td>-87.644564</td>\n",
       "      <td>41.867118</td>\n",
       "      <td>-87.641088</td>\n",
       "      <td>member</td>\n",
       "    </tr>\n",
       "    <tr>\n",
       "      <th>6</th>\n",
       "      <td>EFE518CCEE333669</td>\n",
       "      <td>classic_bike</td>\n",
       "      <td>2022-07-18 18:11:01</td>\n",
       "      <td>2022-07-18 18:22:30</td>\n",
       "      <td>Marquette Ave &amp; 89th St</td>\n",
       "      <td>20239</td>\n",
       "      <td>East End Ave &amp; 87th St</td>\n",
       "      <td>20231</td>\n",
       "      <td>41.733669</td>\n",
       "      <td>-87.558342</td>\n",
       "      <td>41.736815</td>\n",
       "      <td>-87.582801</td>\n",
       "      <td>member</td>\n",
       "    </tr>\n",
       "    <tr>\n",
       "      <th>7</th>\n",
       "      <td>315FEBB7B3F6D2EA</td>\n",
       "      <td>classic_bike</td>\n",
       "      <td>2022-07-28 20:38:18</td>\n",
       "      <td>2022-07-28 21:09:11</td>\n",
       "      <td>Wabash Ave &amp; Grand Ave</td>\n",
       "      <td>TA1307000117</td>\n",
       "      <td>Dearborn Pkwy &amp; Delaware Pl</td>\n",
       "      <td>TA1307000128</td>\n",
       "      <td>41.891466</td>\n",
       "      <td>-87.626761</td>\n",
       "      <td>41.898969</td>\n",
       "      <td>-87.629912</td>\n",
       "      <td>casual</td>\n",
       "    </tr>\n",
       "    <tr>\n",
       "      <th>8</th>\n",
       "      <td>EE3C4A1E66766B56</td>\n",
       "      <td>classic_bike</td>\n",
       "      <td>2022-07-10 22:55:59</td>\n",
       "      <td>2022-07-10 23:01:32</td>\n",
       "      <td>Wabash Ave &amp; Grand Ave</td>\n",
       "      <td>TA1307000117</td>\n",
       "      <td>Dearborn Pkwy &amp; Delaware Pl</td>\n",
       "      <td>TA1307000128</td>\n",
       "      <td>41.891466</td>\n",
       "      <td>-87.626761</td>\n",
       "      <td>41.898969</td>\n",
       "      <td>-87.629912</td>\n",
       "      <td>member</td>\n",
       "    </tr>\n",
       "    <tr>\n",
       "      <th>9</th>\n",
       "      <td>1EE6C93A547A187C</td>\n",
       "      <td>electric_bike</td>\n",
       "      <td>2022-07-10 09:35:58</td>\n",
       "      <td>2022-07-10 09:47:25</td>\n",
       "      <td>Ashland Ave &amp; Blackhawk St</td>\n",
       "      <td>13224</td>\n",
       "      <td>Orleans St &amp; Merchandise Mart Plaza</td>\n",
       "      <td>TA1305000022</td>\n",
       "      <td>41.907093</td>\n",
       "      <td>-87.667247</td>\n",
       "      <td>41.888243</td>\n",
       "      <td>-87.636390</td>\n",
       "      <td>member</td>\n",
       "    </tr>\n",
       "  </tbody>\n",
       "</table>\n",
       "</div>"
      ],
      "text/plain": [
       "            ride_id  rideable_type           started_at             ended_at  \\\n",
       "0  954144C2F67B1932   classic_bike  2022-07-05 08:12:47  2022-07-05 08:24:32   \n",
       "1  292E027607D218B6   classic_bike  2022-07-26 12:53:38  2022-07-26 12:55:31   \n",
       "2  57765852588AD6E0   classic_bike  2022-07-03 13:58:49  2022-07-03 14:06:32   \n",
       "3  B5B6BE44314590E6   classic_bike  2022-07-31 17:44:21  2022-07-31 18:42:50   \n",
       "4  A4C331F2A00E79E0   classic_bike  2022-07-13 19:49:06  2022-07-13 20:15:24   \n",
       "5  579D73BE2ED880B3  electric_bike  2022-07-01 17:04:35  2022-07-01 17:13:18   \n",
       "6  EFE518CCEE333669   classic_bike  2022-07-18 18:11:01  2022-07-18 18:22:30   \n",
       "7  315FEBB7B3F6D2EA   classic_bike  2022-07-28 20:38:18  2022-07-28 21:09:11   \n",
       "8  EE3C4A1E66766B56   classic_bike  2022-07-10 22:55:59  2022-07-10 23:01:32   \n",
       "9  1EE6C93A547A187C  electric_bike  2022-07-10 09:35:58  2022-07-10 09:47:25   \n",
       "\n",
       "            start_station_name start_station_id  \\\n",
       "0   Ashland Ave & Blackhawk St            13224   \n",
       "1   Buckingham Fountain (Temp)         A15541-1   \n",
       "2   Buckingham Fountain (Temp)         A15541-1   \n",
       "3   Buckingham Fountain (Temp)         A15541-1   \n",
       "4       Wabash Ave & Grand Ave     TA1307000117   \n",
       "5  Desplaines St & Randolph St            15535   \n",
       "6      Marquette Ave & 89th St            20239   \n",
       "7       Wabash Ave & Grand Ave     TA1307000117   \n",
       "8       Wabash Ave & Grand Ave     TA1307000117   \n",
       "9   Ashland Ave & Blackhawk St            13224   \n",
       "\n",
       "                      end_station_name end_station_id  start_lat  start_lng  \\\n",
       "0             Kingsbury St & Kinzie St   KA1503000043  41.907066 -87.667252   \n",
       "1                Michigan Ave & 8th St         A623-1  41.869621 -87.623981   \n",
       "2                Michigan Ave & 8th St         A623-1  41.869621 -87.623981   \n",
       "3               Woodlawn Ave & 55th St   TA1307000164  41.869621 -87.623981   \n",
       "4       Sheffield Ave & Wellington Ave   TA1307000052  41.891466 -87.626761   \n",
       "5            Clinton St & Roosevelt Rd         WL-008  41.884614 -87.644564   \n",
       "6               East End Ave & 87th St          20231  41.733669 -87.558342   \n",
       "7          Dearborn Pkwy & Delaware Pl   TA1307000128  41.891466 -87.626761   \n",
       "8          Dearborn Pkwy & Delaware Pl   TA1307000128  41.891466 -87.626761   \n",
       "9  Orleans St & Merchandise Mart Plaza   TA1305000022  41.907093 -87.667247   \n",
       "\n",
       "     end_lat    end_lng member_casual  \n",
       "0  41.889177 -87.638506        member  \n",
       "1  41.872773 -87.623981        casual  \n",
       "2  41.872773 -87.623981        casual  \n",
       "3  41.795264 -87.596471        casual  \n",
       "4  41.936253 -87.652662        member  \n",
       "5  41.867118 -87.641088        member  \n",
       "6  41.736815 -87.582801        member  \n",
       "7  41.898969 -87.629912        casual  \n",
       "8  41.898969 -87.629912        member  \n",
       "9  41.888243 -87.636390        member  "
      ]
     },
     "execution_count": 379,
     "metadata": {},
     "output_type": "execute_result"
    }
   ],
   "source": [
    "df = pd.read_csv(\"all_cleaned.csv\")\n",
    "df.head(10)"
   ]
  },
  {
   "cell_type": "code",
   "execution_count": 380,
   "metadata": {},
   "outputs": [
    {
     "data": {
      "text/plain": [
       "5779444"
      ]
     },
     "execution_count": 380,
     "metadata": {},
     "output_type": "execute_result"
    }
   ],
   "source": [
    "len(df)"
   ]
  },
  {
   "cell_type": "markdown",
   "metadata": {},
   "source": [
    "# Add columns for further use"
   ]
  },
  {
   "cell_type": "markdown",
   "metadata": {},
   "source": [
    "## Ride distance"
   ]
  },
  {
   "cell_type": "code",
   "execution_count": 384,
   "metadata": {},
   "outputs": [],
   "source": [
    "def calculate_distance(x):\n",
    "    try:\n",
    "        return distance.distance((x['start_lat'], x['start_lng']), (x['end_lat'], x['end_lng'])).km\n",
    "    except ValueError:\n",
    "        return np.nan\n",
    "    \n",
    "        \n",
    "df['distance'] = df.apply(lambda x: calculate_distance(x), axis=1)"
   ]
  },
  {
   "cell_type": "markdown",
   "metadata": {},
   "source": [
    "## The length of the ride"
   ]
  },
  {
   "cell_type": "code",
   "execution_count": 382,
   "metadata": {},
   "outputs": [
    {
     "data": {
      "text/plain": [
       "5779444"
      ]
     },
     "execution_count": 382,
     "metadata": {},
     "output_type": "execute_result"
    }
   ],
   "source": [
    "df[\"started_at\"] = pd.to_datetime(df[\"started_at\"], errors='coerce')\n",
    "df[\"ended_at\"] = pd.to_datetime(df[\"ended_at\"], errors='coerce')\n",
    "df['ride_length'] = (df[\"ended_at\"] - df[\"started_at\"]).dt.total_seconds() / 60"
   ]
  },
  {
   "cell_type": "markdown",
   "metadata": {},
   "source": [
    "## Check if it is a work day"
   ]
  },
  {
   "cell_type": "code",
   "execution_count": 383,
   "metadata": {},
   "outputs": [
    {
     "data": {
      "text/plain": [
       "5779444"
      ]
     },
     "execution_count": 383,
     "metadata": {},
     "output_type": "execute_result"
    }
   ],
   "source": [
    "national_holidays = [\n",
    "    '2022-07-04',  # Independence Day\n",
    "    '2022-09-05',  # Labor Day\n",
    "    '2022-10-10',  # Columbus Day\n",
    "    '2022-11-11',  # Veterans Day\n",
    "    '2022-11-24',  # Thanksgiving Day\n",
    "    '2022-12-25',  # Christmas Day\n",
    "    '2023-01-01',  # New Year's Day\n",
    "    '2023-01-16',  # Martin Luther King Jr. Day\n",
    "    '2023-02-20',  # Presidents' Day\n",
    "    '2023-05-29'   # Memorial Day\n",
    "    ] \n",
    "\n",
    "df['day_of_week'] = df[\"started_at\"].dt.dayofweek\n",
    "df['is_holiday'] = df[\"started_at\"].isin(national_holidays)\n",
    "df['work_day'] = 1 - (df['is_holiday'] | (df['day_of_week'].isin([5, 6]))).astype(int) # 1 is work day and 0 is non work day\n"
   ]
  },
  {
   "cell_type": "markdown",
   "metadata": {},
   "source": [
    "## Check if it is rush_hour"
   ]
  },
  {
   "cell_type": "code",
   "execution_count": 385,
   "metadata": {},
   "outputs": [],
   "source": [
    "df['rush_hour'] =  (((df['started_at'].dt.hour >= 7) & (df['started_at'].dt.hour <= 9)) | \\\n",
    "                             ((df['started_at'].dt.hour >= 16) & (df['started_at'].dt.hour <= 18)) & df['work_day']).astype(int) # 1 is rush hour and 0 is non rush hour"
   ]
  },
  {
   "cell_type": "markdown",
   "metadata": {},
   "source": [
    "# Calculate the speed"
   ]
  },
  {
   "cell_type": "code",
   "execution_count": 386,
   "metadata": {},
   "outputs": [],
   "source": [
    "df['speed'] = df['distance'].div(df['ride_length'])"
   ]
  },
  {
   "cell_type": "markdown",
   "metadata": {},
   "source": [
    "# Turn the ride length into three categories\n",
    "0-30 min = very short trip \\\n",
    "30-60 min = short trip \\\n",
    "60-120 = medium trip \\\n",
    "\\>120 = long trip "
   ]
  },
  {
   "cell_type": "code",
   "execution_count": 387,
   "metadata": {},
   "outputs": [],
   "source": [
    "df['ride_length_category'] = pd.cut(df['ride_length'], [0, 30, 60, 120, float('inf')])"
   ]
  },
  {
   "cell_type": "markdown",
   "metadata": {},
   "source": [
    "# Analyze data"
   ]
  },
  {
   "cell_type": "markdown",
   "metadata": {},
   "source": [
    "## Overview"
   ]
  },
  {
   "cell_type": "code",
   "execution_count": 388,
   "metadata": {},
   "outputs": [
    {
     "data": {
      "text/html": [
       "<div>\n",
       "<style scoped>\n",
       "    .dataframe tbody tr th:only-of-type {\n",
       "        vertical-align: middle;\n",
       "    }\n",
       "\n",
       "    .dataframe tbody tr th {\n",
       "        vertical-align: top;\n",
       "    }\n",
       "\n",
       "    .dataframe thead tr th {\n",
       "        text-align: left;\n",
       "    }\n",
       "\n",
       "    .dataframe thead tr:last-of-type th {\n",
       "        text-align: right;\n",
       "    }\n",
       "</style>\n",
       "<table border=\"1\" class=\"dataframe\">\n",
       "  <thead>\n",
       "    <tr>\n",
       "      <th></th>\n",
       "      <th colspan=\"2\" halign=\"left\">distance</th>\n",
       "      <th>work_day</th>\n",
       "    </tr>\n",
       "    <tr>\n",
       "      <th></th>\n",
       "      <th>mean</th>\n",
       "      <th>median</th>\n",
       "      <th>count</th>\n",
       "    </tr>\n",
       "    <tr>\n",
       "      <th>member_casual</th>\n",
       "      <th></th>\n",
       "      <th></th>\n",
       "      <th></th>\n",
       "    </tr>\n",
       "  </thead>\n",
       "  <tbody>\n",
       "    <tr>\n",
       "      <th>casual</th>\n",
       "      <td>2.134677</td>\n",
       "      <td>1.612688</td>\n",
       "      <td>2244252</td>\n",
       "    </tr>\n",
       "    <tr>\n",
       "      <th>member</th>\n",
       "      <td>2.105076</td>\n",
       "      <td>1.505767</td>\n",
       "      <td>3535192</td>\n",
       "    </tr>\n",
       "  </tbody>\n",
       "</table>\n",
       "</div>"
      ],
      "text/plain": [
       "               distance           work_day\n",
       "                   mean    median    count\n",
       "member_casual                             \n",
       "casual         2.134677  1.612688  2244252\n",
       "member         2.105076  1.505767  3535192"
      ]
     },
     "execution_count": 388,
     "metadata": {},
     "output_type": "execute_result"
    }
   ],
   "source": [
    "df.groupby('member_casual').agg({'distance': ['mean', 'median'], 'work_day': ['count']})"
   ]
  },
  {
   "cell_type": "markdown",
   "metadata": {},
   "source": [
    "## Work day"
   ]
  },
  {
   "cell_type": "code",
   "execution_count": 389,
   "metadata": {},
   "outputs": [
    {
     "data": {
      "text/plain": [
       "work_day  member_casual\n",
       "0         casual           48.769579\n",
       "          member           51.230421\n",
       "1         casual           34.814287\n",
       "          member           65.185713\n",
       "dtype: float64"
      ]
     },
     "execution_count": 389,
     "metadata": {},
     "output_type": "execute_result"
    }
   ],
   "source": [
    "work_day = df.groupby(['work_day', 'member_casual']).size() / df.groupby('work_day').size() * 100\n",
    "work_day"
   ]
  },
  {
   "cell_type": "code",
   "execution_count": 709,
   "metadata": {},
   "outputs": [
    {
     "data": {
      "text/plain": [
       "(-0.5, 1.5, 0.0, 80.0)"
      ]
     },
     "execution_count": 709,
     "metadata": {},
     "output_type": "execute_result"
    },
    {
     "data": {
      "image/png": "[encoded data removed]",
      "text/plain": [
       "<Figure size 640x480 with 1 Axes>"
      ]
     },
     "metadata": {},
     "output_type": "display_data"
    }
   ],
   "source": [
    "ax_work_day = work_day.unstack('member_casual').plot.bar()\n",
    "ax_work_day.set_xlabel('Work day or not', fontsize='large')\n",
    "ax_work_day.set_xticklabels([\"no\",\"yes\"], rotation=0, fontsize='large') \n",
    "ax_work_day.legend(loc=9)\n",
    "ax_work_day.axis(ymax=80)"
   ]
  },
  {
   "cell_type": "code",
   "execution_count": 710,
   "metadata": {},
   "outputs": [
    {
     "data": {
      "image/png": "[encoded data removed]",
      "text/plain": [
       "<Figure size 640x480 with 1 Axes>"
      ]
     },
     "metadata": {},
     "output_type": "display_data"
    }
   ],
   "source": [
    "ax_work_day = work_day.unstack('member_casual').plot.bar(color=['grey', '#FFB400'])\n",
    "ax_work_day.set_xlabel('Work day or not', fontsize='large')\n",
    "ax_work_day.set_xticklabels([\"no\",\"yes\"], rotation=0, fontsize='large') \n",
    "ax_work_day.spines['top'].set_visible(False)\n",
    "ax_work_day.spines['right'].set_visible(False)\n",
    "ax_work_day.spines['left'].set_visible(False)\n",
    "\n",
    "ax_work_day.legend(loc=9)\n",
    "ax_work_day.axis(ymax=80)\n",
    "for i, v in enumerate(work_day):\n",
    "    if i % 2 == 1:\n",
    "        ax_work_day.text(int(i/2)+0.05, v+3, str(int(v))+'%', color='#FFB400', fontweight='bold', fontsize='large')\n",
    "    else:\n",
    "        ax_work_day.text(int(i/2)-0.2, v+3, str(int(v))+'%', color='grey', fontweight='bold', fontsize='large')\n"
   ]
  },
  {
   "cell_type": "code",
   "execution_count": 762,
   "metadata": {},
   "outputs": [
    {
     "data": {
      "image/png": "[encoded data removed]",
      "text/plain": [
       "<Figure size 800x400 with 1 Axes>"
      ]
     },
     "metadata": {},
     "output_type": "display_data"
    }
   ],
   "source": [
    "ax_work_day = work_day.unstack('member_casual').plot(figsize=(8, 4), kind='barh', color=['grey', '#FFB400'], width=0.4)\n",
    "ax_work_day.set_title(\"Work day\", fontweight='bold', fontsize=25, x=0.07, pad=50)\n",
    "ax_work_day.set_ylabel('')\n",
    "ax_work_day.set_yticklabels(['no', 'yes'], rotation=0, fontsize=12)\n",
    "ax_work_day.xaxis.tick_top()\n",
    "\n",
    "ax_work_day.spines['right'].set_visible(False)\n",
    "ax_work_day.spines['left'].set_visible(False)\n",
    "ax_work_day.spines['bottom'].set_visible(False)\n",
    "\n",
    "ax_work_day.legend(loc=7, fontsize='large')\n",
    "ax_work_day.axis(xmax=83, ymax=1.3)\n",
    "for i, v in enumerate(work_day):\n",
    "    if i % 2 == 1:\n",
    "        ax_work_day.text(v+3, int(i/2)+0.05, str(int(v))+'%', color='#FFB400', fontweight='bold', fontsize='large')\n",
    "    else:\n",
    "        ax_work_day.text(v+2.5, int(i/2)-0.135, str(int(v))+'%', color='grey', fontweight='bold', fontsize='large')\n"
   ]
  },
  {
   "cell_type": "code",
   "execution_count": 763,
   "metadata": {},
   "outputs": [
    {
     "data": {
      "image/png": "[encoded data removed]",
      "text/plain": [
       "<Figure size 800x400 with 1 Axes>"
      ]
     },
     "metadata": {},
     "output_type": "display_data"
    }
   ],
   "source": [
    "ax_work_day = work_day.unstack('member_casual').plot(figsize=(8, 4), kind='barh', color=['grey', '#FFB400'], width=0.4)\n",
    "for bars in ax_work_day.containers[0]:\n",
    "    bars.set_alpha(0.2)\n",
    "ax_work_day.set_title(\"Work day\", fontweight='bold', fontsize=25, x=0.07, pad=50)\n",
    "ax_work_day.set_ylabel('')\n",
    "ax_work_day.set_yticklabels(['no', 'yes'], rotation=0, fontsize=12)\n",
    "ax_work_day.xaxis.tick_top()\n",
    "\n",
    "ax_work_day.spines['right'].set_visible(False)\n",
    "ax_work_day.spines['left'].set_visible(False)\n",
    "ax_work_day.spines['bottom'].set_visible(False)\n",
    "\n",
    "ax_work_day.axis(xmax=83, ymax=1.3)\n",
    "\n",
    "handles, labels = ax_work_day.get_legend_handles_labels()\n",
    "handles.reverse()\n",
    "labels.reverse()\n",
    "ax_work_day.legend(handles, labels, loc=0, fontsize='large', frameon=False, bbox_to_anchor=(0.7, 0), ncol=2)\n",
    "for i, v in enumerate(work_day):\n",
    "    if i % 2 == 1:\n",
    "        ax_work_day.text(v+3, int(i/2)+0.05, str(int(v))+'%', color='#FFB400', fontweight='bold', fontsize='large')\n",
    "    else:\n",
    "        ax_work_day.text(v+2.5, int(i/2)-0.135, str(int(v))+'%', color='grey', fontweight='bold', fontsize='large', alpha=0.2)\n"
   ]
  },
  {
   "cell_type": "markdown",
   "metadata": {},
   "source": [
    "## Observation\n",
    "On week days, more members use the service than on non-work days\n",
    "## Assumption\n",
    "Members use divvy bike to commute"
   ]
  },
  {
   "cell_type": "markdown",
   "metadata": {},
   "source": [
    "## Rush hour"
   ]
  },
  {
   "cell_type": "code",
   "execution_count": 394,
   "metadata": {},
   "outputs": [
    {
     "data": {
      "text/plain": [
       "rush_hour  member_casual\n",
       "0          casual           42.855196\n",
       "           member           57.144804\n",
       "1          casual           31.142981\n",
       "           member           68.857019\n",
       "dtype: float64"
      ]
     },
     "execution_count": 394,
     "metadata": {},
     "output_type": "execute_result"
    }
   ],
   "source": [
    "rush_hour = df.groupby(['rush_hour', 'member_casual']).size() / df.groupby('rush_hour').size() * 100\n",
    "rush_hour"
   ]
  },
  {
   "cell_type": "code",
   "execution_count": 713,
   "metadata": {},
   "outputs": [
    {
     "data": {
      "image/png": "[encoded data removed]",
      "text/plain": [
       "<Figure size 640x480 with 1 Axes>"
      ]
     },
     "metadata": {},
     "output_type": "display_data"
    }
   ],
   "source": [
    "ax_rush_hour = rush_hour.unstack('member_casual').plot.bar(color=['grey', '#FFB400'], width=0.45)\n",
    "ax_rush_hour.set_xlabel('Rush hour or not', fontsize='large')\n",
    "ax_rush_hour.set_xticklabels(['no', 'yes'], rotation=0, fontsize='large')\n",
    "ax_rush_hour.get_yaxis().set_visible(False)\n",
    "ax_rush_hour.spines['top'].set_visible(False)\n",
    "ax_rush_hour.spines['right'].set_visible(False)\n",
    "ax_rush_hour.spines['left'].set_visible(False)\n",
    "ax_rush_hour.spines['bottom'].set_visible(False)\n",
    "ax_rush_hour.legend(loc=9, fontsize='large')\n",
    "ax_rush_hour.axis(ymax=85)\n",
    "for i, v in enumerate(rush_hour):\n",
    "    if i % 2 == 1:\n",
    "        ax_rush_hour.text(int(i/2)+0.05, v+3, str(int(v))+'%', color='#FFB400', fontweight='bold', fontsize='large')\n",
    "    else:\n",
    "        ax_rush_hour.text(int(i/2)-0.2, v+3, str(int(v))+'%', color='grey', fontweight='bold', fontsize='large')\n",
    "\n"
   ]
  },
  {
   "cell_type": "code",
   "execution_count": 759,
   "metadata": {},
   "outputs": [
    {
     "data": {
      "image/png": "[encoded data removed]",
      "text/plain": [
       "<Figure size 800x400 with 1 Axes>"
      ]
     },
     "metadata": {},
     "output_type": "display_data"
    }
   ],
   "source": [
    "ax_rush_hour = rush_hour.unstack('member_casual').plot(figsize=(8, 4), kind='barh', color=['grey', '#FFB400'], width=0.4)\n",
    "for bars in ax_rush_hour.containers[0]:\n",
    "    bars.set_alpha(0.2)\n",
    "ax_rush_hour.set_title(\"Rush hour\", fontweight='bold', fontsize=25, x=0.09, pad=50)\n",
    "# ax.set_ylabel('Rush hour\\n or not', fontsize=14, rotation=0, labelpad=30)\n",
    "ax_rush_hour.set_ylabel('')\n",
    "ax_rush_hour.set_yticklabels(['no', 'yes'], rotation=0, fontsize=12)\n",
    "ax_rush_hour.xaxis.tick_top()\n",
    "# ax.get_xaxis().set_visible(False)\n",
    "# ax.spines['top'].set_visible(False)\n",
    "ax_rush_hour.spines['right'].set_visible(False)\n",
    "ax_rush_hour.spines['left'].set_visible(False)\n",
    "ax_rush_hour.spines['bottom'].set_visible(False)\n",
    "\n",
    "handles, labels = ax_rush_hour.get_legend_handles_labels()\n",
    "handles.reverse()\n",
    "labels.reverse()\n",
    "ax_rush_hour.legend(handles, labels, loc=0, fontsize='large', frameon=False, bbox_to_anchor=(0.7, 0), ncol=2)\n",
    "\n",
    "ax_rush_hour.axis(xmax=83, ymax=1.3)\n",
    "for i, v in enumerate(rush_hour):\n",
    "    if i % 2 == 1:\n",
    "        ax_rush_hour.text(v+3, int(i/2)+0.05, str(int(v))+'%', color='#FFB400', fontweight='bold', fontsize='large')\n",
    "    else:\n",
    "        ax_rush_hour.text(v+2.5, int(i/2)-0.135, str(int(v))+'%', color='grey', fontweight='bold', fontsize='large', alpha=0.2)\n",
    "\n"
   ]
  },
  {
   "cell_type": "markdown",
   "metadata": {},
   "source": [
    "## Ride length"
   ]
  },
  {
   "cell_type": "code",
   "execution_count": 397,
   "metadata": {},
   "outputs": [
    {
     "data": {
      "text/html": [
       "<div>\n",
       "<style scoped>\n",
       "    .dataframe tbody tr th:only-of-type {\n",
       "        vertical-align: middle;\n",
       "    }\n",
       "\n",
       "    .dataframe tbody tr th {\n",
       "        vertical-align: top;\n",
       "    }\n",
       "\n",
       "    .dataframe thead tr th {\n",
       "        text-align: left;\n",
       "    }\n",
       "\n",
       "    .dataframe thead tr:last-of-type th {\n",
       "        text-align: right;\n",
       "    }\n",
       "</style>\n",
       "<table border=\"1\" class=\"dataframe\">\n",
       "  <thead>\n",
       "    <tr>\n",
       "      <th></th>\n",
       "      <th colspan=\"2\" halign=\"left\">ride_length</th>\n",
       "    </tr>\n",
       "    <tr>\n",
       "      <th></th>\n",
       "      <th>mean</th>\n",
       "      <th>median</th>\n",
       "    </tr>\n",
       "    <tr>\n",
       "      <th>member_casual</th>\n",
       "      <th></th>\n",
       "      <th></th>\n",
       "    </tr>\n",
       "  </thead>\n",
       "  <tbody>\n",
       "    <tr>\n",
       "      <th>casual</th>\n",
       "      <td>27.729068</td>\n",
       "      <td>12.00</td>\n",
       "    </tr>\n",
       "    <tr>\n",
       "      <th>member</th>\n",
       "      <td>12.379864</td>\n",
       "      <td>8.55</td>\n",
       "    </tr>\n",
       "  </tbody>\n",
       "</table>\n",
       "</div>"
      ],
      "text/plain": [
       "              ride_length       \n",
       "                     mean median\n",
       "member_casual                   \n",
       "casual          27.729068  12.00\n",
       "member          12.379864   8.55"
      ]
     },
     "execution_count": 397,
     "metadata": {},
     "output_type": "execute_result"
    }
   ],
   "source": [
    "df.groupby('member_casual').agg({'ride_length': ['mean', 'median']})"
   ]
  },
  {
   "cell_type": "code",
   "execution_count": 661,
   "metadata": {},
   "outputs": [
    {
     "data": {
      "text/plain": [
       "ride_length_category  member_casual\n",
       "(0.0, 30.0]           casual           36.004712\n",
       "                      member           63.995288\n",
       "(30.0, 60.0]          casual           57.685356\n",
       "                      member           42.314644\n",
       "(60.0, 120.0]         casual           84.348072\n",
       "                      member           15.651928\n",
       "(120.0, inf]          casual           81.210129\n",
       "                      member           18.789871\n",
       "dtype: float64"
      ]
     },
     "execution_count": 661,
     "metadata": {},
     "output_type": "execute_result"
    }
   ],
   "source": [
    "ride_length_category = df.groupby(['ride_length_category', 'member_casual']).size() / df.groupby('ride_length_category').size() * 100\n",
    "ride_length_category"
   ]
  },
  {
   "cell_type": "code",
   "execution_count": 756,
   "metadata": {},
   "outputs": [
    {
     "data": {
      "image/png": "[encoded data removed]",
      "text/plain": [
       "<Figure size 800x400 with 1 Axes>"
      ]
     },
     "metadata": {},
     "output_type": "display_data"
    }
   ],
   "source": [
    "ax_ride_length_category = ride_length_category.unstack('member_casual').plot(figsize=(8, 4), kind='barh', color=['grey', '#FFB400'], width=0.4)\n",
    "for bars in ax_ride_length_category.containers[0]:\n",
    "    bars.set_alpha(0.2)\n",
    "ax_ride_length_category.set_title(\"Type of ride\", fontweight='bold', fontsize=25, x=0.05, pad=50)\n",
    "ax_ride_length_category.set_ylabel('')\n",
    "ax_ride_length_category.set_yticklabels(['very short', 'short', 'medium', 'long'], rotation=0)\n",
    "ax_ride_length_category.xaxis.tick_top()\n",
    "\n",
    "ax_ride_length_category.spines['bottom'].set_visible(False)\n",
    "ax_ride_length_category.spines['right'].set_visible(False)\n",
    "ax_ride_length_category.spines['left'].set_visible(False)\n",
    "\n",
    "ax_ride_length_category.axis(xmax=119, ymax=3.5)\n",
    "ax_ride_length_category.get_legend().remove()\n",
    "\n",
    "handles, labels = ax_ride_length_category.get_legend_handles_labels()\n",
    "handles.reverse()\n",
    "labels.reverse()\n",
    "ax_ride_length_category.legend(handles, labels, loc=0, fontsize='large', frameon=False, bbox_to_anchor=(0.65, -0.1), ncol=2)\n",
    "\n",
    "for i, v in enumerate(ride_length_category):\n",
    "    if i % 2 == 1:\n",
    "        ax_ride_length_category.text(v+3, int(i/2)+0.06, str(int(v))+'%', color='#FFB400', fontweight='bold', fontsize='large')\n",
    "    else:\n",
    "        ax_ride_length_category.text(v+2.5, int(i/2)-0.23, str(int(v))+'%', color='grey', fontweight='bold', fontsize='large', alpha=0.2)\n"
   ]
  },
  {
   "cell_type": "code",
   "execution_count": 377,
   "metadata": {},
   "outputs": [
    {
     "data": {
      "text/plain": [
       "started_at  member_casual\n",
       "7           casual           406055\n",
       "            member           417433\n",
       "8           casual           305105\n",
       "            member           366249\n",
       "dtype: int64"
      ]
     },
     "execution_count": 377,
     "metadata": {},
     "output_type": "execute_result"
    }
   ],
   "source": [
    "df.groupby([df['started_at'].dt.month, 'member_casual']).size()"
   ]
  },
  {
   "cell_type": "code",
   "execution_count": 378,
   "metadata": {},
   "outputs": [
    {
     "data": {
      "text/plain": [
       "1494842"
      ]
     },
     "execution_count": 378,
     "metadata": {},
     "output_type": "execute_result"
    }
   ],
   "source": [
    "len(df)"
   ]
  },
  {
   "cell_type": "code",
   "execution_count": 79,
   "metadata": {},
   "outputs": [],
   "source": [
    "df1['ride_duration'] = df1['ride_duration'].dt.total_seconds() / 60"
   ]
  },
  {
   "cell_type": "code",
   "execution_count": 80,
   "metadata": {},
   "outputs": [
    {
     "data": {
      "text/plain": [
       "11.75"
      ]
     },
     "execution_count": 80,
     "metadata": {},
     "output_type": "execute_result"
    }
   ],
   "source": [
    "df1.loc[0, 'ride_duration']"
   ]
  },
  {
   "cell_type": "code",
   "execution_count": 90,
   "metadata": {},
   "outputs": [
    {
     "data": {
      "text/plain": [
       "member_casual\n",
       "casual   0 days 00:29:16.685269236\n",
       "member   0 days 00:13:43.100408927\n",
       "Name: ride_duration, dtype: timedelta64[ns]"
      ]
     },
     "execution_count": 90,
     "metadata": {},
     "output_type": "execute_result"
    }
   ],
   "source": [
    "df.groupby('member_casual')['ride_duration'].mean()"
   ]
  },
  {
   "cell_type": "code",
   "execution_count": 145,
   "metadata": {},
   "outputs": [],
   "source": [
    "result = df.groupby('start_station_id')['member_casual'].agg(\n",
    "    Count='size',\n",
    "    Percentage_Member=lambda x: (x == 'member').sum() / len(x) * 100\n",
    ")\n",
    "result_drop_no_use = result[result['Count']>=150]"
   ]
  },
  {
   "cell_type": "code",
   "execution_count": 174,
   "metadata": {},
   "outputs": [],
   "source": [
    "stations_most_used = result_drop_no_use.sort_values(by='Count', ascending=False)[:100]\n",
    "stations_most_used_by_member = result_drop_no_use.sort_values(by='Percentage_Member', ascending=False)[:100]"
   ]
  },
  {
   "cell_type": "code",
   "execution_count": 165,
   "metadata": {},
   "outputs": [
    {
     "data": {
      "text/html": [
       "<div>\n",
       "<style scoped>\n",
       "    .dataframe tbody tr th:only-of-type {\n",
       "        vertical-align: middle;\n",
       "    }\n",
       "\n",
       "    .dataframe tbody tr th {\n",
       "        vertical-align: top;\n",
       "    }\n",
       "\n",
       "    .dataframe thead th {\n",
       "        text-align: right;\n",
       "    }\n",
       "</style>\n",
       "<table border=\"1\" class=\"dataframe\">\n",
       "  <thead>\n",
       "    <tr style=\"text-align: right;\">\n",
       "      <th></th>\n",
       "      <th>Count</th>\n",
       "      <th>Percentage_Member</th>\n",
       "    </tr>\n",
       "    <tr>\n",
       "      <th>start_station_id</th>\n",
       "      <th></th>\n",
       "      <th></th>\n",
       "    </tr>\n",
       "  </thead>\n",
       "  <tbody>\n",
       "    <tr>\n",
       "      <th>KA1503000075</th>\n",
       "      <td>152</td>\n",
       "      <td>58.552632</td>\n",
       "    </tr>\n",
       "    <tr>\n",
       "      <th>314</th>\n",
       "      <td>154</td>\n",
       "      <td>38.311688</td>\n",
       "    </tr>\n",
       "    <tr>\n",
       "      <th>312</th>\n",
       "      <td>156</td>\n",
       "      <td>67.948718</td>\n",
       "    </tr>\n",
       "    <tr>\n",
       "      <th>15470</th>\n",
       "      <td>159</td>\n",
       "      <td>48.427673</td>\n",
       "    </tr>\n",
       "    <tr>\n",
       "      <th>432</th>\n",
       "      <td>159</td>\n",
       "      <td>32.075472</td>\n",
       "    </tr>\n",
       "    <tr>\n",
       "      <th>...</th>\n",
       "      <td>...</td>\n",
       "      <td>...</td>\n",
       "    </tr>\n",
       "    <tr>\n",
       "      <th>TA1308000001</th>\n",
       "      <td>6988</td>\n",
       "      <td>39.324556</td>\n",
       "    </tr>\n",
       "    <tr>\n",
       "      <th>13300</th>\n",
       "      <td>7833</td>\n",
       "      <td>21.434955</td>\n",
       "    </tr>\n",
       "    <tr>\n",
       "      <th>13042</th>\n",
       "      <td>7975</td>\n",
       "      <td>30.934169</td>\n",
       "    </tr>\n",
       "    <tr>\n",
       "      <th>LF-005</th>\n",
       "      <td>8753</td>\n",
       "      <td>36.318976</td>\n",
       "    </tr>\n",
       "    <tr>\n",
       "      <th>13022</th>\n",
       "      <td>14808</td>\n",
       "      <td>20.353863</td>\n",
       "    </tr>\n",
       "  </tbody>\n",
       "</table>\n",
       "<p>483 rows × 2 columns</p>\n",
       "</div>"
      ],
      "text/plain": [
       "                  Count  Percentage_Member\n",
       "start_station_id                          \n",
       "KA1503000075        152          58.552632\n",
       "314                 154          38.311688\n",
       "312                 156          67.948718\n",
       "15470               159          48.427673\n",
       "432                 159          32.075472\n",
       "...                 ...                ...\n",
       "TA1308000001       6988          39.324556\n",
       "13300              7833          21.434955\n",
       "13042              7975          30.934169\n",
       "LF-005             8753          36.318976\n",
       "13022             14808          20.353863\n",
       "\n",
       "[483 rows x 2 columns]"
      ]
     },
     "execution_count": 165,
     "metadata": {},
     "output_type": "execute_result"
    }
   ],
   "source": [
    "stations_most_used_by_member.sort_values(by='Count')"
   ]
  },
  {
   "cell_type": "code",
   "execution_count": 166,
   "metadata": {},
   "outputs": [
    {
     "data": {
      "text/html": [
       "<div>\n",
       "<style scoped>\n",
       "    .dataframe tbody tr th:only-of-type {\n",
       "        vertical-align: middle;\n",
       "    }\n",
       "\n",
       "    .dataframe tbody tr th {\n",
       "        vertical-align: top;\n",
       "    }\n",
       "\n",
       "    .dataframe thead th {\n",
       "        text-align: right;\n",
       "    }\n",
       "</style>\n",
       "<table border=\"1\" class=\"dataframe\">\n",
       "  <thead>\n",
       "    <tr style=\"text-align: right;\">\n",
       "      <th></th>\n",
       "      <th>Count</th>\n",
       "      <th>Percentage_Member</th>\n",
       "    </tr>\n",
       "    <tr>\n",
       "      <th>start_station_id</th>\n",
       "      <th></th>\n",
       "      <th></th>\n",
       "    </tr>\n",
       "  </thead>\n",
       "  <tbody>\n",
       "    <tr>\n",
       "      <th>13022</th>\n",
       "      <td>14808</td>\n",
       "      <td>20.353863</td>\n",
       "    </tr>\n",
       "    <tr>\n",
       "      <th>LF-005</th>\n",
       "      <td>8753</td>\n",
       "      <td>36.318976</td>\n",
       "    </tr>\n",
       "    <tr>\n",
       "      <th>13042</th>\n",
       "      <td>7975</td>\n",
       "      <td>30.934169</td>\n",
       "    </tr>\n",
       "    <tr>\n",
       "      <th>13300</th>\n",
       "      <td>7833</td>\n",
       "      <td>21.434955</td>\n",
       "    </tr>\n",
       "    <tr>\n",
       "      <th>TA1308000001</th>\n",
       "      <td>6988</td>\n",
       "      <td>39.324556</td>\n",
       "    </tr>\n",
       "    <tr>\n",
       "      <th>...</th>\n",
       "      <td>...</td>\n",
       "      <td>...</td>\n",
       "    </tr>\n",
       "    <tr>\n",
       "      <th>432</th>\n",
       "      <td>159</td>\n",
       "      <td>32.075472</td>\n",
       "    </tr>\n",
       "    <tr>\n",
       "      <th>15470</th>\n",
       "      <td>159</td>\n",
       "      <td>48.427673</td>\n",
       "    </tr>\n",
       "    <tr>\n",
       "      <th>312</th>\n",
       "      <td>156</td>\n",
       "      <td>67.948718</td>\n",
       "    </tr>\n",
       "    <tr>\n",
       "      <th>314</th>\n",
       "      <td>154</td>\n",
       "      <td>38.311688</td>\n",
       "    </tr>\n",
       "    <tr>\n",
       "      <th>KA1503000075</th>\n",
       "      <td>152</td>\n",
       "      <td>58.552632</td>\n",
       "    </tr>\n",
       "  </tbody>\n",
       "</table>\n",
       "<p>483 rows × 2 columns</p>\n",
       "</div>"
      ],
      "text/plain": [
       "                  Count  Percentage_Member\n",
       "start_station_id                          \n",
       "13022             14808          20.353863\n",
       "LF-005             8753          36.318976\n",
       "13042              7975          30.934169\n",
       "13300              7833          21.434955\n",
       "TA1308000001       6988          39.324556\n",
       "...                 ...                ...\n",
       "432                 159          32.075472\n",
       "15470               159          48.427673\n",
       "312                 156          67.948718\n",
       "314                 154          38.311688\n",
       "KA1503000075        152          58.552632\n",
       "\n",
       "[483 rows x 2 columns]"
      ]
     },
     "execution_count": 166,
     "metadata": {},
     "output_type": "execute_result"
    }
   ],
   "source": [
    "stations_most_used"
   ]
  },
  {
   "cell_type": "code",
   "execution_count": 175,
   "metadata": {},
   "outputs": [
    {
     "data": {
      "image/png": "[encoded data removed]",
      "text/plain": [
       "<Figure size 640x480 with 1 Axes>"
      ]
     },
     "metadata": {},
     "output_type": "display_data"
    }
   ],
   "source": [
    "ax = stations_most_used.plot.scatter('Count', 'Percentage_Member')\n"
   ]
  },
  {
   "cell_type": "code",
   "execution_count": 176,
   "metadata": {},
   "outputs": [
    {
     "data": {
      "image/png": "[encoded data removed]",
      "text/plain": [
       "<Figure size 640x480 with 1 Axes>"
      ]
     },
     "metadata": {},
     "output_type": "display_data"
    }
   ],
   "source": [
    "ax1 = stations_most_used_by_member.plot.scatter('Count', 'Percentage_Member')"
   ]
  },
  {
   "cell_type": "code",
   "execution_count": 177,
   "metadata": {},
   "outputs": [
    {
     "data": {
      "text/plain": [
       "12"
      ]
     },
     "execution_count": 177,
     "metadata": {},
     "output_type": "execute_result"
    }
   ],
   "source": [
    "len(stations_most_used_by_member.index.intersection(stations_most_used.index))"
   ]
  },
  {
   "cell_type": "code",
   "execution_count": null,
   "metadata": {},
   "outputs": [],
   "source": []
  }
 ],
 "metadata": {
  "kernelspec": {
   "display_name": "Python 3",
   "language": "python",
   "name": "python3"
  },
  "language_info": {
   "codemirror_mode": {
    "name": "ipython",
    "version": 3
   },
   "file_extension": ".py",
   "mimetype": "text/x-python",
   "name": "python",
   "nbconvert_exporter": "python",
   "pygments_lexer": "ipython3",
   "version": "3.9.5"
  },
  "orig_nbformat": 4
 },
 "nbformat": 4,
 "nbformat_minor": 2
}
